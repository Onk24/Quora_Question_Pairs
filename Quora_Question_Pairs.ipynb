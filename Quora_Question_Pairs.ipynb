{
 "cells": [
  {
   "cell_type": "markdown",
   "metadata": {},
   "source": [
    "# Importing Libraries and Data"
   ]
  },
  {
   "cell_type": "code",
   "execution_count": 1,
   "metadata": {
    "ExecuteTime": {
     "end_time": "2020-07-09T22:26:59.979471Z",
     "start_time": "2020-07-09T22:26:50.373766Z"
    }
   },
   "outputs": [
    {
     "name": "stderr",
     "output_type": "stream",
     "text": [
      "Using TensorFlow backend.\n"
     ]
    }
   ],
   "source": [
    "import numpy as np\n",
    "import pandas as pd\n",
    "import nltk\n",
    "from nltk.corpus import stopwords, stopwords\n",
    "import re\n",
    "import seaborn as sns\n",
    "from matplotlib import pyplot as plt\n",
    "from keras import Sequential\n",
    "from keras.layers import Embedding, LSTM, add, multiply, Conv1D, GlobalAveragePooling1D, MaxPooling1D, Lambda, Flatten, Dense, Input, merge, concatenate, Dropout, BatchNormalization\n",
    "from keras import Model\n",
    "from keras.initializers import Constant\n",
    "from keras.preprocessing.sequence import pad_sequences\n",
    "from keras.preprocessing.text import one_hot, Tokenizer\n",
    "from sklearn.preprocessing import MinMaxScaler\n",
    "from sklearn.metrics import accuracy_score\n",
    "from sklearn.metrics.pairwise import cosine_similarity\n",
    "from sklearn.feature_extraction.text import CountVectorizer, TfidfVectorizer\n",
    "from nltk import PorterStemmer\n",
    "from nltk import WordNetLemmatizer\n",
    "from sklearn.model_selection import train_test_split\n",
    "from sklearn.metrics import log_loss, accuracy_score\n",
    "from sklearn.linear_model import LogisticRegression\n",
    "from gensim.models import Word2Vec\n",
    "from qqp_utils import *\n",
    "from keras.callbacks import EarlyStopping\n",
    "from collections import Counter\n",
    "import itertools\n",
    "from sklearn.ensemble import RandomForestClassifier\n",
    "from xgboost import XGBClassifier\n",
    "import tensorflow as tf\n",
    "import keras.backend as K\n",
    "from keras.optimizers import Adam"
   ]
  },
  {
   "cell_type": "code",
   "execution_count": 2,
   "metadata": {
    "ExecuteTime": {
     "end_time": "2020-07-09T22:27:05.351538Z",
     "start_time": "2020-07-09T22:26:59.980467Z"
    }
   },
   "outputs": [],
   "source": [
    "train_df = pd.read_csv(\"train.csv\")\n",
    "test_df = pd.read_csv(\"test.csv\")"
   ]
  },
  {
   "cell_type": "markdown",
   "metadata": {},
   "source": [
    "# EDA"
   ]
  },
  {
   "cell_type": "code",
   "execution_count": 7,
   "metadata": {
    "ExecuteTime": {
     "end_time": "2020-07-09T22:38:14.190142Z",
     "start_time": "2020-07-09T22:38:14.185155Z"
    }
   },
   "outputs": [
    {
     "data": {
      "text/plain": [
       "(404290, 6)"
      ]
     },
     "execution_count": 7,
     "metadata": {},
     "output_type": "execute_result"
    }
   ],
   "source": [
    "train_df.shape"
   ]
  },
  {
   "cell_type": "code",
   "execution_count": 4,
   "metadata": {
    "ExecuteTime": {
     "end_time": "2020-07-09T22:27:05.377138Z",
     "start_time": "2020-07-09T22:27:05.358895Z"
    }
   },
   "outputs": [
    {
     "data": {
      "text/html": [
       "<div>\n",
       "<style scoped>\n",
       "    .dataframe tbody tr th:only-of-type {\n",
       "        vertical-align: middle;\n",
       "    }\n",
       "\n",
       "    .dataframe tbody tr th {\n",
       "        vertical-align: top;\n",
       "    }\n",
       "\n",
       "    .dataframe thead th {\n",
       "        text-align: right;\n",
       "    }\n",
       "</style>\n",
       "<table border=\"1\" class=\"dataframe\">\n",
       "  <thead>\n",
       "    <tr style=\"text-align: right;\">\n",
       "      <th></th>\n",
       "      <th>id</th>\n",
       "      <th>qid1</th>\n",
       "      <th>qid2</th>\n",
       "      <th>question1</th>\n",
       "      <th>question2</th>\n",
       "      <th>is_duplicate</th>\n",
       "    </tr>\n",
       "  </thead>\n",
       "  <tbody>\n",
       "    <tr>\n",
       "      <th>0</th>\n",
       "      <td>0</td>\n",
       "      <td>1</td>\n",
       "      <td>2</td>\n",
       "      <td>What is the step by step guide to invest in sh...</td>\n",
       "      <td>What is the step by step guide to invest in sh...</td>\n",
       "      <td>0</td>\n",
       "    </tr>\n",
       "    <tr>\n",
       "      <th>1</th>\n",
       "      <td>1</td>\n",
       "      <td>3</td>\n",
       "      <td>4</td>\n",
       "      <td>What is the story of Kohinoor (Koh-i-Noor) Dia...</td>\n",
       "      <td>What would happen if the Indian government sto...</td>\n",
       "      <td>0</td>\n",
       "    </tr>\n",
       "    <tr>\n",
       "      <th>2</th>\n",
       "      <td>2</td>\n",
       "      <td>5</td>\n",
       "      <td>6</td>\n",
       "      <td>How can I increase the speed of my internet co...</td>\n",
       "      <td>How can Internet speed be increased by hacking...</td>\n",
       "      <td>0</td>\n",
       "    </tr>\n",
       "    <tr>\n",
       "      <th>3</th>\n",
       "      <td>3</td>\n",
       "      <td>7</td>\n",
       "      <td>8</td>\n",
       "      <td>Why am I mentally very lonely? How can I solve...</td>\n",
       "      <td>Find the remainder when [math]23^{24}[/math] i...</td>\n",
       "      <td>0</td>\n",
       "    </tr>\n",
       "    <tr>\n",
       "      <th>4</th>\n",
       "      <td>4</td>\n",
       "      <td>9</td>\n",
       "      <td>10</td>\n",
       "      <td>Which one dissolve in water quikly sugar, salt...</td>\n",
       "      <td>Which fish would survive in salt water?</td>\n",
       "      <td>0</td>\n",
       "    </tr>\n",
       "  </tbody>\n",
       "</table>\n",
       "</div>"
      ],
      "text/plain": [
       "   id  qid1  qid2                                          question1  \\\n",
       "0   0     1     2  What is the step by step guide to invest in sh...   \n",
       "1   1     3     4  What is the story of Kohinoor (Koh-i-Noor) Dia...   \n",
       "2   2     5     6  How can I increase the speed of my internet co...   \n",
       "3   3     7     8  Why am I mentally very lonely? How can I solve...   \n",
       "4   4     9    10  Which one dissolve in water quikly sugar, salt...   \n",
       "\n",
       "                                           question2  is_duplicate  \n",
       "0  What is the step by step guide to invest in sh...             0  \n",
       "1  What would happen if the Indian government sto...             0  \n",
       "2  How can Internet speed be increased by hacking...             0  \n",
       "3  Find the remainder when [math]23^{24}[/math] i...             0  \n",
       "4            Which fish would survive in salt water?             0  "
      ]
     },
     "execution_count": 4,
     "metadata": {},
     "output_type": "execute_result"
    }
   ],
   "source": [
    "train_df.head(5)"
   ]
  },
  {
   "cell_type": "markdown",
   "metadata": {},
   "source": [
    "## Distribution of Target Class "
   ]
  },
  {
   "cell_type": "code",
   "execution_count": 5,
   "metadata": {
    "ExecuteTime": {
     "end_time": "2020-07-09T22:28:47.942360Z",
     "start_time": "2020-07-09T22:28:47.900437Z"
    }
   },
   "outputs": [
    {
     "data": {
      "text/plain": [
       "0    0.630802\n",
       "1    0.369198\n",
       "Name: is_duplicate, dtype: float64"
      ]
     },
     "execution_count": 5,
     "metadata": {},
     "output_type": "execute_result"
    }
   ],
   "source": [
    "train_df[\"is_duplicate\"].value_counts(normalize = True)"
   ]
  },
  {
   "cell_type": "code",
   "execution_count": 6,
   "metadata": {
    "ExecuteTime": {
     "end_time": "2020-07-09T22:28:48.934308Z",
     "start_time": "2020-07-09T22:28:48.795172Z"
    }
   },
   "outputs": [
    {
     "data": {
      "image/png": "[encoded data removed]",
      "text/plain": [
       "<Figure size 432x288 with 1 Axes>"
      ]
     },
     "metadata": {
      "needs_background": "light"
     },
     "output_type": "display_data"
    }
   ],
   "source": [
    "ax = sns.countplot(train_df[\"is_duplicate\"])\n",
    "ax.set_title(\"Class Distribution\");"
   ]
  },
  {
   "cell_type": "markdown",
   "metadata": {},
   "source": [
    "## Questions Analysis "
   ]
  },
  {
   "cell_type": "code",
   "execution_count": 96,
   "metadata": {
    "ExecuteTime": {
     "end_time": "2020-07-08T15:19:36.905756Z",
     "start_time": "2020-07-08T15:19:36.900849Z"
    }
   },
   "outputs": [
    {
     "data": {
      "text/plain": [
       "id               int64\n",
       "qid1             int64\n",
       "qid2             int64\n",
       "question1       object\n",
       "question2       object\n",
       "is_duplicate     int64\n",
       "dtype: object"
      ]
     },
     "execution_count": 96,
     "metadata": {},
     "output_type": "execute_result"
    }
   ],
   "source": [
    "train_df.dtypes"
   ]
  },
  {
   "cell_type": "code",
   "execution_count": 97,
   "metadata": {
    "ExecuteTime": {
     "end_time": "2020-07-08T15:19:37.647627Z",
     "start_time": "2020-07-08T15:19:37.532228Z"
    }
   },
   "outputs": [],
   "source": [
    "train_df[\"question1\"] = train_df[\"question1\"].astype(str)\n",
    "train_df[\"question2\"] = train_df[\"question2\"].astype(str)"
   ]
  },
  {
   "cell_type": "code",
   "execution_count": 98,
   "metadata": {
    "ExecuteTime": {
     "end_time": "2020-07-08T15:19:38.379814Z",
     "start_time": "2020-07-08T15:19:38.250147Z"
    }
   },
   "outputs": [
    {
     "data": {
      "text/plain": [
       "1169"
      ]
     },
     "execution_count": 98,
     "metadata": {},
     "output_type": "execute_result"
    }
   ],
   "source": [
    "max(train_df[\"question2\"].apply(len))"
   ]
  },
  {
   "cell_type": "markdown",
   "metadata": {},
   "source": [
    "### Distribution of Questions "
   ]
  },
  {
   "cell_type": "code",
   "execution_count": 99,
   "metadata": {
    "ExecuteTime": {
     "end_time": "2020-07-08T15:19:40.534803Z",
     "start_time": "2020-07-08T15:19:39.647995Z"
    }
   },
   "outputs": [
    {
     "data": {
      "image/png": "[encoded data removed]",
      "text/plain": [
       "<Figure size 576x288 with 1 Axes>"
      ]
     },
     "metadata": {
      "needs_background": "light"
     },
     "output_type": "display_data"
    }
   ],
   "source": [
    "plt.figure(figsize = (8,4))\n",
    "plt.hist(train_df[\"question1\"].apply(len), bins = 200, range = [0,200], color = \"b\", alpha = 0.5)\n",
    "plt.hist(train_df[\"question2\"].apply(len), bins = 200, range = [0,200], color = \"r\", alpha = 0.5)\n",
    "plt.title(\"Distribution char length of 2 questions\")\n",
    "plt.xlabel(\"Number of Characters\")\n",
    "plt.ylabel(\"Counts\")\n",
    "plt.legend([\"question1\", \"question2\"]);"
   ]
  },
  {
   "cell_type": "markdown",
   "metadata": {},
   "source": [
    "The 2 questions have almost identical distribution  in terms of number of characters"
   ]
  },
  {
   "cell_type": "markdown",
   "metadata": {},
   "source": [
    "### Distribution of difference in lengths by class "
   ]
  },
  {
   "cell_type": "code",
   "execution_count": 100,
   "metadata": {
    "ExecuteTime": {
     "end_time": "2020-07-08T15:19:44.749560Z",
     "start_time": "2020-07-08T15:19:44.557117Z"
    }
   },
   "outputs": [],
   "source": [
    "len1 = train_df[\"question1\"].apply(len)\n",
    "len2 = train_df[\"question2\"].apply(len)\n",
    "diff_len = np.abs(len1-len2) "
   ]
  },
  {
   "cell_type": "code",
   "execution_count": 101,
   "metadata": {
    "ExecuteTime": {
     "end_time": "2020-07-08T15:19:45.630307Z",
     "start_time": "2020-07-08T15:19:45.241777Z"
    }
   },
   "outputs": [
    {
     "data": {
      "image/png": "[encoded data removed]",
      "text/plain": [
       "<Figure size 576x288 with 1 Axes>"
      ]
     },
     "metadata": {
      "needs_background": "light"
     },
     "output_type": "display_data"
    }
   ],
   "source": [
    "plt.figure(figsize = (8,4))\n",
    "plt.hist(diff_len[train_df[\"is_duplicate\"]==0], bins = 100, range = [0,200], color = \"g\", alpha =0.5)\n",
    "plt.hist(diff_len[train_df[\"is_duplicate\"]==1], bins = 100, range = [0,200], color = \"r\", alpha = 0.5)\n",
    "plt.title(\"Distribution diff in char length by class\")\n",
    "plt.xlabel(\"Number of Characters\")\n",
    "plt.ylabel(\"Counts\")\n",
    "plt.legend([\"Not Duplicate\", \"Duplicate\"]);"
   ]
  },
  {
   "cell_type": "markdown",
   "metadata": {},
   "source": [
    "Duplicate class the difference between characters is less "
   ]
  },
  {
   "cell_type": "markdown",
   "metadata": {},
   "source": [
    "# Cleaning & Lemmatizing the Data "
   ]
  },
  {
   "cell_type": "markdown",
   "metadata": {},
   "source": [
    "## Cleaning\n",
    "Steps:\n",
    "- Lowercase\n",
    "- Tokenize\n",
    "- Remove Stopwords\n",
    "- Remove non alpha numeric characters"
   ]
  },
  {
   "cell_type": "code",
   "execution_count": 102,
   "metadata": {
    "ExecuteTime": {
     "end_time": "2020-07-08T15:19:50.735059Z",
     "start_time": "2020-07-08T15:19:50.729055Z"
    }
   },
   "outputs": [],
   "source": [
    "def clean_data(text):\n",
    "    text = text.lower()\n",
    "    words = nltk.word_tokenize(text)\n",
    "    words = [w for w in words if w not in stopwords.words(\"english\") and w.isalnum()]\n",
    "    return words"
   ]
  },
  {
   "cell_type": "code",
   "execution_count": null,
   "metadata": {},
   "outputs": [],
   "source": [
    "q1 = train_df[\"question1\"].apply(clean_data)\n",
    "q2 = train_df[\"question2\"].apply(clean_data)"
   ]
  },
  {
   "cell_type": "markdown",
   "metadata": {},
   "source": [
    "### Lemmatize"
   ]
  },
  {
   "cell_type": "code",
   "execution_count": null,
   "metadata": {
    "ExecuteTime": {
     "end_time": "2020-07-08T15:21:11.771796Z",
     "start_time": "2020-07-08T15:20:50.705Z"
    }
   },
   "outputs": [],
   "source": [
    "lemma = WordNetLemmatizer()\n",
    "def lemmatize(text):\n",
    "    return [lemma.lemmatize(w) for w in text]    "
   ]
  },
  {
   "cell_type": "code",
   "execution_count": null,
   "metadata": {
    "ExecuteTime": {
     "end_time": "2020-07-08T15:21:11.772793Z",
     "start_time": "2020-07-08T15:20:51.537Z"
    }
   },
   "outputs": [],
   "source": [
    "q1_lem = q1.apply(lemmatize)\n",
    "q2_lem = q2.apply(lemmatize) "
   ]
  },
  {
   "cell_type": "code",
   "execution_count": null,
   "metadata": {
    "ExecuteTime": {
     "end_time": "2020-07-08T15:21:11.773791Z",
     "start_time": "2020-07-08T15:20:51.993Z"
    }
   },
   "outputs": [],
   "source": [
    "q1_sent = q1_lem.apply(\" \".join)\n",
    "q2_sent = q2_lem.apply(\" \".join)"
   ]
  },
  {
   "cell_type": "code",
   "execution_count": 104,
   "metadata": {
    "ExecuteTime": {
     "end_time": "2020-07-08T15:21:32.814692Z",
     "start_time": "2020-07-08T15:21:32.682650Z"
    }
   },
   "outputs": [],
   "source": [
    "RANDOM_STATE = 24\n",
    "ind_train , ind_test, y_train, y_test = train_test_split(np.arange(0,train_df.shape[0]), train_df[\"is_duplicate\"], train_size = 0.95, stratify = train_df[\"is_duplicate\"], random_state = RANDOM_STATE)"
   ]
  },
  {
   "cell_type": "code",
   "execution_count": null,
   "metadata": {
    "ExecuteTime": {
     "end_time": "2020-07-08T15:21:11.775785Z",
     "start_time": "2020-07-08T15:21:00.331Z"
    }
   },
   "outputs": [],
   "source": [
    "X_clean = pd.DataFrame({\"q1\":q1_sent, \"q2\":q2_sent})\n",
    "X_train, X_test = X_clean.iloc[ind_train, :], X_clean.iloc[ind_test, :]\n",
    "X_clean.to_csv(\"X_clean.csv\", index = False)"
   ]
  },
  {
   "cell_type": "code",
   "execution_count": 134,
   "metadata": {
    "ExecuteTime": {
     "end_time": "2020-07-08T15:30:11.375778Z",
     "start_time": "2020-07-08T15:30:10.707805Z"
    }
   },
   "outputs": [],
   "source": [
    "X_clean = pd.read_csv(\"X_clean.csv\")\n",
    "X_clean[\"q1\"] = X_clean[\"q1\"].apply(str)\n",
    "X_clean[\"q2\"] = X_clean[\"q2\"].apply(str)\n",
    "X_train, X_test = X_clean.iloc[ind_train, :], X_clean.iloc[ind_test, :]"
   ]
  },
  {
   "cell_type": "markdown",
   "metadata": {},
   "source": [
    "# Predictive Modeling"
   ]
  },
  {
   "cell_type": "markdown",
   "metadata": {},
   "source": [
    "## Difference in char length  & Char count similarity Approach\n",
    "- Count characters (2-6)\n",
    "- Find cosine similarity between 2 questions' char counts\n",
    "- Apply predictive models with cosine similarity and length difference between questions as features"
   ]
  },
  {
   "cell_type": "markdown",
   "metadata": {},
   "source": [
    "### Diff Lengths "
   ]
  },
  {
   "cell_type": "code",
   "execution_count": 119,
   "metadata": {
    "ExecuteTime": {
     "end_time": "2020-07-08T15:25:38.380874Z",
     "start_time": "2020-07-08T15:25:38.351584Z"
    }
   },
   "outputs": [],
   "source": [
    "diff_len_train = diff_len[ind_train]\n",
    "diff_len_test = diff_len[ind_test]"
   ]
  },
  {
   "cell_type": "markdown",
   "metadata": {},
   "source": [
    "### Char Counts"
   ]
  },
  {
   "cell_type": "code",
   "execution_count": 135,
   "metadata": {
    "ExecuteTime": {
     "end_time": "2020-07-08T15:30:20.878234Z",
     "start_time": "2020-07-08T15:30:20.860260Z"
    }
   },
   "outputs": [],
   "source": [
    "Questions_train = pd.concat([X_train[\"q1\"], X_train[\"q2\"]], axis = 0)"
   ]
  },
  {
   "cell_type": "code",
   "execution_count": null,
   "metadata": {
    "ExecuteTime": {
     "end_time": "2020-07-08T15:21:11.779774Z",
     "start_time": "2020-07-08T15:21:06.441Z"
    }
   },
   "outputs": [],
   "source": [
    "count_vect = CountVectorizer(analyzer = \"char\", ngram_range = (2,6))\n",
    "count_vect.fit(Questions_train);"
   ]
  },
  {
   "cell_type": "code",
   "execution_count": null,
   "metadata": {
    "ExecuteTime": {
     "end_time": "2020-07-08T15:21:11.780772Z",
     "start_time": "2020-07-08T15:21:07.016Z"
    }
   },
   "outputs": [],
   "source": [
    "charc_q1_train = count_vect.transform(X_train[\"q1\"])\n",
    "charc_q2_train = count_vect.transform(X_train[\"q2\"])\n",
    "charc_q1_test = count_vect.transform(X_test[\"q1\"])\n",
    "charc_q2_test = count_vect.transform(X_test[\"q2\"])"
   ]
  },
  {
   "cell_type": "markdown",
   "metadata": {},
   "source": [
    "### Cosine Similarity"
   ]
  },
  {
   "cell_type": "code",
   "execution_count": null,
   "metadata": {
    "ExecuteTime": {
     "end_time": "2020-07-08T15:21:11.781769Z",
     "start_time": "2020-07-08T15:21:08.265Z"
    }
   },
   "outputs": [],
   "source": [
    "def cosine_sim(vect1, vect2):\n",
    "    cos_sim = np.empty([vect1.shape[0], 1])\n",
    "    for i,vs in enumerate(zip(vect1, vect2)):\n",
    "        cos_sim[i] = (float(cosine_similarity(vs[0], vs[1])))\n",
    "    return cos_sim"
   ]
  },
  {
   "cell_type": "code",
   "execution_count": null,
   "metadata": {
    "ExecuteTime": {
     "end_time": "2020-07-08T15:21:11.783767Z",
     "start_time": "2020-07-08T15:21:08.656Z"
    }
   },
   "outputs": [],
   "source": [
    "cos_sim_train = cosine_sim(charc_q1_train, charc_q2_train)\n",
    "pd.DataFrame({\"cos_sim\":list(cos_sim_train[:,0])}).to_csv(\"cos_sim_train.csv\", index = False)"
   ]
  },
  {
   "cell_type": "code",
   "execution_count": 121,
   "metadata": {
    "ExecuteTime": {
     "end_time": "2020-07-08T15:26:07.433893Z",
     "start_time": "2020-07-08T15:26:07.358376Z"
    }
   },
   "outputs": [],
   "source": [
    "#cos_sim_train = pd.read_csv(\"cos_sim_train.csv\")"
   ]
  },
  {
   "cell_type": "code",
   "execution_count": 122,
   "metadata": {
    "ExecuteTime": {
     "end_time": "2020-07-08T15:26:08.397685Z",
     "start_time": "2020-07-08T15:26:08.321621Z"
    }
   },
   "outputs": [],
   "source": [
    "cos_sim_train = np.array(pd.read_csv(\"cos_sim_train.csv\"))"
   ]
  },
  {
   "cell_type": "code",
   "execution_count": 45,
   "metadata": {
    "ExecuteTime": {
     "end_time": "2020-07-05T14:54:47.114809Z",
     "start_time": "2020-07-05T14:53:36.305520Z"
    }
   },
   "outputs": [],
   "source": [
    "cos_sim_test = cosine_sim(charc_q1_test, charc_q2_test)\n",
    "pd.DataFrame({\"cos_sim\":list(cos_sim_test[:,0])}).to_csv(\"cos_sim_test.csv\", index = False)"
   ]
  },
  {
   "cell_type": "code",
   "execution_count": 123,
   "metadata": {
    "ExecuteTime": {
     "end_time": "2020-07-08T15:26:15.318774Z",
     "start_time": "2020-07-08T15:26:15.301822Z"
    }
   },
   "outputs": [],
   "source": [
    "#cos_sim_test = pd.read_csv(\"cos_sim_test.csv\")"
   ]
  },
  {
   "cell_type": "code",
   "execution_count": 124,
   "metadata": {
    "ExecuteTime": {
     "end_time": "2020-07-08T15:26:19.557096Z",
     "start_time": "2020-07-08T15:26:19.546527Z"
    }
   },
   "outputs": [],
   "source": [
    "cos_sim_test = np.array(pd.read_csv(\"cos_sim_test.csv\"))"
   ]
  },
  {
   "cell_type": "markdown",
   "metadata": {},
   "source": [
    "### Combining Features\n",
    "- Combine diff_len and cos_sim with char counts as 2 feature for the model"
   ]
  },
  {
   "cell_type": "code",
   "execution_count": 193,
   "metadata": {
    "ExecuteTime": {
     "end_time": "2020-07-08T16:06:59.829938Z",
     "start_time": "2020-07-08T16:06:59.744586Z"
    }
   },
   "outputs": [],
   "source": [
    "Features_train = pd.DataFrame({\"diff_len\": diff_len_train, \"cos_sim\": list(cos_sim_train)})\n",
    "Features_test = pd.DataFrame({\"diff_len\": diff_len_test, \"cos_sim\": list(cos_sim_test)})"
   ]
  },
  {
   "cell_type": "code",
   "execution_count": 194,
   "metadata": {
    "ExecuteTime": {
     "end_time": "2020-07-08T16:07:02.017830Z",
     "start_time": "2020-07-08T16:07:01.895172Z"
    }
   },
   "outputs": [],
   "source": [
    "scaler = MinMaxScaler()\n",
    "scaler.fit(Features_train)\n",
    "Features_train_n = scaler.transform(Features_train)\n",
    "Features_test_n = scaler.transform(Features_test)"
   ]
  },
  {
   "cell_type": "markdown",
   "metadata": {},
   "source": [
    "### Modeling "
   ]
  },
  {
   "cell_type": "markdown",
   "metadata": {},
   "source": [
    "#### Logistic Regression"
   ]
  },
  {
   "cell_type": "code",
   "execution_count": 26,
   "metadata": {
    "ExecuteTime": {
     "end_time": "2020-07-08T14:40:43.431842Z",
     "start_time": "2020-07-08T14:40:43.421763Z"
    }
   },
   "outputs": [],
   "source": [
    "Summary_CS = pd.DataFrame(columns = [\"Model\", \"Log Loss\",\"Accuracy\"])"
   ]
  },
  {
   "cell_type": "code",
   "execution_count": 27,
   "metadata": {
    "ExecuteTime": {
     "end_time": "2020-07-08T14:40:46.027637Z",
     "start_time": "2020-07-08T14:40:44.763155Z"
    }
   },
   "outputs": [],
   "source": [
    "lr = LogisticRegression()\n",
    "lr.fit(Features_train_n , y_train);"
   ]
  },
  {
   "cell_type": "code",
   "execution_count": 28,
   "metadata": {
    "ExecuteTime": {
     "end_time": "2020-07-08T14:40:46.050916Z",
     "start_time": "2020-07-08T14:40:46.030585Z"
    }
   },
   "outputs": [],
   "source": [
    "preds_train = lr.predict_proba(Features_train_n)[:,1]"
   ]
  },
  {
   "cell_type": "code",
   "execution_count": 29,
   "metadata": {
    "ExecuteTime": {
     "end_time": "2020-07-08T14:40:48.052140Z",
     "start_time": "2020-07-08T14:40:46.630939Z"
    }
   },
   "outputs": [
    {
     "data": {
      "image/png": "[encoded data removed]",
      "text/plain": [
       "<Figure size 1008x288 with 2 Axes>"
      ]
     },
     "metadata": {
      "needs_background": "light"
     },
     "output_type": "display_data"
    }
   ],
   "source": [
    "fig, ax = plt.subplots(1,2, figsize = (14,4))\n",
    "ax[0].hist(preds_train[y_train==0], bins = 100, alpha = 0.7)\n",
    "ax[0].hist(preds_train[y_train==1], bins = 100, alpha = 0.7)\n",
    "ax[0].set_title(\"Distribution of Probablities by Class\")\n",
    "ax[0].legend([\"0\",\"1\"])\n",
    "\n",
    "output_lr = pd.DataFrame({\"LR_preds\":preds_train, \"y\":y_train})\n",
    "sns.boxplot(x=\"y\", y=\"LR_preds\", data = output_lr, ax = ax[1])\n",
    "ax[1].set_ylabel(\"Predicted Probablities\")\n",
    "ax[1].set_xlabel(\"Duplicate\")\n",
    "ax[1].set_title(\"Probablities by Class\");"
   ]
  },
  {
   "cell_type": "code",
   "execution_count": 30,
   "metadata": {
    "ExecuteTime": {
     "end_time": "2020-07-08T14:40:48.063605Z",
     "start_time": "2020-07-08T14:40:48.053485Z"
    }
   },
   "outputs": [],
   "source": [
    "preds_test = lr.predict_proba(Features_test_n)[:,1]\n",
    "log_loss_score = log_loss(y_test, preds_test)\n",
    "accuracy = lr.score(Features_test_n, y_test)"
   ]
  },
  {
   "cell_type": "code",
   "execution_count": 31,
   "metadata": {
    "ExecuteTime": {
     "end_time": "2020-07-08T14:40:48.766738Z",
     "start_time": "2020-07-08T14:40:48.064954Z"
    }
   },
   "outputs": [
    {
     "data": {
      "image/png": "[encoded data removed]",
      "text/plain": [
       "<Figure size 1008x288 with 2 Axes>"
      ]
     },
     "metadata": {
      "needs_background": "light"
     },
     "output_type": "display_data"
    }
   ],
   "source": [
    "fig, ax = plt.subplots(1,2, figsize = (14,4))\n",
    "ax[0].hist(preds_test[y_test==0], bins = 100, alpha = 0.7)\n",
    "ax[0].hist(preds_test[y_test==1], bins = 100, alpha = 0.7)\n",
    "ax[0].set_title(\"Distribution of Probablities by Class (Test Set)\")\n",
    "ax[0].legend([\"0\",\"1\"])\n",
    "\n",
    "output_lr = pd.DataFrame({\"LR_preds\":preds_test, \"y\":y_test})\n",
    "sns.boxplot(x=\"y\", y=\"LR_preds\", data = output_lr, ax = ax[1])\n",
    "ax[1].set_ylabel(\"Predicted Probablities\")\n",
    "ax[1].set_xlabel(\"Duplicate\")\n",
    "ax[1].set_title(\"Probablities by Class (Test Set)\");"
   ]
  },
  {
   "cell_type": "code",
   "execution_count": 32,
   "metadata": {
    "ExecuteTime": {
     "end_time": "2020-07-08T14:40:49.526068Z",
     "start_time": "2020-07-08T14:40:49.515177Z"
    }
   },
   "outputs": [],
   "source": [
    "Summary_CS  = Summary_CS.append({\"Model\":\"Diff_len & Char_counts with Logistic Regression\", \"Log Loss\":np.round(log_loss_score,2), \"Accuracy\":np.round(accuracy,2)}, ignore_index = True)"
   ]
  },
  {
   "cell_type": "code",
   "execution_count": 33,
   "metadata": {
    "ExecuteTime": {
     "end_time": "2020-07-08T14:40:49.752774Z",
     "start_time": "2020-07-08T14:40:49.745088Z"
    }
   },
   "outputs": [
    {
     "data": {
      "text/html": [
       "<div>\n",
       "<style scoped>\n",
       "    .dataframe tbody tr th:only-of-type {\n",
       "        vertical-align: middle;\n",
       "    }\n",
       "\n",
       "    .dataframe tbody tr th {\n",
       "        vertical-align: top;\n",
       "    }\n",
       "\n",
       "    .dataframe thead th {\n",
       "        text-align: right;\n",
       "    }\n",
       "</style>\n",
       "<table border=\"1\" class=\"dataframe\">\n",
       "  <thead>\n",
       "    <tr style=\"text-align: right;\">\n",
       "      <th></th>\n",
       "      <th>Model</th>\n",
       "      <th>Log Loss</th>\n",
       "      <th>Accuracy</th>\n",
       "    </tr>\n",
       "  </thead>\n",
       "  <tbody>\n",
       "    <tr>\n",
       "      <th>0</th>\n",
       "      <td>Diff_len &amp; Char_counts with Logistic Regression</td>\n",
       "      <td>0.57</td>\n",
       "      <td>0.65</td>\n",
       "    </tr>\n",
       "  </tbody>\n",
       "</table>\n",
       "</div>"
      ],
      "text/plain": [
       "                                             Model  Log Loss  Accuracy\n",
       "0  Diff_len & Char_counts with Logistic Regression      0.57      0.65"
      ]
     },
     "execution_count": 33,
     "metadata": {},
     "output_type": "execute_result"
    }
   ],
   "source": [
    "Summary_CS"
   ]
  },
  {
   "cell_type": "markdown",
   "metadata": {},
   "source": [
    "#### Random Forest "
   ]
  },
  {
   "cell_type": "code",
   "execution_count": 34,
   "metadata": {
    "ExecuteTime": {
     "end_time": "2020-07-08T14:41:20.232147Z",
     "start_time": "2020-07-08T14:40:50.472668Z"
    }
   },
   "outputs": [],
   "source": [
    "rf = RandomForestClassifier(max_depth = 5)\n",
    "rf.fit(Features_train_n , y_train);"
   ]
  },
  {
   "cell_type": "code",
   "execution_count": 35,
   "metadata": {
    "ExecuteTime": {
     "end_time": "2020-07-08T14:41:25.116264Z",
     "start_time": "2020-07-08T14:41:20.233143Z"
    }
   },
   "outputs": [],
   "source": [
    "preds_train = rf.predict_proba(Features_train_n)[:,1]"
   ]
  },
  {
   "cell_type": "code",
   "execution_count": 36,
   "metadata": {
    "ExecuteTime": {
     "end_time": "2020-07-08T14:41:25.724293Z",
     "start_time": "2020-07-08T14:41:25.117382Z"
    }
   },
   "outputs": [
    {
     "data": {
      "image/png": "[encoded data removed]",
      "text/plain": [
       "<Figure size 1008x288 with 2 Axes>"
      ]
     },
     "metadata": {
      "needs_background": "light"
     },
     "output_type": "display_data"
    }
   ],
   "source": [
    "fig, ax = plt.subplots(1,2, figsize = (14,4))\n",
    "ax[0].hist(preds_train[y_train==0], bins = 100, alpha = 0.7)\n",
    "ax[0].hist(preds_train[y_train==1], bins = 100, alpha = 0.7)\n",
    "ax[0].set_title(\"Distribution of Probablities by Class\")\n",
    "ax[0].legend([\"0\",\"1\"])\n",
    "\n",
    "output_lr = pd.DataFrame({\"LR_preds\":preds_train, \"y\":y_train})\n",
    "sns.boxplot(x=\"y\", y=\"LR_preds\", data = output_lr, ax = ax[1])\n",
    "ax[1].set_ylabel(\"Predicted Probablities\")\n",
    "ax[1].set_xlabel(\"Duplicate\")\n",
    "ax[1].set_title(\"Probablities by Class\");"
   ]
  },
  {
   "cell_type": "code",
   "execution_count": 37,
   "metadata": {
    "ExecuteTime": {
     "end_time": "2020-07-08T14:41:26.121918Z",
     "start_time": "2020-07-08T14:41:25.728281Z"
    }
   },
   "outputs": [],
   "source": [
    "preds_test = rf.predict_proba(Features_test_n)[:,1]\n",
    "log_loss_score = log_loss(y_test, preds_test)\n",
    "accuracy = rf.score(Features_test_n, y_test)"
   ]
  },
  {
   "cell_type": "code",
   "execution_count": 38,
   "metadata": {
    "ExecuteTime": {
     "end_time": "2020-07-08T14:41:26.965691Z",
     "start_time": "2020-07-08T14:41:26.123915Z"
    }
   },
   "outputs": [
    {
     "data": {
      "image/png": "[encoded data removed]",
      "text/plain": [
       "<Figure size 1008x288 with 2 Axes>"
      ]
     },
     "metadata": {
      "needs_background": "light"
     },
     "output_type": "display_data"
    }
   ],
   "source": [
    "fig, ax = plt.subplots(1,2, figsize = (14,4))\n",
    "ax[0].hist(preds_test[y_test==0], bins = 100, alpha = 0.7)\n",
    "ax[0].hist(preds_test[y_test==1], bins = 100, alpha = 0.7)\n",
    "ax[0].set_title(\"Distribution of Probablities by Class (Test Set)\")\n",
    "ax[0].legend([\"0\",\"1\"])\n",
    "\n",
    "output_lr = pd.DataFrame({\"LR_preds\":preds_test, \"y\":y_test})\n",
    "sns.boxplot(x=\"y\", y=\"LR_preds\", data = output_lr, ax = ax[1])\n",
    "ax[1].set_ylabel(\"Predicted Probablities\")\n",
    "ax[1].set_xlabel(\"Duplicate\")\n",
    "ax[1].set_title(\"Probablities by Class (Test Set)\");"
   ]
  },
  {
   "cell_type": "code",
   "execution_count": 39,
   "metadata": {
    "ExecuteTime": {
     "end_time": "2020-07-08T14:41:26.977582Z",
     "start_time": "2020-07-08T14:41:26.967021Z"
    }
   },
   "outputs": [],
   "source": [
    "Summary_CS  = Summary_CS.append({\"Model\":\"Diff_len & Char_counts with Random Forest\", \"Log Loss\":np.round(log_loss_score,2), \"Accuracy\":np.round(accuracy,2)}, ignore_index = True)"
   ]
  },
  {
   "cell_type": "code",
   "execution_count": 40,
   "metadata": {
    "ExecuteTime": {
     "end_time": "2020-07-08T14:41:26.996950Z",
     "start_time": "2020-07-08T14:41:26.979136Z"
    }
   },
   "outputs": [
    {
     "data": {
      "text/html": [
       "<div>\n",
       "<style scoped>\n",
       "    .dataframe tbody tr th:only-of-type {\n",
       "        vertical-align: middle;\n",
       "    }\n",
       "\n",
       "    .dataframe tbody tr th {\n",
       "        vertical-align: top;\n",
       "    }\n",
       "\n",
       "    .dataframe thead th {\n",
       "        text-align: right;\n",
       "    }\n",
       "</style>\n",
       "<table border=\"1\" class=\"dataframe\">\n",
       "  <thead>\n",
       "    <tr style=\"text-align: right;\">\n",
       "      <th></th>\n",
       "      <th>Model</th>\n",
       "      <th>Log Loss</th>\n",
       "      <th>Accuracy</th>\n",
       "    </tr>\n",
       "  </thead>\n",
       "  <tbody>\n",
       "    <tr>\n",
       "      <th>0</th>\n",
       "      <td>Diff_len &amp; Char_counts with Logistic Regression</td>\n",
       "      <td>0.57</td>\n",
       "      <td>0.65</td>\n",
       "    </tr>\n",
       "    <tr>\n",
       "      <th>1</th>\n",
       "      <td>Diff_len &amp; Char_counts with Random Forest</td>\n",
       "      <td>0.55</td>\n",
       "      <td>0.68</td>\n",
       "    </tr>\n",
       "  </tbody>\n",
       "</table>\n",
       "</div>"
      ],
      "text/plain": [
       "                                             Model  Log Loss  Accuracy\n",
       "0  Diff_len & Char_counts with Logistic Regression      0.57      0.65\n",
       "1        Diff_len & Char_counts with Random Forest      0.55      0.68"
      ]
     },
     "execution_count": 40,
     "metadata": {},
     "output_type": "execute_result"
    }
   ],
   "source": [
    "Summary_CS"
   ]
  },
  {
   "cell_type": "markdown",
   "metadata": {},
   "source": [
    "#### XGBoost "
   ]
  },
  {
   "cell_type": "code",
   "execution_count": 68,
   "metadata": {
    "ExecuteTime": {
     "end_time": "2020-07-05T14:57:08.794840Z",
     "start_time": "2020-07-05T14:56:54.292742Z"
    }
   },
   "outputs": [],
   "source": [
    "xgb = XGBClassifier(max_depth = 5)\n",
    "xgb.fit(Features_train_n , y_train);"
   ]
  },
  {
   "cell_type": "code",
   "execution_count": 69,
   "metadata": {
    "ExecuteTime": {
     "end_time": "2020-07-05T14:57:09.805173Z",
     "start_time": "2020-07-05T14:57:08.796596Z"
    }
   },
   "outputs": [],
   "source": [
    "preds_train = xgb.predict_proba(Features_train_n)[:,1]"
   ]
  },
  {
   "cell_type": "code",
   "execution_count": 70,
   "metadata": {
    "ExecuteTime": {
     "end_time": "2020-07-05T14:57:10.368628Z",
     "start_time": "2020-07-05T14:57:09.806132Z"
    }
   },
   "outputs": [
    {
     "data": {
      "image/png": "[encoded data removed]",
      "text/plain": [
       "<Figure size 1008x288 with 2 Axes>"
      ]
     },
     "metadata": {
      "needs_background": "light"
     },
     "output_type": "display_data"
    }
   ],
   "source": [
    "fig, ax = plt.subplots(1,2, figsize = (14,4))\n",
    "ax[0].hist(preds_train[y_train==0], bins = 100, alpha = 0.7)\n",
    "ax[0].hist(preds_train[y_train==1], bins = 100, alpha = 0.7)\n",
    "ax[0].set_title(\"Distribution of Probablities by Class\")\n",
    "ax[0].legend([\"0\",\"1\"])\n",
    "\n",
    "output_lr = pd.DataFrame({\"LR_preds\":preds_train, \"y\":y_train})\n",
    "sns.boxplot(x=\"y\", y=\"LR_preds\", data = output_lr, ax = ax[1])\n",
    "ax[1].set_ylabel(\"Predicted Probablities\")\n",
    "ax[1].set_xlabel(\"Duplicate\")\n",
    "ax[1].set_title(\"Probablities by Class\");"
   ]
  },
  {
   "cell_type": "code",
   "execution_count": 71,
   "metadata": {
    "ExecuteTime": {
     "end_time": "2020-07-05T14:57:10.494464Z",
     "start_time": "2020-07-05T14:57:10.369660Z"
    }
   },
   "outputs": [],
   "source": [
    "preds_test = xgb.predict_proba(Features_test_n)[:,1]\n",
    "log_loss_score = log_loss(y_test, preds_test)\n",
    "accuracy = xgb.score(Features_test_n, y_test)"
   ]
  },
  {
   "cell_type": "code",
   "execution_count": 72,
   "metadata": {
    "ExecuteTime": {
     "end_time": "2020-07-05T14:57:11.111853Z",
     "start_time": "2020-07-05T14:57:10.495462Z"
    }
   },
   "outputs": [
    {
     "data": {
      "image/png": "[encoded data removed]",
      "text/plain": [
       "<Figure size 1008x288 with 2 Axes>"
      ]
     },
     "metadata": {
      "needs_background": "light"
     },
     "output_type": "display_data"
    }
   ],
   "source": [
    "fig, ax = plt.subplots(1,2, figsize = (14,4))\n",
    "ax[0].hist(preds_test[y_test==0], bins = 100, alpha = 0.7)\n",
    "ax[0].hist(preds_test[y_test==1], bins = 100, alpha = 0.7)\n",
    "ax[0].set_title(\"Distribution of Probablities by Class (Test Set)\")\n",
    "ax[0].legend([\"0\",\"1\"])\n",
    "\n",
    "output_lr = pd.DataFrame({\"LR_preds\":preds_test, \"y\":y_test})\n",
    "sns.boxplot(x=\"y\", y=\"LR_preds\", data = output_lr, ax = ax[1])\n",
    "ax[1].set_ylabel(\"Predicted Probablities\")\n",
    "ax[1].set_xlabel(\"Duplicate\")\n",
    "ax[1].set_title(\"Probablities by Class (Test Set)\");"
   ]
  },
  {
   "cell_type": "code",
   "execution_count": 73,
   "metadata": {
    "ExecuteTime": {
     "end_time": "2020-07-05T14:57:11.121827Z",
     "start_time": "2020-07-05T14:57:11.112849Z"
    }
   },
   "outputs": [],
   "source": [
    "Summary_CS  = Summary_CS.append({\"Model\":\"Diff_len & Char_counts with XGBoost\", \"Log Loss\":np.round(log_loss_score,2), \"Accuracy\":np.round(accuracy,2)}, ignore_index = True)"
   ]
  },
  {
   "cell_type": "code",
   "execution_count": 74,
   "metadata": {
    "ExecuteTime": {
     "end_time": "2020-07-05T14:57:11.130803Z",
     "start_time": "2020-07-05T14:57:11.122823Z"
    }
   },
   "outputs": [
    {
     "data": {
      "text/html": [
       "<div>\n",
       "<style scoped>\n",
       "    .dataframe tbody tr th:only-of-type {\n",
       "        vertical-align: middle;\n",
       "    }\n",
       "\n",
       "    .dataframe tbody tr th {\n",
       "        vertical-align: top;\n",
       "    }\n",
       "\n",
       "    .dataframe thead th {\n",
       "        text-align: right;\n",
       "    }\n",
       "</style>\n",
       "<table border=\"1\" class=\"dataframe\">\n",
       "  <thead>\n",
       "    <tr style=\"text-align: right;\">\n",
       "      <th></th>\n",
       "      <th>Model</th>\n",
       "      <th>Log Loss</th>\n",
       "      <th>Accuracy</th>\n",
       "    </tr>\n",
       "  </thead>\n",
       "  <tbody>\n",
       "    <tr>\n",
       "      <th>0</th>\n",
       "      <td>Diff_len &amp; Char_counts with Logistic Regression</td>\n",
       "      <td>0.57</td>\n",
       "      <td>0.65</td>\n",
       "    </tr>\n",
       "    <tr>\n",
       "      <th>1</th>\n",
       "      <td>Diff_len &amp; Char_counts with Random Forest</td>\n",
       "      <td>0.55</td>\n",
       "      <td>0.68</td>\n",
       "    </tr>\n",
       "    <tr>\n",
       "      <th>2</th>\n",
       "      <td>Diff_len &amp; Char_counts with XGBoost</td>\n",
       "      <td>0.54</td>\n",
       "      <td>0.68</td>\n",
       "    </tr>\n",
       "  </tbody>\n",
       "</table>\n",
       "</div>"
      ],
      "text/plain": [
       "                                             Model  Log Loss  Accuracy\n",
       "0  Diff_len & Char_counts with Logistic Regression      0.57      0.65\n",
       "1        Diff_len & Char_counts with Random Forest      0.55      0.68\n",
       "2              Diff_len & Char_counts with XGBoost      0.54      0.68"
      ]
     },
     "execution_count": 74,
     "metadata": {},
     "output_type": "execute_result"
    }
   ],
   "source": [
    "Summary_CS"
   ]
  },
  {
   "cell_type": "markdown",
   "metadata": {},
   "source": [
    "## Difference in char length & Tf-idf cosine similarity Approach\n",
    "- Tf-idf characters (2-6)\n",
    "- Find cosine similarity between 2 questions' Tf-idf vectors\n",
    "- Apply predictive models with cosine similarity and length difference between questions as features"
   ]
  },
  {
   "cell_type": "markdown",
   "metadata": {},
   "source": [
    "### Tf-idf"
   ]
  },
  {
   "cell_type": "code",
   "execution_count": 75,
   "metadata": {
    "ExecuteTime": {
     "end_time": "2020-07-05T14:58:35.925339Z",
     "start_time": "2020-07-05T14:57:11.131799Z"
    }
   },
   "outputs": [],
   "source": [
    "tfidf_vect = TfidfVectorizer(analyzer = \"char\", ngram_range = (2,6))\n",
    "tfidf_vect.fit(Questions_train);"
   ]
  },
  {
   "cell_type": "code",
   "execution_count": 76,
   "metadata": {
    "ExecuteTime": {
     "end_time": "2020-07-05T15:01:59.494957Z",
     "start_time": "2020-07-05T14:58:35.926280Z"
    }
   },
   "outputs": [],
   "source": [
    "tfidf_q1_train = tfidf_vect.transform(X_train[\"q1\"])\n",
    "tfidf_q2_train = tfidf_vect.transform(X_train[\"q2\"])\n",
    "tfidf_q1_test = tfidf_vect.transform(X_test[\"q1\"])\n",
    "tfidf_q2_test = tfidf_vect.transform(X_test[\"q2\"])"
   ]
  },
  {
   "cell_type": "markdown",
   "metadata": {},
   "source": [
    "### Cosine Similarity "
   ]
  },
  {
   "cell_type": "code",
   "execution_count": 80,
   "metadata": {
    "ExecuteTime": {
     "end_time": "2020-07-05T15:25:59.915646Z",
     "start_time": "2020-07-05T15:03:32.950076Z"
    }
   },
   "outputs": [],
   "source": [
    "cos_sim_train2 = cosine_sim(tfidf_q1_train, tfidf_q2_train)\n",
    "pd.DataFrame({\"cos_sim\":list(cos_sim_train2[:,0])}).to_csv(\"cos_sim_train2.csv\", index = False)"
   ]
  },
  {
   "cell_type": "code",
   "execution_count": 82,
   "metadata": {
    "ExecuteTime": {
     "end_time": "2020-07-05T15:58:48.549026Z",
     "start_time": "2020-07-05T15:57:34.134999Z"
    }
   },
   "outputs": [],
   "source": [
    "cos_sim_test2 = cosine_sim(tfidf_q1_test, tfidf_q2_test)\n",
    "pd.DataFrame({\"cos_sim\":list(cos_sim_test2[:,0])}).to_csv(\"cos_sim_test2.csv\", index = False)"
   ]
  },
  {
   "cell_type": "markdown",
   "metadata": {},
   "source": [
    "### Combining Features\n",
    "- Combine diff_len and cos_sim with char counts as 2 feature for the model"
   ]
  },
  {
   "cell_type": "code",
   "execution_count": 83,
   "metadata": {
    "ExecuteTime": {
     "end_time": "2020-07-05T15:58:48.650418Z",
     "start_time": "2020-07-05T15:58:48.550628Z"
    }
   },
   "outputs": [],
   "source": [
    "Features_train2 = pd.DataFrame({\"diff_len\": diff_len_train, \"cos_sim\": list(cos_sim_train2)})\n",
    "Features_test2 = pd.DataFrame({\"diff_len\": diff_len_test, \"cos_sim\": list(cos_sim_test2)})"
   ]
  },
  {
   "cell_type": "code",
   "execution_count": 84,
   "metadata": {
    "ExecuteTime": {
     "end_time": "2020-07-05T15:58:48.809973Z",
     "start_time": "2020-07-05T15:58:48.652357Z"
    }
   },
   "outputs": [],
   "source": [
    "scaler = MinMaxScaler()\n",
    "scaler.fit(Features_train)\n",
    "Features_train_n2 = scaler.transform(Features_train2)\n",
    "Features_test_n2 = scaler.transform(Features_test2)"
   ]
  },
  {
   "cell_type": "markdown",
   "metadata": {},
   "source": [
    "### Modeling"
   ]
  },
  {
   "cell_type": "markdown",
   "metadata": {},
   "source": [
    "#### Logistic Regression"
   ]
  },
  {
   "cell_type": "code",
   "execution_count": 85,
   "metadata": {
    "ExecuteTime": {
     "end_time": "2020-07-05T15:58:49.438585Z",
     "start_time": "2020-07-05T15:58:48.811939Z"
    }
   },
   "outputs": [],
   "source": [
    "lr = LogisticRegression()\n",
    "lr.fit(Features_train_n2 , y_train);"
   ]
  },
  {
   "cell_type": "code",
   "execution_count": 86,
   "metadata": {
    "ExecuteTime": {
     "end_time": "2020-07-05T15:58:49.453722Z",
     "start_time": "2020-07-05T15:58:49.440273Z"
    }
   },
   "outputs": [],
   "source": [
    "preds_train = lr.predict_proba(Features_train_n2)[:,1]"
   ]
  },
  {
   "cell_type": "code",
   "execution_count": 87,
   "metadata": {
    "ExecuteTime": {
     "end_time": "2020-07-05T15:58:50.042166Z",
     "start_time": "2020-07-05T15:58:49.454718Z"
    }
   },
   "outputs": [
    {
     "data": {
      "image/png": "[encoded data removed]",
      "text/plain": [
       "<Figure size 1008x288 with 2 Axes>"
      ]
     },
     "metadata": {
      "needs_background": "light"
     },
     "output_type": "display_data"
    }
   ],
   "source": [
    "fig, ax = plt.subplots(1,2, figsize = (14,4))\n",
    "ax[0].hist(preds_train[y_train==0], bins = 100, alpha = 0.7)\n",
    "ax[0].hist(preds_train[y_train==1], bins = 100, alpha = 0.7)\n",
    "ax[0].set_title(\"Distribution of Probablities by Class\")\n",
    "ax[0].legend([\"0\",\"1\"])\n",
    "\n",
    "output_lr = pd.DataFrame({\"LR_preds\":preds_train, \"y\":y_train})\n",
    "sns.boxplot(x=\"y\", y=\"LR_preds\", data = output_lr, ax = ax[1])\n",
    "ax[1].set_ylabel(\"Predicted Probablities\")\n",
    "ax[1].set_xlabel(\"Duplicate\")\n",
    "ax[1].set_title(\"Probablities by Class\");"
   ]
  },
  {
   "cell_type": "code",
   "execution_count": 88,
   "metadata": {
    "ExecuteTime": {
     "end_time": "2020-07-05T15:58:50.053235Z",
     "start_time": "2020-07-05T15:58:50.043145Z"
    }
   },
   "outputs": [],
   "source": [
    "preds_test = lr.predict_proba(Features_test_n2)[:,1]\n",
    "log_loss_score = log_loss(y_test, preds_test)\n",
    "accuracy = lr.score(Features_test_n2, y_test)"
   ]
  },
  {
   "cell_type": "code",
   "execution_count": 89,
   "metadata": {
    "ExecuteTime": {
     "end_time": "2020-07-05T15:58:50.607357Z",
     "start_time": "2020-07-05T15:58:50.055227Z"
    }
   },
   "outputs": [
    {
     "data": {
      "image/png": "[encoded data removed]",
      "text/plain": [
       "<Figure size 1008x288 with 2 Axes>"
      ]
     },
     "metadata": {
      "needs_background": "light"
     },
     "output_type": "display_data"
    }
   ],
   "source": [
    "fig, ax = plt.subplots(1,2, figsize = (14,4))\n",
    "ax[0].hist(preds_test[y_test==0], bins = 100, alpha = 0.7)\n",
    "ax[0].hist(preds_test[y_test==1], bins = 100, alpha = 0.7)\n",
    "ax[0].set_title(\"Distribution of Probablities by Class (Test Set)\")\n",
    "ax[0].legend([\"0\",\"1\"])\n",
    "\n",
    "output_lr = pd.DataFrame({\"LR_preds\":preds_test, \"y\":y_test})\n",
    "sns.boxplot(x=\"y\", y=\"LR_preds\", data = output_lr, ax = ax[1])\n",
    "ax[1].set_ylabel(\"Predicted Probablities\")\n",
    "ax[1].set_xlabel(\"Duplicate\")\n",
    "ax[1].set_title(\"Probablities by Class (Test Set)\");"
   ]
  },
  {
   "cell_type": "code",
   "execution_count": 90,
   "metadata": {
    "ExecuteTime": {
     "end_time": "2020-07-05T15:58:50.615347Z",
     "start_time": "2020-07-05T15:58:50.609380Z"
    }
   },
   "outputs": [],
   "source": [
    "Summary_CS  = Summary_CS.append({\"Model\":\"Diff_len & Tf-idf with Logistic Regression\", \"Log Loss\":np.round(log_loss_score,2), \"Accuracy\":np.round(accuracy,2)}, ignore_index = True)"
   ]
  },
  {
   "cell_type": "markdown",
   "metadata": {},
   "source": [
    "#### Random Forest "
   ]
  },
  {
   "cell_type": "code",
   "execution_count": 91,
   "metadata": {
    "ExecuteTime": {
     "end_time": "2020-07-05T15:59:07.343879Z",
     "start_time": "2020-07-05T15:58:50.617356Z"
    }
   },
   "outputs": [],
   "source": [
    "rf = RandomForestClassifier(max_depth = 5)\n",
    "rf.fit(Features_train_n2 , y_train);"
   ]
  },
  {
   "cell_type": "code",
   "execution_count": 92,
   "metadata": {
    "ExecuteTime": {
     "end_time": "2020-07-05T15:59:09.863926Z",
     "start_time": "2020-07-05T15:59:07.344474Z"
    }
   },
   "outputs": [],
   "source": [
    "preds_train = rf.predict_proba(Features_train_n2)[:,1]"
   ]
  },
  {
   "cell_type": "code",
   "execution_count": 93,
   "metadata": {
    "ExecuteTime": {
     "end_time": "2020-07-05T15:59:10.502802Z",
     "start_time": "2020-07-05T15:59:09.864509Z"
    }
   },
   "outputs": [
    {
     "data": {
      "image/png": "[encoded data removed]",
      "text/plain": [
       "<Figure size 1008x288 with 2 Axes>"
      ]
     },
     "metadata": {
      "needs_background": "light"
     },
     "output_type": "display_data"
    }
   ],
   "source": [
    "fig, ax = plt.subplots(1,2, figsize = (14,4))\n",
    "ax[0].hist(preds_train[y_train==0], bins = 100, alpha = 0.7)\n",
    "ax[0].hist(preds_train[y_train==1], bins = 100, alpha = 0.7)\n",
    "ax[0].set_title(\"Distribution of Probablities by Class\")\n",
    "ax[0].legend([\"0\",\"1\"])\n",
    "\n",
    "output_lr = pd.DataFrame({\"LR_preds\":preds_train, \"y\":y_train})\n",
    "sns.boxplot(x=\"y\", y=\"LR_preds\", data = output_lr, ax = ax[1])\n",
    "ax[1].set_ylabel(\"Predicted Probablities\")\n",
    "ax[1].set_xlabel(\"Duplicate\")\n",
    "ax[1].set_title(\"Probablities by Class\");"
   ]
  },
  {
   "cell_type": "code",
   "execution_count": 94,
   "metadata": {
    "ExecuteTime": {
     "end_time": "2020-07-05T15:59:10.815524Z",
     "start_time": "2020-07-05T15:59:10.503799Z"
    }
   },
   "outputs": [],
   "source": [
    "preds_test = rf.predict_proba(Features_test_n2)[:,1]\n",
    "log_loss_score = log_loss(y_test, preds_test)\n",
    "accuracy = rf.score(Features_test_n2, y_test)"
   ]
  },
  {
   "cell_type": "code",
   "execution_count": 95,
   "metadata": {
    "ExecuteTime": {
     "end_time": "2020-07-05T15:59:11.417282Z",
     "start_time": "2020-07-05T15:59:10.818479Z"
    }
   },
   "outputs": [
    {
     "data": {
      "image/png": "[encoded data removed]",
      "text/plain": [
       "<Figure size 1008x288 with 2 Axes>"
      ]
     },
     "metadata": {
      "needs_background": "light"
     },
     "output_type": "display_data"
    }
   ],
   "source": [
    "fig, ax = plt.subplots(1,2, figsize = (14,4))\n",
    "ax[0].hist(preds_test[y_test==0], bins = 100, alpha = 0.7)\n",
    "ax[0].hist(preds_test[y_test==1], bins = 100, alpha = 0.7)\n",
    "ax[0].set_title(\"Distribution of Probablities by Class (Test Set)\")\n",
    "ax[0].legend([\"0\",\"1\"])\n",
    "\n",
    "output_lr = pd.DataFrame({\"LR_preds\":preds_test, \"y\":y_test})\n",
    "sns.boxplot(x=\"y\", y=\"LR_preds\", data = output_lr, ax = ax[1])\n",
    "ax[1].set_ylabel(\"Predicted Probablities\")\n",
    "ax[1].set_xlabel(\"Duplicate\")\n",
    "ax[1].set_title(\"Probablities by Class (Test Set)\");"
   ]
  },
  {
   "cell_type": "code",
   "execution_count": 96,
   "metadata": {
    "ExecuteTime": {
     "end_time": "2020-07-05T15:59:11.426325Z",
     "start_time": "2020-07-05T15:59:11.418276Z"
    }
   },
   "outputs": [],
   "source": [
    "Summary_CS  = Summary_CS.append({\"Model\":\"Diff_len & Tf-idf with Random Forest\", \"Log Loss\":np.round(log_loss_score,2), \"Accuracy\":np.round(accuracy,2)}, ignore_index = True)"
   ]
  },
  {
   "cell_type": "code",
   "execution_count": 97,
   "metadata": {
    "ExecuteTime": {
     "end_time": "2020-07-05T15:59:11.441258Z",
     "start_time": "2020-07-05T15:59:11.427252Z"
    }
   },
   "outputs": [
    {
     "data": {
      "text/html": [
       "<div>\n",
       "<style scoped>\n",
       "    .dataframe tbody tr th:only-of-type {\n",
       "        vertical-align: middle;\n",
       "    }\n",
       "\n",
       "    .dataframe tbody tr th {\n",
       "        vertical-align: top;\n",
       "    }\n",
       "\n",
       "    .dataframe thead th {\n",
       "        text-align: right;\n",
       "    }\n",
       "</style>\n",
       "<table border=\"1\" class=\"dataframe\">\n",
       "  <thead>\n",
       "    <tr style=\"text-align: right;\">\n",
       "      <th></th>\n",
       "      <th>Model</th>\n",
       "      <th>Log Loss</th>\n",
       "      <th>Accuracy</th>\n",
       "    </tr>\n",
       "  </thead>\n",
       "  <tbody>\n",
       "    <tr>\n",
       "      <th>0</th>\n",
       "      <td>Diff_len &amp; Char_counts with Logistic Regression</td>\n",
       "      <td>0.57</td>\n",
       "      <td>0.65</td>\n",
       "    </tr>\n",
       "    <tr>\n",
       "      <th>1</th>\n",
       "      <td>Diff_len &amp; Char_counts with Random Forest</td>\n",
       "      <td>0.55</td>\n",
       "      <td>0.68</td>\n",
       "    </tr>\n",
       "    <tr>\n",
       "      <th>2</th>\n",
       "      <td>Diff_len &amp; Char_counts with XGBoost</td>\n",
       "      <td>0.54</td>\n",
       "      <td>0.68</td>\n",
       "    </tr>\n",
       "    <tr>\n",
       "      <th>3</th>\n",
       "      <td>Diff_len &amp; Tf-idf with Logistic Regression</td>\n",
       "      <td>0.58</td>\n",
       "      <td>0.65</td>\n",
       "    </tr>\n",
       "    <tr>\n",
       "      <th>4</th>\n",
       "      <td>Diff_len &amp; Tf-idf with Random Forest</td>\n",
       "      <td>0.55</td>\n",
       "      <td>0.67</td>\n",
       "    </tr>\n",
       "  </tbody>\n",
       "</table>\n",
       "</div>"
      ],
      "text/plain": [
       "                                             Model  Log Loss  Accuracy\n",
       "0  Diff_len & Char_counts with Logistic Regression      0.57      0.65\n",
       "1        Diff_len & Char_counts with Random Forest      0.55      0.68\n",
       "2              Diff_len & Char_counts with XGBoost      0.54      0.68\n",
       "3       Diff_len & Tf-idf with Logistic Regression      0.58      0.65\n",
       "4             Diff_len & Tf-idf with Random Forest      0.55      0.67"
      ]
     },
     "execution_count": 97,
     "metadata": {},
     "output_type": "execute_result"
    }
   ],
   "source": [
    "Summary_CS"
   ]
  },
  {
   "cell_type": "markdown",
   "metadata": {},
   "source": [
    "#### XGBoost "
   ]
  },
  {
   "cell_type": "code",
   "execution_count": 98,
   "metadata": {
    "ExecuteTime": {
     "end_time": "2020-07-05T15:59:26.073420Z",
     "start_time": "2020-07-05T15:59:11.442220Z"
    }
   },
   "outputs": [],
   "source": [
    "xgb = XGBClassifier(max_depth = 5)\n",
    "xgb.fit(Features_train_n2 , y_train);"
   ]
  },
  {
   "cell_type": "code",
   "execution_count": 99,
   "metadata": {
    "ExecuteTime": {
     "end_time": "2020-07-05T15:59:27.122281Z",
     "start_time": "2020-07-05T15:59:26.075026Z"
    }
   },
   "outputs": [],
   "source": [
    "preds_train = xgb.predict_proba(Features_train_n2)[:,1]"
   ]
  },
  {
   "cell_type": "code",
   "execution_count": 100,
   "metadata": {
    "ExecuteTime": {
     "end_time": "2020-07-05T15:59:29.006958Z",
     "start_time": "2020-07-05T15:59:27.123238Z"
    }
   },
   "outputs": [
    {
     "data": {
      "image/png": "[encoded data removed]",
      "text/plain": [
       "<Figure size 1008x288 with 2 Axes>"
      ]
     },
     "metadata": {
      "needs_background": "light"
     },
     "output_type": "display_data"
    }
   ],
   "source": [
    "fig, ax = plt.subplots(1,2, figsize = (14,4))\n",
    "ax[0].hist(preds_train[y_train==0], bins = 100, alpha = 0.7)\n",
    "ax[0].hist(preds_train[y_train==1], bins = 100, alpha = 0.7)\n",
    "ax[0].set_title(\"Distribution of Probablities by Class\")\n",
    "ax[0].legend([\"0\",\"1\"])\n",
    "\n",
    "output_lr = pd.DataFrame({\"LR_preds\":preds_train, \"y\":y_train})\n",
    "sns.boxplot(x=\"y\", y=\"LR_preds\", data = output_lr, ax = ax[1])\n",
    "ax[1].set_ylabel(\"Predicted Probablities\")\n",
    "ax[1].set_xlabel(\"Duplicate\")\n",
    "ax[1].set_title(\"Probablities by Class\");"
   ]
  },
  {
   "cell_type": "code",
   "execution_count": 101,
   "metadata": {
    "ExecuteTime": {
     "end_time": "2020-07-05T15:59:29.122669Z",
     "start_time": "2020-07-05T15:59:29.007918Z"
    }
   },
   "outputs": [],
   "source": [
    "preds_test = xgb.predict_proba(Features_test_n2)[:,1]\n",
    "log_loss_score = log_loss(y_test, preds_test)\n",
    "accuracy = xgb.score(Features_test_n2, y_test)"
   ]
  },
  {
   "cell_type": "code",
   "execution_count": 102,
   "metadata": {
    "ExecuteTime": {
     "end_time": "2020-07-05T15:59:29.677161Z",
     "start_time": "2020-07-05T15:59:29.124596Z"
    }
   },
   "outputs": [
    {
     "data": {
      "image/png": "[encoded data removed]",
      "text/plain": [
       "<Figure size 1008x288 with 2 Axes>"
      ]
     },
     "metadata": {
      "needs_background": "light"
     },
     "output_type": "display_data"
    }
   ],
   "source": [
    "fig, ax = plt.subplots(1,2, figsize = (14,4))\n",
    "ax[0].hist(preds_test[y_test==0], bins = 100, alpha = 0.7)\n",
    "ax[0].hist(preds_test[y_test==1], bins = 100, alpha = 0.7)\n",
    "ax[0].set_title(\"Distribution of Probablities by Class (Test Set)\")\n",
    "ax[0].legend([\"0\",\"1\"])\n",
    "\n",
    "output_lr = pd.DataFrame({\"LR_preds\":preds_test, \"y\":y_test})\n",
    "sns.boxplot(x=\"y\", y=\"LR_preds\", data = output_lr, ax = ax[1])\n",
    "ax[1].set_ylabel(\"Predicted Probablities\")\n",
    "ax[1].set_xlabel(\"Duplicate\")\n",
    "ax[1].set_title(\"Probablities by Class (Test Set)\");"
   ]
  },
  {
   "cell_type": "code",
   "execution_count": 103,
   "metadata": {
    "ExecuteTime": {
     "end_time": "2020-07-05T15:59:29.686091Z",
     "start_time": "2020-07-05T15:59:29.679110Z"
    }
   },
   "outputs": [],
   "source": [
    "Summary_CS  = Summary_CS.append({\"Model\":\"Diff_len & Tf-idf with XGBoost\", \"Log Loss\":np.round(log_loss_score,2), \"Accuracy\":np.round(accuracy,2)}, ignore_index = True)"
   ]
  },
  {
   "cell_type": "code",
   "execution_count": 104,
   "metadata": {
    "ExecuteTime": {
     "end_time": "2020-07-05T15:59:29.698059Z",
     "start_time": "2020-07-05T15:59:29.689083Z"
    }
   },
   "outputs": [
    {
     "data": {
      "text/html": [
       "<div>\n",
       "<style scoped>\n",
       "    .dataframe tbody tr th:only-of-type {\n",
       "        vertical-align: middle;\n",
       "    }\n",
       "\n",
       "    .dataframe tbody tr th {\n",
       "        vertical-align: top;\n",
       "    }\n",
       "\n",
       "    .dataframe thead th {\n",
       "        text-align: right;\n",
       "    }\n",
       "</style>\n",
       "<table border=\"1\" class=\"dataframe\">\n",
       "  <thead>\n",
       "    <tr style=\"text-align: right;\">\n",
       "      <th></th>\n",
       "      <th>Model</th>\n",
       "      <th>Log Loss</th>\n",
       "      <th>Accuracy</th>\n",
       "    </tr>\n",
       "  </thead>\n",
       "  <tbody>\n",
       "    <tr>\n",
       "      <th>0</th>\n",
       "      <td>Diff_len &amp; Char_counts with Logistic Regression</td>\n",
       "      <td>0.57</td>\n",
       "      <td>0.65</td>\n",
       "    </tr>\n",
       "    <tr>\n",
       "      <th>1</th>\n",
       "      <td>Diff_len &amp; Char_counts with Random Forest</td>\n",
       "      <td>0.55</td>\n",
       "      <td>0.68</td>\n",
       "    </tr>\n",
       "    <tr>\n",
       "      <th>2</th>\n",
       "      <td>Diff_len &amp; Char_counts with XGBoost</td>\n",
       "      <td>0.54</td>\n",
       "      <td>0.68</td>\n",
       "    </tr>\n",
       "    <tr>\n",
       "      <th>3</th>\n",
       "      <td>Diff_len &amp; Tf-idf with Logistic Regression</td>\n",
       "      <td>0.58</td>\n",
       "      <td>0.65</td>\n",
       "    </tr>\n",
       "    <tr>\n",
       "      <th>4</th>\n",
       "      <td>Diff_len &amp; Tf-idf with Random Forest</td>\n",
       "      <td>0.55</td>\n",
       "      <td>0.67</td>\n",
       "    </tr>\n",
       "    <tr>\n",
       "      <th>5</th>\n",
       "      <td>Diff_len &amp; Tf-idf with XGBoost</td>\n",
       "      <td>0.55</td>\n",
       "      <td>0.67</td>\n",
       "    </tr>\n",
       "  </tbody>\n",
       "</table>\n",
       "</div>"
      ],
      "text/plain": [
       "                                             Model  Log Loss  Accuracy\n",
       "0  Diff_len & Char_counts with Logistic Regression      0.57      0.65\n",
       "1        Diff_len & Char_counts with Random Forest      0.55      0.68\n",
       "2              Diff_len & Char_counts with XGBoost      0.54      0.68\n",
       "3       Diff_len & Tf-idf with Logistic Regression      0.58      0.65\n",
       "4             Diff_len & Tf-idf with Random Forest      0.55      0.67\n",
       "5                   Diff_len & Tf-idf with XGBoost      0.55      0.67"
      ]
     },
     "execution_count": 104,
     "metadata": {},
     "output_type": "execute_result"
    }
   ],
   "source": [
    "Summary_CS"
   ]
  },
  {
   "cell_type": "markdown",
   "metadata": {
    "ExecuteTime": {
     "end_time": "2020-06-30T04:01:01.597580Z",
     "start_time": "2020-06-30T04:01:01.586534Z"
    }
   },
   "source": [
    "##  Sentence Embedding with Neural Networks  Approach\n",
    "- Use pre trained Glove word embeddings\n",
    "- Calculate average word embeddings for sentences from words\n",
    "- Build a Neural Network Architecture"
   ]
  },
  {
   "cell_type": "markdown",
   "metadata": {},
   "source": [
    "### Import Glove word embeddings "
   ]
  },
  {
   "cell_type": "code",
   "execution_count": 78,
   "metadata": {
    "ExecuteTime": {
     "end_time": "2020-07-08T15:16:18.658055Z",
     "start_time": "2020-07-08T15:16:18.653069Z"
    }
   },
   "outputs": [],
   "source": [
    "def read_glove_vecs(glove_file):\n",
    "    with open(glove_file, encoding='utf8') as f:\n",
    "        words = set()\n",
    "        word_to_vec_map = {}\n",
    "        for line in f:\n",
    "            line = line.strip().split()\n",
    "            curr_word = line[0]\n",
    "            words.add(curr_word)\n",
    "            word_to_vec_map[curr_word] = np.array(line[1:], dtype=np.float64)\n",
    "        i = 1\n",
    "        words_to_index = {}\n",
    "        index_to_words = {}\n",
    "        for w in sorted(words):\n",
    "            words_to_index[w] = i\n",
    "            index_to_words[i] = w\n",
    "            i = i + 1\n",
    "    return words_to_index, index_to_words, word_to_vec_map"
   ]
  },
  {
   "cell_type": "code",
   "execution_count": 79,
   "metadata": {
    "ExecuteTime": {
     "end_time": "2020-07-08T15:16:26.119453Z",
     "start_time": "2020-07-08T15:16:18.890093Z"
    }
   },
   "outputs": [],
   "source": [
    "word_to_index, index_to_word, word_to_vec_map = read_glove_vecs('glove.6B.50d.txt')"
   ]
  },
  {
   "cell_type": "code",
   "execution_count": 80,
   "metadata": {
    "ExecuteTime": {
     "end_time": "2020-07-08T15:16:26.123939Z",
     "start_time": "2020-07-08T15:16:26.120295Z"
    }
   },
   "outputs": [],
   "source": [
    "def get_glove_vec(word):\n",
    "    try:\n",
    "        return word_to_vec_map[word]\n",
    "    except:\n",
    "        return np.zeros((50,))"
   ]
  },
  {
   "cell_type": "markdown",
   "metadata": {
    "ExecuteTime": {
     "end_time": "2020-07-02T00:57:05.692746Z",
     "start_time": "2020-07-02T00:39:46.472Z"
    }
   },
   "source": [
    "### Calculate average word embeddings for sentences from words"
   ]
  },
  {
   "cell_type": "code",
   "execution_count": 108,
   "metadata": {
    "ExecuteTime": {
     "end_time": "2020-07-05T15:59:36.541761Z",
     "start_time": "2020-07-05T15:59:36.534782Z"
    }
   },
   "outputs": [],
   "source": [
    "def sentence_to_avg(sentence, word_to_vec_map = word_to_vec_map):\n",
    "    words = sentence.split()\n",
    "    avg = np.zeros((50))\n",
    "    total = 0\n",
    "    for w in words:\n",
    "        total += get_glove_vec(w)\n",
    "    if len(words) != 0:\n",
    "        avg = total/(len(words))\n",
    "    return list(avg)"
   ]
  },
  {
   "cell_type": "markdown",
   "metadata": {
    "ExecuteTime": {
     "end_time": "2020-07-01T00:07:50.486340Z",
     "start_time": "2020-07-01T00:07:50.482315Z"
    }
   },
   "source": [
    "### Build the Neural Network Architecture"
   ]
  },
  {
   "cell_type": "code",
   "execution_count": 150,
   "metadata": {
    "ExecuteTime": {
     "end_time": "2020-07-08T15:41:14.848598Z",
     "start_time": "2020-07-08T15:41:14.833090Z"
    }
   },
   "outputs": [
    {
     "ename": "NameError",
     "evalue": "name 'sentence_to_avg' is not defined",
     "output_type": "error",
     "traceback": [
      "\u001b[1;31m---------------------------------------------------------------------------\u001b[0m",
      "\u001b[1;31mNameError\u001b[0m                                 Traceback (most recent call last)",
      "\u001b[1;32m<ipython-input-150-f7db5dd89eb5>\u001b[0m in \u001b[0;36m<module>\u001b[1;34m\u001b[0m\n\u001b[1;32m----> 1\u001b[1;33m \u001b[0mX_train_emb_q1\u001b[0m \u001b[1;33m=\u001b[0m \u001b[0mnp\u001b[0m\u001b[1;33m.\u001b[0m\u001b[0mstack\u001b[0m\u001b[1;33m(\u001b[0m\u001b[0mX_train\u001b[0m\u001b[1;33m[\u001b[0m\u001b[1;34m\"q1\"\u001b[0m\u001b[1;33m]\u001b[0m\u001b[1;33m.\u001b[0m\u001b[0mapply\u001b[0m\u001b[1;33m(\u001b[0m\u001b[0msentence_to_avg\u001b[0m\u001b[1;33m)\u001b[0m\u001b[1;33m,\u001b[0m \u001b[0maxis\u001b[0m \u001b[1;33m=\u001b[0m \u001b[1;36m0\u001b[0m\u001b[1;33m)\u001b[0m\u001b[1;33m\u001b[0m\u001b[1;33m\u001b[0m\u001b[0m\n\u001b[0m\u001b[0;32m      2\u001b[0m \u001b[0mX_train_emb_q2\u001b[0m \u001b[1;33m=\u001b[0m \u001b[0mnp\u001b[0m\u001b[1;33m.\u001b[0m\u001b[0mstack\u001b[0m\u001b[1;33m(\u001b[0m\u001b[0mX_train\u001b[0m\u001b[1;33m[\u001b[0m\u001b[1;34m\"q2\"\u001b[0m\u001b[1;33m]\u001b[0m\u001b[1;33m.\u001b[0m\u001b[0mapply\u001b[0m\u001b[1;33m(\u001b[0m\u001b[0msentence_to_avg\u001b[0m\u001b[1;33m)\u001b[0m\u001b[1;33m,\u001b[0m \u001b[0maxis\u001b[0m \u001b[1;33m=\u001b[0m \u001b[1;36m0\u001b[0m\u001b[1;33m)\u001b[0m\u001b[1;33m;\u001b[0m\u001b[1;33m\u001b[0m\u001b[1;33m\u001b[0m\u001b[0m\n",
      "\u001b[1;31mNameError\u001b[0m: name 'sentence_to_avg' is not defined"
     ]
    }
   ],
   "source": [
    "X_train_emb_q1 = np.stack(X_train[\"q1\"].apply(sentence_to_avg), axis = 0)\n",
    "X_train_emb_q2 = np.stack(X_train[\"q2\"].apply(sentence_to_avg), axis = 0);"
   ]
  },
  {
   "cell_type": "code",
   "execution_count": 110,
   "metadata": {
    "ExecuteTime": {
     "end_time": "2020-07-05T15:59:55.400238Z",
     "start_time": "2020-07-05T15:59:54.360440Z"
    }
   },
   "outputs": [],
   "source": [
    "X_test_emb_q1 = np.stack(X_test[\"q1\"].apply(sentence_to_avg), axis = 0)\n",
    "X_test_emb_q2 = np.stack(X_test[\"q2\"].apply(sentence_to_avg), axis = 0)"
   ]
  },
  {
   "cell_type": "code",
   "execution_count": 275,
   "metadata": {
    "ExecuteTime": {
     "end_time": "2020-07-08T20:41:10.741155Z",
     "start_time": "2020-07-08T20:41:10.734174Z"
    }
   },
   "outputs": [],
   "source": [
    "early_stopping = EarlyStopping(monitor=\"val_loss\", patience = 5)"
   ]
  },
  {
   "cell_type": "code",
   "execution_count": 112,
   "metadata": {
    "ExecuteTime": {
     "end_time": "2020-07-05T15:59:55.449586Z",
     "start_time": "2020-07-05T15:59:55.409636Z"
    }
   },
   "outputs": [],
   "source": [
    "input_q1 = Input(shape = (50,), name = \"Input_q1\")\n",
    "input_q2 = Input(shape = (50,), name = \"Input_q2\")"
   ]
  },
  {
   "cell_type": "code",
   "execution_count": 113,
   "metadata": {
    "ExecuteTime": {
     "end_time": "2020-07-05T15:59:55.666958Z",
     "start_time": "2020-07-05T15:59:55.450539Z"
    }
   },
   "outputs": [],
   "source": [
    "merge_q = concatenate([input_q1, input_q2], name = \"Inputs_merged\")\n",
    "merge_q = Dense(128, activation='relu', name = \"Dense1\")(merge_q)\n",
    "merge_q = BatchNormalization(name = \"BatchNorm1\")(merge_q)\n",
    "merge_q = Dropout(0.2, name = \"DropOut1\")(merge_q)\n",
    "merge_q = Dense(64, activation='relu', name = \"Dense2\")(merge_q)\n",
    "merge_q = BatchNormalization(name = \"BatchNorm2\")(merge_q)\n",
    "merge_q = Dropout(0.2, name = \"DropOut2\")(merge_q)"
   ]
  },
  {
   "cell_type": "code",
   "execution_count": 114,
   "metadata": {
    "ExecuteTime": {
     "end_time": "2020-07-05T15:59:55.681949Z",
     "start_time": "2020-07-05T15:59:55.669983Z"
    }
   },
   "outputs": [],
   "source": [
    "output = Dense(1, activation='sigmoid', name = \"Output\")(merge_q)"
   ]
  },
  {
   "cell_type": "code",
   "execution_count": 115,
   "metadata": {
    "ExecuteTime": {
     "end_time": "2020-07-05T15:59:55.713850Z",
     "start_time": "2020-07-05T15:59:55.682906Z"
    }
   },
   "outputs": [],
   "source": [
    "model = Model(inputs=[input_q1,input_q2], outputs=output)\n",
    "model.compile(loss='binary_crossentropy', optimizer='adam', metrics=['acc'])"
   ]
  },
  {
   "cell_type": "code",
   "execution_count": 116,
   "metadata": {
    "ExecuteTime": {
     "end_time": "2020-07-05T15:59:55.720805Z",
     "start_time": "2020-07-05T15:59:55.714847Z"
    }
   },
   "outputs": [
    {
     "name": "stdout",
     "output_type": "stream",
     "text": [
      "Model: \"model_1\"\n",
      "__________________________________________________________________________________________________\n",
      "Layer (type)                    Output Shape         Param #     Connected to                     \n",
      "==================================================================================================\n",
      "Input_q1 (InputLayer)           (None, 50)           0                                            \n",
      "__________________________________________________________________________________________________\n",
      "Input_q2 (InputLayer)           (None, 50)           0                                            \n",
      "__________________________________________________________________________________________________\n",
      "Inputs_merged (Concatenate)     (None, 100)          0           Input_q1[0][0]                   \n",
      "                                                                 Input_q2[0][0]                   \n",
      "__________________________________________________________________________________________________\n",
      "Dense1 (Dense)                  (None, 128)          12928       Inputs_merged[0][0]              \n",
      "__________________________________________________________________________________________________\n",
      "BatchNorm1 (BatchNormalization) (None, 128)          512         Dense1[0][0]                     \n",
      "__________________________________________________________________________________________________\n",
      "DropOut1 (Dropout)              (None, 128)          0           BatchNorm1[0][0]                 \n",
      "__________________________________________________________________________________________________\n",
      "Dense2 (Dense)                  (None, 64)           8256        DropOut1[0][0]                   \n",
      "__________________________________________________________________________________________________\n",
      "BatchNorm2 (BatchNormalization) (None, 64)           256         Dense2[0][0]                     \n",
      "__________________________________________________________________________________________________\n",
      "DropOut2 (Dropout)              (None, 64)           0           BatchNorm2[0][0]                 \n",
      "__________________________________________________________________________________________________\n",
      "Output (Dense)                  (None, 1)            65          DropOut2[0][0]                   \n",
      "==================================================================================================\n",
      "Total params: 22,017\n",
      "Trainable params: 21,633\n",
      "Non-trainable params: 384\n",
      "__________________________________________________________________________________________________\n"
     ]
    }
   ],
   "source": [
    "model.summary()"
   ]
  },
  {
   "cell_type": "code",
   "execution_count": 117,
   "metadata": {
    "ExecuteTime": {
     "end_time": "2020-07-05T16:04:35.761707Z",
     "start_time": "2020-07-05T15:59:55.723797Z"
    }
   },
   "outputs": [
    {
     "name": "stdout",
     "output_type": "stream",
     "text": [
      "Train on 384075 samples, validate on 20215 samples\n",
      "Epoch 1/200\n",
      "384075/384075 [==============================] - 3s 8us/step - loss: 0.6076 - acc: 0.6746 - val_loss: 0.5416 - val_acc: 0.7240\n",
      "Epoch 2/200\n",
      "384075/384075 [==============================] - 2s 6us/step - loss: 0.5411 - acc: 0.7177 - val_loss: 0.5109 - val_acc: 0.7382\n",
      "Epoch 3/200\n",
      "384075/384075 [==============================] - 2s 6us/step - loss: 0.5220 - acc: 0.7300 - val_loss: 0.5004 - val_acc: 0.7483\n",
      "Epoch 4/200\n",
      "384075/384075 [==============================] - 2s 6us/step - loss: 0.5100 - acc: 0.7378 - val_loss: 0.4909 - val_acc: 0.7502\n",
      "Epoch 5/200\n",
      "384075/384075 [==============================] - 2s 6us/step - loss: 0.5009 - acc: 0.7435 - val_loss: 0.4834 - val_acc: 0.7554\n",
      "Epoch 6/200\n",
      "384075/384075 [==============================] - 3s 7us/step - loss: 0.4942 - acc: 0.7486 - val_loss: 0.4779 - val_acc: 0.7600\n",
      "Epoch 7/200\n",
      "384075/384075 [==============================] - 2s 5us/step - loss: 0.4884 - acc: 0.7520 - val_loss: 0.4773 - val_acc: 0.7628\n",
      "Epoch 8/200\n",
      "384075/384075 [==============================] - 2s 5us/step - loss: 0.4846 - acc: 0.7546 - val_loss: 0.4754 - val_acc: 0.7652\n",
      "Epoch 9/200\n",
      "384075/384075 [==============================] - 2s 6us/step - loss: 0.4817 - acc: 0.7567 - val_loss: 0.4689 - val_acc: 0.7679\n",
      "Epoch 10/200\n",
      "384075/384075 [==============================] - 3s 8us/step - loss: 0.4775 - acc: 0.7591 - val_loss: 0.4660 - val_acc: 0.7674\n",
      "Epoch 11/200\n",
      "384075/384075 [==============================] - 3s 8us/step - loss: 0.4750 - acc: 0.7613 - val_loss: 0.4637 - val_acc: 0.7704\n",
      "Epoch 12/200\n",
      "384075/384075 [==============================] - 3s 7us/step - loss: 0.4730 - acc: 0.7619 - val_loss: 0.4620 - val_acc: 0.7722\n",
      "Epoch 13/200\n",
      "384075/384075 [==============================] - 3s 7us/step - loss: 0.4703 - acc: 0.7648 - val_loss: 0.4611 - val_acc: 0.7732\n",
      "Epoch 14/200\n",
      "384075/384075 [==============================] - 3s 7us/step - loss: 0.4685 - acc: 0.7652 - val_loss: 0.4623 - val_acc: 0.7688\n",
      "Epoch 15/200\n",
      "384075/384075 [==============================] - 2s 6us/step - loss: 0.4672 - acc: 0.7661 - val_loss: 0.4603 - val_acc: 0.7729\n",
      "Epoch 16/200\n",
      "384075/384075 [==============================] - 2s 6us/step - loss: 0.4641 - acc: 0.7682 - val_loss: 0.4560 - val_acc: 0.7737\n",
      "Epoch 17/200\n",
      "384075/384075 [==============================] - 2s 5us/step - loss: 0.4638 - acc: 0.7689 - val_loss: 0.4593 - val_acc: 0.7743\n",
      "Epoch 18/200\n",
      "384075/384075 [==============================] - 2s 5us/step - loss: 0.4622 - acc: 0.7693 - val_loss: 0.4564 - val_acc: 0.7749\n",
      "Epoch 19/200\n",
      "384075/384075 [==============================] - 2s 6us/step - loss: 0.4609 - acc: 0.7704 - val_loss: 0.4552 - val_acc: 0.7774\n",
      "Epoch 20/200\n",
      "384075/384075 [==============================] - 3s 7us/step - loss: 0.4602 - acc: 0.7707 - val_loss: 0.4558 - val_acc: 0.7761\n",
      "Epoch 21/200\n",
      "384075/384075 [==============================] - 2s 6us/step - loss: 0.4581 - acc: 0.7721 - val_loss: 0.4535 - val_acc: 0.7781\n",
      "Epoch 22/200\n",
      "384075/384075 [==============================] - 2s 6us/step - loss: 0.4576 - acc: 0.7722 - val_loss: 0.4539 - val_acc: 0.7752\n",
      "Epoch 23/200\n",
      "384075/384075 [==============================] - 2s 6us/step - loss: 0.4563 - acc: 0.7738 - val_loss: 0.4532 - val_acc: 0.7760\n",
      "Epoch 24/200\n",
      "384075/384075 [==============================] - 2s 6us/step - loss: 0.4558 - acc: 0.7739 - val_loss: 0.4520 - val_acc: 0.7794\n",
      "Epoch 25/200\n",
      "384075/384075 [==============================] - 2s 7us/step - loss: 0.4540 - acc: 0.7743 - val_loss: 0.4506 - val_acc: 0.7779\n",
      "Epoch 26/200\n",
      "384075/384075 [==============================] - 2s 6us/step - loss: 0.4538 - acc: 0.7744 - val_loss: 0.4511 - val_acc: 0.7806\n",
      "Epoch 27/200\n",
      "384075/384075 [==============================] - 2s 6us/step - loss: 0.4526 - acc: 0.7758 - val_loss: 0.4502 - val_acc: 0.7813\n",
      "Epoch 28/200\n",
      "384075/384075 [==============================] - 2s 6us/step - loss: 0.4525 - acc: 0.7761 - val_loss: 0.4523 - val_acc: 0.7777\n",
      "Epoch 29/200\n",
      "384075/384075 [==============================] - 3s 7us/step - loss: 0.4518 - acc: 0.7766 - val_loss: 0.4503 - val_acc: 0.7817\n",
      "Epoch 30/200\n",
      "384075/384075 [==============================] - 2s 6us/step - loss: 0.4517 - acc: 0.7764 - val_loss: 0.4490 - val_acc: 0.7824\n",
      "Epoch 31/200\n",
      "384075/384075 [==============================] - 2s 6us/step - loss: 0.4502 - acc: 0.7772 - val_loss: 0.4485 - val_acc: 0.7806\n",
      "Epoch 32/200\n",
      "384075/384075 [==============================] - 2s 6us/step - loss: 0.4499 - acc: 0.7776 - val_loss: 0.4487 - val_acc: 0.7802\n",
      "Epoch 33/200\n",
      "384075/384075 [==============================] - 3s 7us/step - loss: 0.4499 - acc: 0.7773 - val_loss: 0.4465 - val_acc: 0.7837\n",
      "Epoch 34/200\n",
      "384075/384075 [==============================] - 3s 7us/step - loss: 0.4489 - acc: 0.7785 - val_loss: 0.4467 - val_acc: 0.7808\n",
      "Epoch 35/200\n",
      "384075/384075 [==============================] - 2s 6us/step - loss: 0.4477 - acc: 0.7800 - val_loss: 0.4477 - val_acc: 0.7836\n",
      "Epoch 36/200\n",
      "384075/384075 [==============================] - 2s 6us/step - loss: 0.4483 - acc: 0.7790 - val_loss: 0.4456 - val_acc: 0.7807\n",
      "Epoch 37/200\n",
      "384075/384075 [==============================] - 2s 6us/step - loss: 0.4474 - acc: 0.7791 - val_loss: 0.4457 - val_acc: 0.7803\n",
      "Epoch 38/200\n",
      "384075/384075 [==============================] - 2s 6us/step - loss: 0.4468 - acc: 0.7796 - val_loss: 0.4457 - val_acc: 0.7817\n",
      "Epoch 39/200\n",
      "384075/384075 [==============================] - 2s 6us/step - loss: 0.4468 - acc: 0.7801 - val_loss: 0.4445 - val_acc: 0.7829\n",
      "Epoch 40/200\n",
      "384075/384075 [==============================] - 2s 6us/step - loss: 0.4460 - acc: 0.7805 - val_loss: 0.4447 - val_acc: 0.7820\n",
      "Epoch 41/200\n",
      "384075/384075 [==============================] - 3s 7us/step - loss: 0.4457 - acc: 0.7800 - val_loss: 0.4433 - val_acc: 0.7848\n",
      "Epoch 42/200\n",
      "384075/384075 [==============================] - 3s 7us/step - loss: 0.4450 - acc: 0.7805 - val_loss: 0.4443 - val_acc: 0.7810\n",
      "Epoch 43/200\n",
      "384075/384075 [==============================] - 2s 6us/step - loss: 0.4445 - acc: 0.7811 - val_loss: 0.4439 - val_acc: 0.7837\n",
      "Epoch 44/200\n",
      "384075/384075 [==============================] - 2s 6us/step - loss: 0.4442 - acc: 0.7812 - val_loss: 0.4430 - val_acc: 0.7839\n",
      "Epoch 45/200\n",
      "384075/384075 [==============================] - 2s 6us/step - loss: 0.4442 - acc: 0.7809 - val_loss: 0.4434 - val_acc: 0.7843\n",
      "Epoch 46/200\n",
      "384075/384075 [==============================] - 2s 6us/step - loss: 0.4439 - acc: 0.7824 - val_loss: 0.4418 - val_acc: 0.7829\n",
      "Epoch 47/200\n",
      "384075/384075 [==============================] - 2s 6us/step - loss: 0.4439 - acc: 0.7818 - val_loss: 0.4439 - val_acc: 0.7846\n",
      "Epoch 48/200\n",
      "384075/384075 [==============================] - 3s 7us/step - loss: 0.4421 - acc: 0.7834 - val_loss: 0.4432 - val_acc: 0.7853\n",
      "Epoch 49/200\n",
      "384075/384075 [==============================] - 2s 6us/step - loss: 0.4430 - acc: 0.7822 - val_loss: 0.4429 - val_acc: 0.7878\n",
      "Epoch 50/200\n",
      "384075/384075 [==============================] - 3s 7us/step - loss: 0.4428 - acc: 0.7826 - val_loss: 0.4430 - val_acc: 0.7854\n",
      "Epoch 51/200\n",
      "384075/384075 [==============================] - 3s 7us/step - loss: 0.4422 - acc: 0.7822 - val_loss: 0.4432 - val_acc: 0.7846\n",
      "Epoch 52/200\n",
      "384075/384075 [==============================] - 2s 6us/step - loss: 0.4419 - acc: 0.7826 - val_loss: 0.4413 - val_acc: 0.7837\n",
      "Epoch 53/200\n",
      "384075/384075 [==============================] - 4s 10us/step - loss: 0.4418 - acc: 0.7828 - val_loss: 0.4446 - val_acc: 0.7857\n",
      "Epoch 54/200\n",
      "384075/384075 [==============================] - 4s 10us/step - loss: 0.4414 - acc: 0.7829 - val_loss: 0.4418 - val_acc: 0.7864\n",
      "Epoch 55/200\n",
      "384075/384075 [==============================] - 4s 10us/step - loss: 0.4412 - acc: 0.7842 - val_loss: 0.4426 - val_acc: 0.7840\n",
      "Epoch 56/200\n",
      "384075/384075 [==============================] - 3s 8us/step - loss: 0.4409 - acc: 0.7833 - val_loss: 0.4427 - val_acc: 0.7879\n",
      "Epoch 57/200\n",
      "384075/384075 [==============================] - 3s 7us/step - loss: 0.4403 - acc: 0.7838 - val_loss: 0.4405 - val_acc: 0.7846\n",
      "Epoch 58/200\n",
      "384075/384075 [==============================] - 3s 7us/step - loss: 0.4407 - acc: 0.7835 - val_loss: 0.4398 - val_acc: 0.7853\n",
      "Epoch 59/200\n",
      "384075/384075 [==============================] - 3s 7us/step - loss: 0.4406 - acc: 0.7833 - val_loss: 0.4405 - val_acc: 0.7869\n",
      "Epoch 60/200\n",
      "384075/384075 [==============================] - 3s 7us/step - loss: 0.4397 - acc: 0.7846 - val_loss: 0.4410 - val_acc: 0.7868\n",
      "Epoch 61/200\n",
      "384075/384075 [==============================] - 3s 7us/step - loss: 0.4395 - acc: 0.7847 - val_loss: 0.4403 - val_acc: 0.7873\n",
      "Epoch 62/200\n",
      "384075/384075 [==============================] - 3s 7us/step - loss: 0.4391 - acc: 0.7850 - val_loss: 0.4399 - val_acc: 0.7872\n",
      "Epoch 63/200\n",
      "384075/384075 [==============================] - 3s 7us/step - loss: 0.4386 - acc: 0.7851 - val_loss: 0.4402 - val_acc: 0.7857\n",
      "Epoch 64/200\n",
      "384075/384075 [==============================] - 3s 7us/step - loss: 0.4392 - acc: 0.7842 - val_loss: 0.4401 - val_acc: 0.7857\n",
      "Epoch 65/200\n",
      "384075/384075 [==============================] - 3s 7us/step - loss: 0.4388 - acc: 0.7840 - val_loss: 0.4403 - val_acc: 0.7861\n",
      "Epoch 66/200\n",
      "384075/384075 [==============================] - 3s 7us/step - loss: 0.4387 - acc: 0.7846 - val_loss: 0.4402 - val_acc: 0.7851\n",
      "Epoch 67/200\n",
      "384075/384075 [==============================] - 3s 7us/step - loss: 0.4374 - acc: 0.7854 - val_loss: 0.4394 - val_acc: 0.7862\n",
      "Epoch 68/200\n",
      "384075/384075 [==============================] - 3s 7us/step - loss: 0.4381 - acc: 0.7851 - val_loss: 0.4396 - val_acc: 0.7853\n",
      "Epoch 69/200\n",
      "384075/384075 [==============================] - 3s 7us/step - loss: 0.4375 - acc: 0.7856 - val_loss: 0.4393 - val_acc: 0.7868\n",
      "Epoch 70/200\n",
      "384075/384075 [==============================] - 3s 7us/step - loss: 0.4383 - acc: 0.7853 - val_loss: 0.4399 - val_acc: 0.7856\n",
      "Epoch 71/200\n",
      "384075/384075 [==============================] - 3s 7us/step - loss: 0.4379 - acc: 0.7849 - val_loss: 0.4395 - val_acc: 0.7861\n",
      "Epoch 72/200\n",
      "384075/384075 [==============================] - 3s 7us/step - loss: 0.4367 - acc: 0.7860 - val_loss: 0.4390 - val_acc: 0.7865\n",
      "Epoch 73/200\n",
      "384075/384075 [==============================] - 3s 7us/step - loss: 0.4374 - acc: 0.7859 - val_loss: 0.4398 - val_acc: 0.7846\n",
      "Epoch 74/200\n",
      "384075/384075 [==============================] - 3s 7us/step - loss: 0.4374 - acc: 0.7850 - val_loss: 0.4398 - val_acc: 0.7866\n",
      "Epoch 75/200\n",
      "384075/384075 [==============================] - 3s 7us/step - loss: 0.4370 - acc: 0.7864 - val_loss: 0.4403 - val_acc: 0.7849\n",
      "Epoch 76/200\n",
      "384075/384075 [==============================] - 3s 7us/step - loss: 0.4372 - acc: 0.7864 - val_loss: 0.4380 - val_acc: 0.7883\n",
      "Epoch 77/200\n",
      "384075/384075 [==============================] - 3s 7us/step - loss: 0.4368 - acc: 0.7855 - val_loss: 0.4388 - val_acc: 0.7867\n",
      "Epoch 78/200\n",
      "384075/384075 [==============================] - 3s 7us/step - loss: 0.4369 - acc: 0.7857 - val_loss: 0.4377 - val_acc: 0.7866\n",
      "Epoch 79/200\n",
      "384075/384075 [==============================] - 3s 7us/step - loss: 0.4363 - acc: 0.7854 - val_loss: 0.4394 - val_acc: 0.7867\n",
      "Epoch 80/200\n",
      "384075/384075 [==============================] - 3s 7us/step - loss: 0.4360 - acc: 0.7862 - val_loss: 0.4369 - val_acc: 0.7868\n",
      "Epoch 81/200\n",
      "384075/384075 [==============================] - 3s 7us/step - loss: 0.4363 - acc: 0.7862 - val_loss: 0.4369 - val_acc: 0.7873\n",
      "Epoch 82/200\n",
      "384075/384075 [==============================] - 3s 7us/step - loss: 0.4352 - acc: 0.7870 - val_loss: 0.4374 - val_acc: 0.7877\n",
      "Epoch 83/200\n",
      "384075/384075 [==============================] - 3s 7us/step - loss: 0.4363 - acc: 0.7862 - val_loss: 0.4372 - val_acc: 0.7881\n",
      "Epoch 84/200\n",
      "384075/384075 [==============================] - 3s 7us/step - loss: 0.4362 - acc: 0.7866 - val_loss: 0.4374 - val_acc: 0.7886\n",
      "Epoch 85/200\n",
      "384075/384075 [==============================] - 3s 7us/step - loss: 0.4352 - acc: 0.7870 - val_loss: 0.4386 - val_acc: 0.7870\n",
      "Epoch 86/200\n",
      "384075/384075 [==============================] - 3s 7us/step - loss: 0.4361 - acc: 0.7861 - val_loss: 0.4369 - val_acc: 0.7863\n",
      "Epoch 87/200\n",
      "384075/384075 [==============================] - 3s 7us/step - loss: 0.4355 - acc: 0.7862 - val_loss: 0.4397 - val_acc: 0.7847\n",
      "Epoch 88/200\n",
      "384075/384075 [==============================] - 3s 7us/step - loss: 0.4357 - acc: 0.7870 - val_loss: 0.4376 - val_acc: 0.7881\n",
      "Epoch 89/200\n",
      "384075/384075 [==============================] - 3s 7us/step - loss: 0.4353 - acc: 0.7870 - val_loss: 0.4380 - val_acc: 0.7868\n",
      "Epoch 90/200\n",
      "384075/384075 [==============================] - 3s 7us/step - loss: 0.4343 - acc: 0.7882 - val_loss: 0.4368 - val_acc: 0.7866\n",
      "Epoch 91/200\n",
      "384075/384075 [==============================] - 3s 7us/step - loss: 0.4344 - acc: 0.7868 - val_loss: 0.4376 - val_acc: 0.7875\n",
      "Epoch 92/200\n",
      "384075/384075 [==============================] - 3s 8us/step - loss: 0.4350 - acc: 0.7872 - val_loss: 0.4365 - val_acc: 0.7879\n",
      "Epoch 93/200\n",
      "384075/384075 [==============================] - 3s 7us/step - loss: 0.4347 - acc: 0.7875 - val_loss: 0.4366 - val_acc: 0.7859\n",
      "Epoch 94/200\n",
      "384075/384075 [==============================] - 3s 7us/step - loss: 0.4350 - acc: 0.7870 - val_loss: 0.4366 - val_acc: 0.7878\n",
      "Epoch 95/200\n",
      "384075/384075 [==============================] - 3s 7us/step - loss: 0.4342 - acc: 0.7881 - val_loss: 0.4375 - val_acc: 0.7880\n",
      "Epoch 96/200\n",
      "384075/384075 [==============================] - 3s 7us/step - loss: 0.4339 - acc: 0.7878 - val_loss: 0.4369 - val_acc: 0.7870\n",
      "Epoch 97/200\n",
      "384075/384075 [==============================] - 3s 7us/step - loss: 0.4343 - acc: 0.7872 - val_loss: 0.4368 - val_acc: 0.7877\n",
      "Epoch 98/200\n",
      "384075/384075 [==============================] - 3s 7us/step - loss: 0.4341 - acc: 0.7875 - val_loss: 0.4361 - val_acc: 0.7871\n",
      "Epoch 99/200\n",
      "384075/384075 [==============================] - 3s 9us/step - loss: 0.4341 - acc: 0.7874 - val_loss: 0.4376 - val_acc: 0.7835\n",
      "Epoch 100/200\n",
      "384075/384075 [==============================] - 3s 9us/step - loss: 0.4336 - acc: 0.7880 - val_loss: 0.4376 - val_acc: 0.7877\n",
      "Epoch 101/200\n",
      "384075/384075 [==============================] - 3s 8us/step - loss: 0.4340 - acc: 0.7879 - val_loss: 0.4361 - val_acc: 0.7885\n",
      "Epoch 102/200\n",
      "384075/384075 [==============================] - 3s 8us/step - loss: 0.4330 - acc: 0.7887 - val_loss: 0.4375 - val_acc: 0.7869\n",
      "Epoch 103/200\n",
      "384075/384075 [==============================] - 3s 7us/step - loss: 0.4339 - acc: 0.7879 - val_loss: 0.4371 - val_acc: 0.7874\n",
      "Epoch 104/200\n",
      "384075/384075 [==============================] - 3s 7us/step - loss: 0.4334 - acc: 0.7886 - val_loss: 0.4365 - val_acc: 0.7881\n",
      "Epoch 105/200\n",
      "384075/384075 [==============================] - 3s 7us/step - loss: 0.4327 - acc: 0.7880 - val_loss: 0.4382 - val_acc: 0.7846\n",
      "Epoch 106/200\n",
      "384075/384075 [==============================] - 3s 7us/step - loss: 0.4329 - acc: 0.7884 - val_loss: 0.4365 - val_acc: 0.7879\n",
      "Epoch 107/200\n",
      "384075/384075 [==============================] - 3s 7us/step - loss: 0.4331 - acc: 0.7889 - val_loss: 0.4370 - val_acc: 0.7875\n",
      "Epoch 108/200\n",
      "384075/384075 [==============================] - 3s 7us/step - loss: 0.4331 - acc: 0.7879 - val_loss: 0.4366 - val_acc: 0.7900\n"
     ]
    },
    {
     "data": {
      "text/plain": [
       "<keras.callbacks.callbacks.History at 0x291986cca08>"
      ]
     },
     "execution_count": 117,
     "metadata": {},
     "output_type": "execute_result"
    }
   ],
   "source": [
    "model.fit([X_train_emb_q1,X_train_emb_q2], np.array(y_train),  validation_data = ([X_test_emb_q1,X_test_emb_q2], np.array(y_test)),  epochs=200, batch_size=1024, shuffle=True, callbacks = [early_stopping])"
   ]
  },
  {
   "cell_type": "code",
   "execution_count": 118,
   "metadata": {
    "ExecuteTime": {
     "end_time": "2020-07-05T16:04:39.975818Z",
     "start_time": "2020-07-05T16:04:35.762704Z"
    }
   },
   "outputs": [],
   "source": [
    "preds_train = model.predict([X_train_emb_q1,X_train_emb_q2])[:,0];"
   ]
  },
  {
   "cell_type": "code",
   "execution_count": 119,
   "metadata": {
    "ExecuteTime": {
     "end_time": "2020-07-05T16:04:40.533806Z",
     "start_time": "2020-07-05T16:04:39.977812Z"
    }
   },
   "outputs": [
    {
     "data": {
      "image/png": "[encoded data removed]",
      "text/plain": [
       "<Figure size 1008x288 with 2 Axes>"
      ]
     },
     "metadata": {
      "needs_background": "light"
     },
     "output_type": "display_data"
    }
   ],
   "source": [
    "fig, ax = plt.subplots(1,2, figsize = (14,4))\n",
    "ax[0].hist(preds_train[y_train==0], bins = 100, alpha = 0.7)\n",
    "ax[0].hist(preds_train[y_train==1], bins = 100, alpha = 0.7)\n",
    "ax[0].set_title(\"Distribution of Probablities by Class\")\n",
    "ax[0].legend([\"0\",\"1\"])\n",
    "\n",
    "output_lr = pd.DataFrame({\"LR_preds\":preds_train, \"y\":y_train})\n",
    "sns.boxplot(x=\"y\", y=\"LR_preds\", data = output_lr, ax = ax[1])\n",
    "ax[1].set_ylabel(\"Predicted Probablities\")\n",
    "ax[1].set_xlabel(\"Duplicate\")\n",
    "ax[1].set_title(\"Probablities by Class\");"
   ]
  },
  {
   "cell_type": "code",
   "execution_count": 120,
   "metadata": {
    "ExecuteTime": {
     "end_time": "2020-07-05T16:04:40.768903Z",
     "start_time": "2020-07-05T16:04:40.534762Z"
    }
   },
   "outputs": [],
   "source": [
    "preds_test = model.predict([X_test_emb_q1,X_test_emb_q2])[:,0]\n",
    "accuracy = accuracy_score(y_test, [1 if p > 0.5 else 0 for p in preds_test]);"
   ]
  },
  {
   "cell_type": "code",
   "execution_count": 121,
   "metadata": {
    "ExecuteTime": {
     "end_time": "2020-07-05T16:04:40.778997Z",
     "start_time": "2020-07-05T16:04:40.769930Z"
    }
   },
   "outputs": [],
   "source": [
    "log_loss_score = log_loss(y_test, preds_test)"
   ]
  },
  {
   "cell_type": "code",
   "execution_count": 122,
   "metadata": {
    "ExecuteTime": {
     "end_time": "2020-07-05T16:04:41.285754Z",
     "start_time": "2020-07-05T16:04:40.779995Z"
    }
   },
   "outputs": [
    {
     "data": {
      "image/png": "[encoded data removed]",
      "text/plain": [
       "<Figure size 1008x288 with 2 Axes>"
      ]
     },
     "metadata": {
      "needs_background": "light"
     },
     "output_type": "display_data"
    }
   ],
   "source": [
    "fig, ax = plt.subplots(1,2, figsize = (14,4))\n",
    "ax[0].hist(preds_test[y_test==0], bins = 100, alpha = 0.7)\n",
    "ax[0].hist(preds_test[y_test==1], bins = 100, alpha = 0.7)\n",
    "ax[0].set_title(\"Distribution of Probablities by Class (Test Set)\")\n",
    "ax[0].legend([\"0\",\"1\"])\n",
    "\n",
    "output_lr = pd.DataFrame({\"LR_preds\":preds_test, \"y\":y_test})\n",
    "sns.boxplot(x=\"y\", y=\"LR_preds\", data = output_lr, ax = ax[1])\n",
    "ax[1].set_ylabel(\"Predicted Probablities\")\n",
    "ax[1].set_xlabel(\"Duplicate\")\n",
    "ax[1].set_title(\"Probablities by Class (Test Set)\");"
   ]
  },
  {
   "cell_type": "code",
   "execution_count": 123,
   "metadata": {
    "ExecuteTime": {
     "end_time": "2020-07-05T16:04:41.293689Z",
     "start_time": "2020-07-05T16:04:41.286707Z"
    }
   },
   "outputs": [],
   "source": [
    "Summary_CS  = Summary_CS.append({\"Model\":\"Avg. Word Embeddings & Neural Network\", \"Log Loss\":np.round(log_loss_score,2), \"Accuracy\":np.round(accuracy,2)}, ignore_index = True)"
   ]
  },
  {
   "cell_type": "code",
   "execution_count": 124,
   "metadata": {
    "ExecuteTime": {
     "end_time": "2020-07-05T16:04:41.311875Z",
     "start_time": "2020-07-05T16:04:41.295519Z"
    }
   },
   "outputs": [
    {
     "data": {
      "text/html": [
       "<div>\n",
       "<style scoped>\n",
       "    .dataframe tbody tr th:only-of-type {\n",
       "        vertical-align: middle;\n",
       "    }\n",
       "\n",
       "    .dataframe tbody tr th {\n",
       "        vertical-align: top;\n",
       "    }\n",
       "\n",
       "    .dataframe thead th {\n",
       "        text-align: right;\n",
       "    }\n",
       "</style>\n",
       "<table border=\"1\" class=\"dataframe\">\n",
       "  <thead>\n",
       "    <tr style=\"text-align: right;\">\n",
       "      <th></th>\n",
       "      <th>Model</th>\n",
       "      <th>Log Loss</th>\n",
       "      <th>Accuracy</th>\n",
       "    </tr>\n",
       "  </thead>\n",
       "  <tbody>\n",
       "    <tr>\n",
       "      <th>0</th>\n",
       "      <td>Diff_len &amp; Char_counts with Logistic Regression</td>\n",
       "      <td>0.57</td>\n",
       "      <td>0.65</td>\n",
       "    </tr>\n",
       "    <tr>\n",
       "      <th>1</th>\n",
       "      <td>Diff_len &amp; Char_counts with Random Forest</td>\n",
       "      <td>0.55</td>\n",
       "      <td>0.68</td>\n",
       "    </tr>\n",
       "    <tr>\n",
       "      <th>2</th>\n",
       "      <td>Diff_len &amp; Char_counts with XGBoost</td>\n",
       "      <td>0.54</td>\n",
       "      <td>0.68</td>\n",
       "    </tr>\n",
       "    <tr>\n",
       "      <th>3</th>\n",
       "      <td>Diff_len &amp; Tf-idf with Logistic Regression</td>\n",
       "      <td>0.58</td>\n",
       "      <td>0.65</td>\n",
       "    </tr>\n",
       "    <tr>\n",
       "      <th>4</th>\n",
       "      <td>Diff_len &amp; Tf-idf with Random Forest</td>\n",
       "      <td>0.55</td>\n",
       "      <td>0.67</td>\n",
       "    </tr>\n",
       "    <tr>\n",
       "      <th>5</th>\n",
       "      <td>Diff_len &amp; Tf-idf with XGBoost</td>\n",
       "      <td>0.55</td>\n",
       "      <td>0.67</td>\n",
       "    </tr>\n",
       "    <tr>\n",
       "      <th>6</th>\n",
       "      <td>Avg. Word Embeddings &amp; Neural Network</td>\n",
       "      <td>0.44</td>\n",
       "      <td>0.79</td>\n",
       "    </tr>\n",
       "  </tbody>\n",
       "</table>\n",
       "</div>"
      ],
      "text/plain": [
       "                                             Model  Log Loss  Accuracy\n",
       "0  Diff_len & Char_counts with Logistic Regression      0.57      0.65\n",
       "1        Diff_len & Char_counts with Random Forest      0.55      0.68\n",
       "2              Diff_len & Char_counts with XGBoost      0.54      0.68\n",
       "3       Diff_len & Tf-idf with Logistic Regression      0.58      0.65\n",
       "4             Diff_len & Tf-idf with Random Forest      0.55      0.67\n",
       "5                   Diff_len & Tf-idf with XGBoost      0.55      0.67\n",
       "6            Avg. Word Embeddings & Neural Network      0.44      0.79"
      ]
     },
     "execution_count": 124,
     "metadata": {},
     "output_type": "execute_result"
    }
   ],
   "source": [
    "Summary_CS"
   ]
  },
  {
   "cell_type": "markdown",
   "metadata": {},
   "source": [
    "Observation:\n",
    "- There is a huge improvement in the test log loss with the latest approach"
   ]
  },
  {
   "cell_type": "markdown",
   "metadata": {
    "ExecuteTime": {
     "end_time": "2020-06-30T04:01:01.597580Z",
     "start_time": "2020-06-30T04:01:01.586534Z"
    }
   },
   "source": [
    "##  Word Embeddings and Dense Layer\n",
    "- Lemmatize both Questions\n",
    "- Use pre trained Glove word embeddings in the Embedding Layer\n",
    "- Build a Neural Network Architecture with the Embedding and Dense Layer"
   ]
  },
  {
   "cell_type": "markdown",
   "metadata": {},
   "source": [
    "### Import Glove word embeddings \n",
    "We use the Glove word embeddings imported earlier"
   ]
  },
  {
   "cell_type": "code",
   "execution_count": 151,
   "metadata": {
    "ExecuteTime": {
     "end_time": "2020-07-08T15:43:13.068217Z",
     "start_time": "2020-07-08T15:43:13.065080Z"
    }
   },
   "outputs": [],
   "source": [
    "VOCAB_DIM = 50000\n",
    "SENTENCE_LEN = 60"
   ]
  },
  {
   "cell_type": "code",
   "execution_count": 152,
   "metadata": {
    "ExecuteTime": {
     "end_time": "2020-07-08T15:43:13.674974Z",
     "start_time": "2020-07-08T15:43:13.670985Z"
    }
   },
   "outputs": [],
   "source": [
    "def filter_glove(vocab_dict, dim = 50, num_words = VOCAB_DIM):\n",
    "    embedding_matrix = np.zeros((num_words+1, dim))\n",
    "    for word, i in vocab_dict.items():\n",
    "        embedding_vector = get_glove_vec(word)\n",
    "        if i == VOCAB_DIM:\n",
    "            break;\n",
    "        embedding_matrix[i] = embedding_vector\n",
    "    return embedding_matrix"
   ]
  },
  {
   "cell_type": "code",
   "execution_count": null,
   "metadata": {},
   "outputs": [],
   "source": [
    "tokenizer = Tokenizer(num_words = VOCAB_DIM)\n",
    "tokenizer.fit_on_texts((Questions_train))\n",
    "word_index = tokenizer.word_index\n",
    "print('Vocabulary size:', len(word_index))"
   ]
  },
  {
   "cell_type": "code",
   "execution_count": null,
   "metadata": {},
   "outputs": [],
   "source": [
    "glove_matrix = filter_glove(tokenizer.word_index)"
   ]
  },
  {
   "cell_type": "markdown",
   "metadata": {},
   "source": [
    "## Creating embedding sequence "
   ]
  },
  {
   "cell_type": "code",
   "execution_count": 268,
   "metadata": {
    "ExecuteTime": {
     "end_time": "2020-07-08T20:40:26.407921Z",
     "start_time": "2020-07-08T20:40:15.950366Z"
    }
   },
   "outputs": [],
   "source": [
    "sequences_q1 = tokenizer.texts_to_sequences(X_train[\"q1\"])\n",
    "sequences_q2 = tokenizer.texts_to_sequences(X_train[\"q2\"])"
   ]
  },
  {
   "cell_type": "code",
   "execution_count": 269,
   "metadata": {
    "ExecuteTime": {
     "end_time": "2020-07-08T20:40:26.859714Z",
     "start_time": "2020-07-08T20:40:26.409558Z"
    }
   },
   "outputs": [],
   "source": [
    "sequences_test_q1 = tokenizer.texts_to_sequences(X_test[\"q1\"])\n",
    "sequences_test_q2 = tokenizer.texts_to_sequences(X_test[\"q2\"])"
   ]
  },
  {
   "cell_type": "code",
   "execution_count": 270,
   "metadata": {
    "ExecuteTime": {
     "end_time": "2020-07-08T20:40:30.680969Z",
     "start_time": "2020-07-08T20:40:28.482089Z"
    }
   },
   "outputs": [],
   "source": [
    "pad_q1 = pad_sequences(sequences_q1, maxlen = SENTENCE_LEN, padding = \"post\", value = 0)\n",
    "pad_q2 = pad_sequences(sequences_q2, maxlen = SENTENCE_LEN, padding = \"post\", value = 0)"
   ]
  },
  {
   "cell_type": "code",
   "execution_count": 271,
   "metadata": {
    "ExecuteTime": {
     "end_time": "2020-07-08T20:40:30.829522Z",
     "start_time": "2020-07-08T20:40:30.681953Z"
    }
   },
   "outputs": [],
   "source": [
    "pad_test_q1 = pad_sequences(sequences_test_q1, maxlen = SENTENCE_LEN, padding = \"post\", value = 0)\n",
    "pad_test_q2 = pad_sequences(sequences_test_q2, maxlen = SENTENCE_LEN, padding = \"post\", value = 0)"
   ]
  },
  {
   "cell_type": "markdown",
   "metadata": {},
   "source": [
    "### Build the Neural Network Architecture"
   ]
  },
  {
   "cell_type": "code",
   "execution_count": 324,
   "metadata": {
    "ExecuteTime": {
     "end_time": "2020-07-08T21:51:30.476536Z",
     "start_time": "2020-07-08T21:51:30.466546Z"
    }
   },
   "outputs": [],
   "source": [
    "def lstm_model(glove_matrix):\n",
    "    input_q1 = Input(shape = (SENTENCE_LEN,))\n",
    "    embedding_q1 = Embedding(input_dim = VOCAB_DIM + 1, output_dim = 50, \n",
    "                         embeddings_initializer=Constant(glove_matrix), \n",
    "                         input_length=SENTENCE_LEN, trainable=False, name = \"embedding_q1\")(input_q1)\n",
    "    input_q2 = Input(shape = (SENTENCE_LEN,))\n",
    "    embedding_q2 = Embedding(input_dim = VOCAB_DIM + 1, output_dim = 50, \n",
    "                         embeddings_initializer=Constant(glove_matrix), \n",
    "                         input_length=SENTENCE_LEN, trainable=False, name = \"embedding_q2\")(input_q2)\n",
    "    \n",
    "    lstm_layers = Sequential(name = \"Siamese_LSTM\")\n",
    "    lstm_layers.add(LSTM(64, dropout = 0.5, return_sequences = True, name = \"LSTM_layer1\" ))\n",
    "    lstm_layers.add(LSTM(64, dropout = 0.5, name = \"LSTM_layer2\"))\n",
    "    lstm_layers.add(Dense(64, name =\"Dense_layer\", activation='relu'))\n",
    "    \n",
    "    lstm_q1 = lstm_layers(embedding_q1)\n",
    "    lstm_q2 = lstm_layers(embedding_q2)\n",
    "    \n",
    "    magic_input = Input(shape = (2,))\n",
    "    magic_dense = Dense(64, activation = \"relu\")(magic_input)\n",
    "    \n",
    "    merge_all = concatenate([lstm_q1, lstm_q2, magic_dense], name = \"Merge\")\n",
    "    merge_all = Dense(64, activation='relu', name = \"Dense1\")(merge_all)\n",
    "    merge_all = BatchNormalization(name = \"BatchNorm1\")(merge_all)\n",
    "    merge_all = Dropout(0.2, name = \"DropOut1\")(merge_all)\n",
    "    output = Dense(1, activation='sigmoid', name = \"Output\")(merge_all)\n",
    "    model = Model(inputs=[input_q1,input_q2,magic_input], outputs=output)\n",
    "    model.compile(loss='binary_crossentropy', optimizer='adam', metrics=['acc'])\n",
    "    return model"
   ]
  },
  {
   "cell_type": "code",
   "execution_count": 325,
   "metadata": {
    "ExecuteTime": {
     "end_time": "2020-07-08T21:51:32.471159Z",
     "start_time": "2020-07-08T21:51:31.163993Z"
    }
   },
   "outputs": [],
   "source": [
    "lstm_model = lstm_model(glove_matrix)"
   ]
  },
  {
   "cell_type": "code",
   "execution_count": 327,
   "metadata": {
    "ExecuteTime": {
     "end_time": "2020-07-08T23:59:40.290454Z",
     "start_time": "2020-07-08T21:53:57.133281Z"
    }
   },
   "outputs": [
    {
     "name": "stdout",
     "output_type": "stream",
     "text": [
      "Train on 384075 samples, validate on 20215 samples\n",
      "Epoch 1/30\n",
      "384075/384075 [==============================] - 1166s 3ms/step - loss: 0.5200 - acc: 0.7117 - val_loss: 0.5687 - val_acc: 0.6427\n",
      "Epoch 2/30\n",
      "384075/384075 [==============================] - 1024s 3ms/step - loss: 0.5000 - acc: 0.7301 - val_loss: 0.4825 - val_acc: 0.7458\n",
      "Epoch 3/30\n",
      "384075/384075 [==============================] - 1128s 3ms/step - loss: 0.4912 - acc: 0.7371 - val_loss: 0.4731 - val_acc: 0.7565\n",
      "Epoch 4/30\n",
      "384075/384075 [==============================] - 1064s 3ms/step - loss: 0.4850 - acc: 0.7420 - val_loss: 0.4650 - val_acc: 0.7597\n",
      "Epoch 5/30\n",
      "384075/384075 [==============================] - 1044s 3ms/step - loss: 0.4804 - acc: 0.7455 - val_loss: 0.4673 - val_acc: 0.7615\n",
      "Epoch 6/30\n",
      "384075/384075 [==============================] - 1043s 3ms/step - loss: 0.4765 - acc: 0.7487 - val_loss: 0.4620 - val_acc: 0.7610\n",
      "Epoch 7/30\n",
      "384000/384075 [============================>.] - ETA: 0s - loss: 0.4717 - acc: 0.7516"
     ]
    },
    {
     "ename": "KeyboardInterrupt",
     "evalue": "",
     "output_type": "error",
     "traceback": [
      "\u001b[1;31m---------------------------------------------------------------------------\u001b[0m",
      "\u001b[1;31mKeyboardInterrupt\u001b[0m                         Traceback (most recent call last)",
      "\u001b[1;32m<ipython-input-327-a0353cdd9349>\u001b[0m in \u001b[0;36m<module>\u001b[1;34m\u001b[0m\n\u001b[1;32m----> 1\u001b[1;33m \u001b[0mlstm_model\u001b[0m\u001b[1;33m.\u001b[0m\u001b[0mfit\u001b[0m\u001b[1;33m(\u001b[0m\u001b[1;33m[\u001b[0m\u001b[0mpad_q1\u001b[0m\u001b[1;33m,\u001b[0m\u001b[0mpad_q2\u001b[0m\u001b[1;33m,\u001b[0m\u001b[0mFeatures_train_n\u001b[0m\u001b[1;33m]\u001b[0m\u001b[1;33m,\u001b[0m \u001b[0my_train\u001b[0m\u001b[1;33m,\u001b[0m \u001b[0mvalidation_data\u001b[0m \u001b[1;33m=\u001b[0m \u001b[1;33m(\u001b[0m\u001b[1;33m[\u001b[0m\u001b[0mpad_test_q1\u001b[0m\u001b[1;33m,\u001b[0m\u001b[0mpad_test_q2\u001b[0m\u001b[1;33m,\u001b[0m \u001b[0mFeatures_test_n\u001b[0m\u001b[1;33m]\u001b[0m\u001b[1;33m,\u001b[0m \u001b[0mnp\u001b[0m\u001b[1;33m.\u001b[0m\u001b[0marray\u001b[0m\u001b[1;33m(\u001b[0m\u001b[0my_test\u001b[0m\u001b[1;33m)\u001b[0m\u001b[1;33m)\u001b[0m \u001b[1;33m,\u001b[0m  \u001b[0mepochs\u001b[0m\u001b[1;33m=\u001b[0m\u001b[1;36m30\u001b[0m\u001b[1;33m,\u001b[0m \u001b[0mbatch_size\u001b[0m\u001b[1;33m=\u001b[0m\u001b[1;36m1024\u001b[0m\u001b[1;33m,\u001b[0m \u001b[0mshuffle\u001b[0m\u001b[1;33m=\u001b[0m\u001b[1;32mTrue\u001b[0m\u001b[1;33m,\u001b[0m \u001b[0mcallbacks\u001b[0m \u001b[1;33m=\u001b[0m \u001b[1;33m[\u001b[0m\u001b[0mearly_stopping\u001b[0m\u001b[1;33m]\u001b[0m\u001b[1;33m)\u001b[0m\u001b[1;33m\u001b[0m\u001b[1;33m\u001b[0m\u001b[0m\n\u001b[0m",
      "\u001b[1;32m~\\AppData\\Local\\Continuum\\anaconda3\\lib\\site-packages\\keras\\engine\\training.py\u001b[0m in \u001b[0;36mfit\u001b[1;34m(self, x, y, batch_size, epochs, verbose, callbacks, validation_split, validation_data, shuffle, class_weight, sample_weight, initial_epoch, steps_per_epoch, validation_steps, validation_freq, max_queue_size, workers, use_multiprocessing, **kwargs)\u001b[0m\n\u001b[0;32m   1237\u001b[0m                                         \u001b[0msteps_per_epoch\u001b[0m\u001b[1;33m=\u001b[0m\u001b[0msteps_per_epoch\u001b[0m\u001b[1;33m,\u001b[0m\u001b[1;33m\u001b[0m\u001b[1;33m\u001b[0m\u001b[0m\n\u001b[0;32m   1238\u001b[0m                                         \u001b[0mvalidation_steps\u001b[0m\u001b[1;33m=\u001b[0m\u001b[0mvalidation_steps\u001b[0m\u001b[1;33m,\u001b[0m\u001b[1;33m\u001b[0m\u001b[1;33m\u001b[0m\u001b[0m\n\u001b[1;32m-> 1239\u001b[1;33m                                         validation_freq=validation_freq)\n\u001b[0m\u001b[0;32m   1240\u001b[0m \u001b[1;33m\u001b[0m\u001b[0m\n\u001b[0;32m   1241\u001b[0m     def evaluate(self,\n",
      "\u001b[1;32m~\\AppData\\Local\\Continuum\\anaconda3\\lib\\site-packages\\keras\\engine\\training_arrays.py\u001b[0m in \u001b[0;36mfit_loop\u001b[1;34m(model, fit_function, fit_inputs, out_labels, batch_size, epochs, verbose, callbacks, val_function, val_inputs, shuffle, initial_epoch, steps_per_epoch, validation_steps, validation_freq)\u001b[0m\n\u001b[0;32m    208\u001b[0m                                          \u001b[0mbatch_size\u001b[0m\u001b[1;33m=\u001b[0m\u001b[0mbatch_size\u001b[0m\u001b[1;33m,\u001b[0m\u001b[1;33m\u001b[0m\u001b[1;33m\u001b[0m\u001b[0m\n\u001b[0;32m    209\u001b[0m                                          \u001b[0mcallbacks\u001b[0m\u001b[1;33m=\u001b[0m\u001b[0mcallbacks\u001b[0m\u001b[1;33m,\u001b[0m\u001b[1;33m\u001b[0m\u001b[1;33m\u001b[0m\u001b[0m\n\u001b[1;32m--> 210\u001b[1;33m                                          verbose=0)\n\u001b[0m\u001b[0;32m    211\u001b[0m                     \u001b[0mval_outs\u001b[0m \u001b[1;33m=\u001b[0m \u001b[0mto_list\u001b[0m\u001b[1;33m(\u001b[0m\u001b[0mval_outs\u001b[0m\u001b[1;33m)\u001b[0m\u001b[1;33m\u001b[0m\u001b[1;33m\u001b[0m\u001b[0m\n\u001b[0;32m    212\u001b[0m                     \u001b[1;31m# Same labels assumed.\u001b[0m\u001b[1;33m\u001b[0m\u001b[1;33m\u001b[0m\u001b[1;33m\u001b[0m\u001b[0m\n",
      "\u001b[1;32m~\\AppData\\Local\\Continuum\\anaconda3\\lib\\site-packages\\keras\\engine\\training_arrays.py\u001b[0m in \u001b[0;36mtest_loop\u001b[1;34m(model, f, ins, batch_size, verbose, steps, callbacks)\u001b[0m\n\u001b[0;32m    447\u001b[0m             \u001b[0mbatch_logs\u001b[0m \u001b[1;33m=\u001b[0m \u001b[1;33m{\u001b[0m\u001b[1;34m'batch'\u001b[0m\u001b[1;33m:\u001b[0m \u001b[0mbatch_index\u001b[0m\u001b[1;33m,\u001b[0m \u001b[1;34m'size'\u001b[0m\u001b[1;33m:\u001b[0m \u001b[0mlen\u001b[0m\u001b[1;33m(\u001b[0m\u001b[0mbatch_ids\u001b[0m\u001b[1;33m)\u001b[0m\u001b[1;33m}\u001b[0m\u001b[1;33m\u001b[0m\u001b[1;33m\u001b[0m\u001b[0m\n\u001b[0;32m    448\u001b[0m             \u001b[0mcallbacks\u001b[0m\u001b[1;33m.\u001b[0m\u001b[0m_call_batch_hook\u001b[0m\u001b[1;33m(\u001b[0m\u001b[1;34m'test'\u001b[0m\u001b[1;33m,\u001b[0m \u001b[1;34m'begin'\u001b[0m\u001b[1;33m,\u001b[0m \u001b[0mbatch_index\u001b[0m\u001b[1;33m,\u001b[0m \u001b[0mbatch_logs\u001b[0m\u001b[1;33m)\u001b[0m\u001b[1;33m\u001b[0m\u001b[1;33m\u001b[0m\u001b[0m\n\u001b[1;32m--> 449\u001b[1;33m             \u001b[0mbatch_outs\u001b[0m \u001b[1;33m=\u001b[0m \u001b[0mf\u001b[0m\u001b[1;33m(\u001b[0m\u001b[0mins_batch\u001b[0m\u001b[1;33m)\u001b[0m\u001b[1;33m\u001b[0m\u001b[1;33m\u001b[0m\u001b[0m\n\u001b[0m\u001b[0;32m    450\u001b[0m             \u001b[1;32mif\u001b[0m \u001b[0misinstance\u001b[0m\u001b[1;33m(\u001b[0m\u001b[0mbatch_outs\u001b[0m\u001b[1;33m,\u001b[0m \u001b[0mlist\u001b[0m\u001b[1;33m)\u001b[0m\u001b[1;33m:\u001b[0m\u001b[1;33m\u001b[0m\u001b[1;33m\u001b[0m\u001b[0m\n\u001b[0;32m    451\u001b[0m                 \u001b[1;32mif\u001b[0m \u001b[0mbatch_index\u001b[0m \u001b[1;33m==\u001b[0m \u001b[1;36m0\u001b[0m\u001b[1;33m:\u001b[0m\u001b[1;33m\u001b[0m\u001b[1;33m\u001b[0m\u001b[0m\n",
      "\u001b[1;32m~\\AppData\\Local\\Continuum\\anaconda3\\lib\\site-packages\\tensorflow_core\\python\\keras\\backend.py\u001b[0m in \u001b[0;36m__call__\u001b[1;34m(self, inputs)\u001b[0m\n\u001b[0;32m   3725\u001b[0m         \u001b[0mvalue\u001b[0m \u001b[1;33m=\u001b[0m \u001b[0mmath_ops\u001b[0m\u001b[1;33m.\u001b[0m\u001b[0mcast\u001b[0m\u001b[1;33m(\u001b[0m\u001b[0mvalue\u001b[0m\u001b[1;33m,\u001b[0m \u001b[0mtensor\u001b[0m\u001b[1;33m.\u001b[0m\u001b[0mdtype\u001b[0m\u001b[1;33m)\u001b[0m\u001b[1;33m\u001b[0m\u001b[1;33m\u001b[0m\u001b[0m\n\u001b[0;32m   3726\u001b[0m       \u001b[0mconverted_inputs\u001b[0m\u001b[1;33m.\u001b[0m\u001b[0mappend\u001b[0m\u001b[1;33m(\u001b[0m\u001b[0mvalue\u001b[0m\u001b[1;33m)\u001b[0m\u001b[1;33m\u001b[0m\u001b[1;33m\u001b[0m\u001b[0m\n\u001b[1;32m-> 3727\u001b[1;33m     \u001b[0moutputs\u001b[0m \u001b[1;33m=\u001b[0m \u001b[0mself\u001b[0m\u001b[1;33m.\u001b[0m\u001b[0m_graph_fn\u001b[0m\u001b[1;33m(\u001b[0m\u001b[1;33m*\u001b[0m\u001b[0mconverted_inputs\u001b[0m\u001b[1;33m)\u001b[0m\u001b[1;33m\u001b[0m\u001b[1;33m\u001b[0m\u001b[0m\n\u001b[0m\u001b[0;32m   3728\u001b[0m \u001b[1;33m\u001b[0m\u001b[0m\n\u001b[0;32m   3729\u001b[0m     \u001b[1;31m# EagerTensor.numpy() will often make a copy to ensure memory safety.\u001b[0m\u001b[1;33m\u001b[0m\u001b[1;33m\u001b[0m\u001b[1;33m\u001b[0m\u001b[0m\n",
      "\u001b[1;32m~\\AppData\\Local\\Continuum\\anaconda3\\lib\\site-packages\\tensorflow_core\\python\\eager\\function.py\u001b[0m in \u001b[0;36m__call__\u001b[1;34m(self, *args, **kwargs)\u001b[0m\n\u001b[0;32m   1549\u001b[0m       \u001b[0mTypeError\u001b[0m\u001b[1;33m:\u001b[0m \u001b[0mFor\u001b[0m \u001b[0minvalid\u001b[0m \u001b[0mpositional\u001b[0m\u001b[1;33m/\u001b[0m\u001b[0mkeyword\u001b[0m \u001b[0margument\u001b[0m \u001b[0mcombinations\u001b[0m\u001b[1;33m.\u001b[0m\u001b[1;33m\u001b[0m\u001b[1;33m\u001b[0m\u001b[0m\n\u001b[0;32m   1550\u001b[0m     \"\"\"\n\u001b[1;32m-> 1551\u001b[1;33m     \u001b[1;32mreturn\u001b[0m \u001b[0mself\u001b[0m\u001b[1;33m.\u001b[0m\u001b[0m_call_impl\u001b[0m\u001b[1;33m(\u001b[0m\u001b[0margs\u001b[0m\u001b[1;33m,\u001b[0m \u001b[0mkwargs\u001b[0m\u001b[1;33m)\u001b[0m\u001b[1;33m\u001b[0m\u001b[1;33m\u001b[0m\u001b[0m\n\u001b[0m\u001b[0;32m   1552\u001b[0m \u001b[1;33m\u001b[0m\u001b[0m\n\u001b[0;32m   1553\u001b[0m   \u001b[1;32mdef\u001b[0m \u001b[0m_call_impl\u001b[0m\u001b[1;33m(\u001b[0m\u001b[0mself\u001b[0m\u001b[1;33m,\u001b[0m \u001b[0margs\u001b[0m\u001b[1;33m,\u001b[0m \u001b[0mkwargs\u001b[0m\u001b[1;33m,\u001b[0m \u001b[0mcancellation_manager\u001b[0m\u001b[1;33m=\u001b[0m\u001b[1;32mNone\u001b[0m\u001b[1;33m)\u001b[0m\u001b[1;33m:\u001b[0m\u001b[1;33m\u001b[0m\u001b[1;33m\u001b[0m\u001b[0m\n",
      "\u001b[1;32m~\\AppData\\Local\\Continuum\\anaconda3\\lib\\site-packages\\tensorflow_core\\python\\eager\\function.py\u001b[0m in \u001b[0;36m_call_impl\u001b[1;34m(self, args, kwargs, cancellation_manager)\u001b[0m\n\u001b[0;32m   1589\u001b[0m       raise TypeError(\"Keyword arguments {} unknown. Expected {}.\".format(\n\u001b[0;32m   1590\u001b[0m           list(kwargs.keys()), list(self._arg_keywords)))\n\u001b[1;32m-> 1591\u001b[1;33m     \u001b[1;32mreturn\u001b[0m \u001b[0mself\u001b[0m\u001b[1;33m.\u001b[0m\u001b[0m_call_flat\u001b[0m\u001b[1;33m(\u001b[0m\u001b[0margs\u001b[0m\u001b[1;33m,\u001b[0m \u001b[0mself\u001b[0m\u001b[1;33m.\u001b[0m\u001b[0mcaptured_inputs\u001b[0m\u001b[1;33m,\u001b[0m \u001b[0mcancellation_manager\u001b[0m\u001b[1;33m)\u001b[0m\u001b[1;33m\u001b[0m\u001b[1;33m\u001b[0m\u001b[0m\n\u001b[0m\u001b[0;32m   1592\u001b[0m \u001b[1;33m\u001b[0m\u001b[0m\n\u001b[0;32m   1593\u001b[0m   \u001b[1;32mdef\u001b[0m \u001b[0m_filtered_call\u001b[0m\u001b[1;33m(\u001b[0m\u001b[0mself\u001b[0m\u001b[1;33m,\u001b[0m \u001b[0margs\u001b[0m\u001b[1;33m,\u001b[0m \u001b[0mkwargs\u001b[0m\u001b[1;33m)\u001b[0m\u001b[1;33m:\u001b[0m\u001b[1;33m\u001b[0m\u001b[1;33m\u001b[0m\u001b[0m\n",
      "\u001b[1;32m~\\AppData\\Local\\Continuum\\anaconda3\\lib\\site-packages\\tensorflow_core\\python\\eager\\function.py\u001b[0m in \u001b[0;36m_call_flat\u001b[1;34m(self, args, captured_inputs, cancellation_manager)\u001b[0m\n\u001b[0;32m   1690\u001b[0m       \u001b[1;31m# No tape is watching; skip to running the function.\u001b[0m\u001b[1;33m\u001b[0m\u001b[1;33m\u001b[0m\u001b[1;33m\u001b[0m\u001b[0m\n\u001b[0;32m   1691\u001b[0m       return self._build_call_outputs(self._inference_function.call(\n\u001b[1;32m-> 1692\u001b[1;33m           ctx, args, cancellation_manager=cancellation_manager))\n\u001b[0m\u001b[0;32m   1693\u001b[0m     forward_backward = self._select_forward_and_backward_functions(\n\u001b[0;32m   1694\u001b[0m         \u001b[0margs\u001b[0m\u001b[1;33m,\u001b[0m\u001b[1;33m\u001b[0m\u001b[1;33m\u001b[0m\u001b[0m\n",
      "\u001b[1;32m~\\AppData\\Local\\Continuum\\anaconda3\\lib\\site-packages\\tensorflow_core\\python\\eager\\function.py\u001b[0m in \u001b[0;36mcall\u001b[1;34m(self, ctx, args, cancellation_manager)\u001b[0m\n\u001b[0;32m    543\u001b[0m               \u001b[0minputs\u001b[0m\u001b[1;33m=\u001b[0m\u001b[0margs\u001b[0m\u001b[1;33m,\u001b[0m\u001b[1;33m\u001b[0m\u001b[1;33m\u001b[0m\u001b[0m\n\u001b[0;32m    544\u001b[0m               \u001b[0mattrs\u001b[0m\u001b[1;33m=\u001b[0m\u001b[1;33m(\u001b[0m\u001b[1;34m\"executor_type\"\u001b[0m\u001b[1;33m,\u001b[0m \u001b[0mexecutor_type\u001b[0m\u001b[1;33m,\u001b[0m \u001b[1;34m\"config_proto\"\u001b[0m\u001b[1;33m,\u001b[0m \u001b[0mconfig\u001b[0m\u001b[1;33m)\u001b[0m\u001b[1;33m,\u001b[0m\u001b[1;33m\u001b[0m\u001b[1;33m\u001b[0m\u001b[0m\n\u001b[1;32m--> 545\u001b[1;33m               ctx=ctx)\n\u001b[0m\u001b[0;32m    546\u001b[0m         \u001b[1;32melse\u001b[0m\u001b[1;33m:\u001b[0m\u001b[1;33m\u001b[0m\u001b[1;33m\u001b[0m\u001b[0m\n\u001b[0;32m    547\u001b[0m           outputs = execute.execute_with_cancellation(\n",
      "\u001b[1;32m~\\AppData\\Local\\Continuum\\anaconda3\\lib\\site-packages\\tensorflow_core\\python\\eager\\execute.py\u001b[0m in \u001b[0;36mquick_execute\u001b[1;34m(op_name, num_outputs, inputs, attrs, ctx, name)\u001b[0m\n\u001b[0;32m     59\u001b[0m     tensors = pywrap_tensorflow.TFE_Py_Execute(ctx._handle, device_name,\n\u001b[0;32m     60\u001b[0m                                                \u001b[0mop_name\u001b[0m\u001b[1;33m,\u001b[0m \u001b[0minputs\u001b[0m\u001b[1;33m,\u001b[0m \u001b[0mattrs\u001b[0m\u001b[1;33m,\u001b[0m\u001b[1;33m\u001b[0m\u001b[1;33m\u001b[0m\u001b[0m\n\u001b[1;32m---> 61\u001b[1;33m                                                num_outputs)\n\u001b[0m\u001b[0;32m     62\u001b[0m   \u001b[1;32mexcept\u001b[0m \u001b[0mcore\u001b[0m\u001b[1;33m.\u001b[0m\u001b[0m_NotOkStatusException\u001b[0m \u001b[1;32mas\u001b[0m \u001b[0me\u001b[0m\u001b[1;33m:\u001b[0m\u001b[1;33m\u001b[0m\u001b[1;33m\u001b[0m\u001b[0m\n\u001b[0;32m     63\u001b[0m     \u001b[1;32mif\u001b[0m \u001b[0mname\u001b[0m \u001b[1;32mis\u001b[0m \u001b[1;32mnot\u001b[0m \u001b[1;32mNone\u001b[0m\u001b[1;33m:\u001b[0m\u001b[1;33m\u001b[0m\u001b[1;33m\u001b[0m\u001b[0m\n",
      "\u001b[1;31mKeyboardInterrupt\u001b[0m: "
     ]
    }
   ],
   "source": [
    "lstm_model.fit([pad_q1,pad_q2,Features_train_n], y_train, validation_data = ([pad_test_q1,pad_test_q2, Features_test_n], np.array(y_test)) ,  epochs=30, batch_size=1024, shuffle=True, callbacks = [early_stopping])"
   ]
  },
  {
   "cell_type": "code",
   "execution_count": 329,
   "metadata": {
    "ExecuteTime": {
     "end_time": "2020-07-09T00:16:08.425575Z",
     "start_time": "2020-07-09T00:00:05.500523Z"
    }
   },
   "outputs": [],
   "source": [
    "preds_train = lstm_model.predict([pad_q1,pad_q2, Features_train_n])[: ,0];"
   ]
  },
  {
   "cell_type": "code",
   "execution_count": 330,
   "metadata": {
    "ExecuteTime": {
     "end_time": "2020-07-09T00:16:09.009930Z",
     "start_time": "2020-07-09T00:16:08.427430Z"
    }
   },
   "outputs": [
    {
     "data": {
      "image/png": "[encoded data removed]",
      "text/plain": [
       "<Figure size 1008x288 with 2 Axes>"
      ]
     },
     "metadata": {
      "needs_background": "light"
     },
     "output_type": "display_data"
    }
   ],
   "source": [
    "fig, ax = plt.subplots(1,2, figsize = (14,4))\n",
    "ax[0].hist(preds_train[y_train==0], bins = 100, alpha = 0.7)\n",
    "ax[0].hist(preds_train[y_train==1], bins = 100, alpha = 0.7)\n",
    "ax[0].set_title(\"Distribution of Probablities by Class\")\n",
    "ax[0].legend([\"0\",\"1\"])\n",
    "\n",
    "output_lr = pd.DataFrame({\"LR_preds\":preds_train, \"y\":y_train})\n",
    "sns.boxplot(x=\"y\", y=\"LR_preds\", data = output_lr, ax = ax[1])\n",
    "ax[1].set_ylabel(\"Predicted Probablities\")\n",
    "ax[1].set_xlabel(\"Duplicate\")\n",
    "ax[1].set_title(\"Probablities by Class\");"
   ]
  },
  {
   "cell_type": "code",
   "execution_count": 332,
   "metadata": {
    "ExecuteTime": {
     "end_time": "2020-07-09T00:19:54.772090Z",
     "start_time": "2020-07-09T00:19:02.716738Z"
    }
   },
   "outputs": [],
   "source": [
    "preds_test = lstm_model.predict([pad_test_q1,pad_test_q2,Features_test_n])[:,0];\n",
    "accuracy = accuracy_score(y_test, [1 if p > 0.5 else 0 for p in preds_test]);\n",
    "#preds_test[preds_test < 0.00001] = 0.00001 \n",
    "#preds_test[preds_test  > 0.99999] =  0.99999"
   ]
  },
  {
   "cell_type": "code",
   "execution_count": 333,
   "metadata": {
    "ExecuteTime": {
     "end_time": "2020-07-09T00:19:54.793079Z",
     "start_time": "2020-07-09T00:19:54.775084Z"
    }
   },
   "outputs": [],
   "source": [
    "log_loss_score = log_loss(y_test, preds_test)"
   ]
  },
  {
   "cell_type": "code",
   "execution_count": 334,
   "metadata": {
    "ExecuteTime": {
     "end_time": "2020-07-09T00:19:55.507278Z",
     "start_time": "2020-07-09T00:19:54.796065Z"
    }
   },
   "outputs": [
    {
     "data": {
      "image/png": "[encoded data removed]",
      "text/plain": [
       "<Figure size 1008x288 with 2 Axes>"
      ]
     },
     "metadata": {
      "needs_background": "light"
     },
     "output_type": "display_data"
    }
   ],
   "source": [
    "fig, ax = plt.subplots(1,2, figsize = (14,4))\n",
    "ax[0].hist(preds_test[y_test==0], bins = 100, alpha = 0.7)\n",
    "ax[0].hist(preds_test[y_test==1], bins = 100, alpha = 0.7)\n",
    "ax[0].set_title(\"Distribution of Probablities by Class (Test Set)\")\n",
    "ax[0].legend([\"0\",\"1\"])\n",
    "\n",
    "output_lr = pd.DataFrame({\"LR_preds\":preds_test, \"y\":y_test})\n",
    "sns.boxplot(x=\"y\", y=\"LR_preds\", data = output_lr, ax = ax[1])\n",
    "ax[1].set_ylabel(\"Predicted Probablities\")\n",
    "ax[1].set_xlabel(\"Duplicate\")\n",
    "ax[1].set_title(\"Probablities by Class (Test Set)\");"
   ]
  },
  {
   "cell_type": "code",
   "execution_count": 335,
   "metadata": {
    "ExecuteTime": {
     "end_time": "2020-07-09T00:19:55.523684Z",
     "start_time": "2020-07-09T00:19:55.510270Z"
    }
   },
   "outputs": [],
   "source": [
    "Summary_CS  = Summary_CS.append({\"Model\":\"LSTM Architecture\", \"Log Loss\":np.round(log_loss_score,2), \"Accuracy\":np.round(accuracy,2)}, ignore_index = True)"
   ]
  },
  {
   "cell_type": "code",
   "execution_count": 336,
   "metadata": {
    "ExecuteTime": {
     "end_time": "2020-07-09T00:19:55.542498Z",
     "start_time": "2020-07-09T00:19:55.525632Z"
    },
    "scrolled": true
   },
   "outputs": [
    {
     "data": {
      "text/html": [
       "<div>\n",
       "<style scoped>\n",
       "    .dataframe tbody tr th:only-of-type {\n",
       "        vertical-align: middle;\n",
       "    }\n",
       "\n",
       "    .dataframe tbody tr th {\n",
       "        vertical-align: top;\n",
       "    }\n",
       "\n",
       "    .dataframe thead th {\n",
       "        text-align: right;\n",
       "    }\n",
       "</style>\n",
       "<table border=\"1\" class=\"dataframe\">\n",
       "  <thead>\n",
       "    <tr style=\"text-align: right;\">\n",
       "      <th></th>\n",
       "      <th>Model</th>\n",
       "      <th>Log Loss</th>\n",
       "      <th>Accuracy</th>\n",
       "    </tr>\n",
       "  </thead>\n",
       "  <tbody>\n",
       "    <tr>\n",
       "      <th>0</th>\n",
       "      <td>Diff_len &amp; Char_counts with Logistic Regression</td>\n",
       "      <td>0.57</td>\n",
       "      <td>0.65</td>\n",
       "    </tr>\n",
       "    <tr>\n",
       "      <th>1</th>\n",
       "      <td>Diff_len &amp; Char_counts with Random Forest</td>\n",
       "      <td>0.55</td>\n",
       "      <td>0.68</td>\n",
       "    </tr>\n",
       "    <tr>\n",
       "      <th>2</th>\n",
       "      <td>Word Embeddings &amp; Dense Neural Network</td>\n",
       "      <td>0.49</td>\n",
       "      <td>0.78</td>\n",
       "    </tr>\n",
       "    <tr>\n",
       "      <th>3</th>\n",
       "      <td>Word Embeddings &amp; Dense Neural Network</td>\n",
       "      <td>0.47</td>\n",
       "      <td>0.78</td>\n",
       "    </tr>\n",
       "    <tr>\n",
       "      <th>4</th>\n",
       "      <td>LSTM Architecture</td>\n",
       "      <td>0.46</td>\n",
       "      <td>0.77</td>\n",
       "    </tr>\n",
       "  </tbody>\n",
       "</table>\n",
       "</div>"
      ],
      "text/plain": [
       "                                             Model  Log Loss  Accuracy\n",
       "0  Diff_len & Char_counts with Logistic Regression      0.57      0.65\n",
       "1        Diff_len & Char_counts with Random Forest      0.55      0.68\n",
       "2           Word Embeddings & Dense Neural Network      0.49      0.78\n",
       "3           Word Embeddings & Dense Neural Network      0.47      0.78\n",
       "4                                LSTM Architecture      0.46      0.77"
      ]
     },
     "execution_count": 336,
     "metadata": {},
     "output_type": "execute_result"
    }
   ],
   "source": [
    "Summary_CS"
   ]
  },
  {
   "cell_type": "markdown",
   "metadata": {},
   "source": [
    "##  Word Embeddings and LSTM\n",
    "- Use pre trained Glove word embeddings in the Embedding Layer\n",
    "- Build a Neural Network Architecture with the Embedding, LSTM and Dense Layer"
   ]
  },
  {
   "cell_type": "markdown",
   "metadata": {},
   "source": [
    "### Import Glove word embeddings \n",
    "We use the Glove word embeddings imported earlier"
   ]
  },
  {
   "cell_type": "code",
   "execution_count": 50,
   "metadata": {
    "ExecuteTime": {
     "end_time": "2020-07-08T14:49:55.921125Z",
     "start_time": "2020-07-08T14:49:55.916143Z"
    }
   },
   "outputs": [],
   "source": [
    "glove_matrix = filter_glove(tokenizer.word_index)"
   ]
  },
  {
   "cell_type": "markdown",
   "metadata": {},
   "source": [
    "### Build the Neural Network Architecture"
   ]
  },
  {
   "cell_type": "code",
   "execution_count": 405,
   "metadata": {
    "ExecuteTime": {
     "end_time": "2020-07-09T03:12:08.796429Z",
     "start_time": "2020-07-09T03:12:08.770830Z"
    }
   },
   "outputs": [],
   "source": [
    "def cnn_arch(glove_matrix):\n",
    "    input_q1 = Input(shape = (SENTENCE_LEN,))\n",
    "    embedding_q1 = Embedding(input_dim = VOCAB_DIM + 1, output_dim = 50, \n",
    "                         embeddings_initializer=Constant(glove_matrix), \n",
    "                         input_length=SENTENCE_LEN, trainable=False, name = \"embedding_q1\")(input_q1)\n",
    "    input_q2 = Input(shape = (SENTENCE_LEN,))\n",
    "    embedding_q2 = Embedding(input_dim = VOCAB_DIM + 1, output_dim = 50, \n",
    "                         embeddings_initializer=Constant(glove_matrix), \n",
    "                         input_length= SENTENCE_LEN, trainable=False, name = \"embedding_q2\")(input_q2)\n",
    "    \n",
    "\n",
    "    \n",
    "    cnn_layers2 = Sequential()\n",
    "    cnn_layers2.add(Conv1D(filters=128, kernel_size=2,input_shape = (SENTENCE_LEN,50), padding='same', activation='relu')) \n",
    "    cnn_layers2.add(GlobalAveragePooling1D())\n",
    "    cnn_layers2.add(BatchNormalization())\n",
    "    cnn_layers2.add(Dropout(0.2))\n",
    "    cnn_layers2.add(Dense(64, activation='relu'))\n",
    "    cnn_layers2.add(BatchNormalization())\n",
    "    cnn_layers2.add(Dropout(0.2))\n",
    "    cnn_q1k2 = cnn_layers2(embedding_q1)\n",
    "    cnn_q2k2 = cnn_layers2(embedding_q2)\n",
    "\n",
    "    \n",
    "    magic_input = Input(shape = (2,))\n",
    "    magic_dense = Dense(64, activation = \"relu\")(magic_input)\n",
    "    \n",
    "    merge_all = concatenate([cnn_q1k2, cnn_q2k2, magic_dense])\n",
    "    merge_all = Dense(128, activation='relu')(merge_all)\n",
    "    merge_all = BatchNormalization()(merge_all)\n",
    "    merge_all = Dropout(0.2)(merge_all)\n",
    "    output = Dense(1, activation='sigmoid')(merge_all)\n",
    "    model = Model(inputs=[input_q1,input_q2,magic_input], outputs=output)\n",
    "    model.compile(loss='binary_crossentropy', optimizer=\"adam\", metrics=['acc'])\n",
    "    \n",
    "    return model"
   ]
  },
  {
   "cell_type": "code",
   "execution_count": 406,
   "metadata": {
    "ExecuteTime": {
     "end_time": "2020-07-09T03:12:09.709015Z",
     "start_time": "2020-07-09T03:12:09.402819Z"
    }
   },
   "outputs": [],
   "source": [
    "cnn_model = cnn_arch(glove_matrix)"
   ]
  },
  {
   "cell_type": "code",
   "execution_count": 407,
   "metadata": {
    "ExecuteTime": {
     "end_time": "2020-07-09T03:46:25.741029Z",
     "start_time": "2020-07-09T03:12:09.953248Z"
    }
   },
   "outputs": [
    {
     "name": "stdout",
     "output_type": "stream",
     "text": [
      "Train on 384075 samples, validate on 20215 samples\n",
      "Epoch 1/10\n",
      "384075/384075 [==============================] - 197s 513us/step - loss: 0.5408 - acc: 0.7088 - val_loss: 0.4840 - val_acc: 0.7478\n",
      "Epoch 2/10\n",
      "384075/384075 [==============================] - 208s 541us/step - loss: 0.4784 - acc: 0.7482 - val_loss: 0.4628 - val_acc: 0.7667\n",
      "Epoch 3/10\n",
      "384075/384075 [==============================] - 208s 541us/step - loss: 0.4585 - acc: 0.7635 - val_loss: 0.4596 - val_acc: 0.7633\n",
      "Epoch 4/10\n",
      "384075/384075 [==============================] - 207s 538us/step - loss: 0.4480 - acc: 0.7705 - val_loss: 0.4398 - val_acc: 0.7772\n",
      "Epoch 5/10\n",
      "384075/384075 [==============================] - 210s 546us/step - loss: 0.4401 - acc: 0.7766 - val_loss: 0.4678 - val_acc: 0.7551\n",
      "Epoch 6/10\n",
      "384075/384075 [==============================] - 211s 549us/step - loss: 0.4344 - acc: 0.7798 - val_loss: 0.4382 - val_acc: 0.7768\n",
      "Epoch 7/10\n",
      "384075/384075 [==============================] - 210s 546us/step - loss: 0.4299 - acc: 0.7826 - val_loss: 0.4304 - val_acc: 0.7858\n",
      "Epoch 8/10\n",
      "384075/384075 [==============================] - 212s 551us/step - loss: 0.4259 - acc: 0.7860 - val_loss: 0.4261 - val_acc: 0.7863\n",
      "Epoch 9/10\n",
      "384075/384075 [==============================] - 201s 524us/step - loss: 0.4230 - acc: 0.7870 - val_loss: 0.4188 - val_acc: 0.7901\n",
      "Epoch 10/10\n",
      "384075/384075 [==============================] - 192s 501us/step - loss: 0.4198 - acc: 0.7896 - val_loss: 0.4194 - val_acc: 0.7915\n"
     ]
    },
    {
     "data": {
      "text/plain": [
       "<keras.callbacks.callbacks.History at 0x1e8ae40cf48>"
      ]
     },
     "execution_count": 407,
     "metadata": {},
     "output_type": "execute_result"
    }
   ],
   "source": [
    "cnn_model.fit([pad_q1,pad_q2,Features_train_n], y_train, validation_data = ([pad_test_q1,pad_test_q2, Features_test_n],y_test) ,  epochs=10, batch_size=1024, shuffle=True, callbacks = [early_stopping])"
   ]
  },
  {
   "cell_type": "code",
   "execution_count": 389,
   "metadata": {
    "ExecuteTime": {
     "end_time": "2020-07-09T02:40:21.039927Z",
     "start_time": "2020-07-09T02:40:21.024839Z"
    }
   },
   "outputs": [
    {
     "name": "stdout",
     "output_type": "stream",
     "text": [
      "Model: \"model_15\"\n",
      "__________________________________________________________________________________________________\n",
      "Layer (type)                    Output Shape         Param #     Connected to                     \n",
      "==================================================================================================\n",
      "input_47 (InputLayer)           (None, 60)           0                                            \n",
      "__________________________________________________________________________________________________\n",
      "input_48 (InputLayer)           (None, 60)           0                                            \n",
      "__________________________________________________________________________________________________\n",
      "embedding_q1 (Embedding)        (None, 60, 50)       2500050     input_47[0][0]                   \n",
      "__________________________________________________________________________________________________\n",
      "embedding_q2 (Embedding)        (None, 60, 50)       2500050     input_48[0][0]                   \n",
      "__________________________________________________________________________________________________\n",
      "input_49 (InputLayer)           (None, 2)            0                                            \n",
      "__________________________________________________________________________________________________\n",
      "sequential_15 (Sequential)      (None, 64)           528960      embedding_q1[0][0]               \n",
      "                                                                 embedding_q2[0][0]               \n",
      "__________________________________________________________________________________________________\n",
      "dense_49 (Dense)                (None, 64)           192         input_49[0][0]                   \n",
      "__________________________________________________________________________________________________\n",
      "concatenate_14 (Concatenate)    (None, 192)          0           sequential_15[1][0]              \n",
      "                                                                 sequential_15[2][0]              \n",
      "                                                                 dense_49[0][0]                   \n",
      "__________________________________________________________________________________________________\n",
      "dense_50 (Dense)                (None, 128)          24704       concatenate_14[0][0]             \n",
      "__________________________________________________________________________________________________\n",
      "batch_normalization_49 (BatchNo (None, 128)          512         dense_50[0][0]                   \n",
      "__________________________________________________________________________________________________\n",
      "dropout_49 (Dropout)            (None, 128)          0           batch_normalization_49[0][0]     \n",
      "__________________________________________________________________________________________________\n",
      "dense_51 (Dense)                (None, 1)            129         dropout_49[0][0]                 \n",
      "==================================================================================================\n",
      "Total params: 5,554,597\n",
      "Trainable params: 546,177\n",
      "Non-trainable params: 5,008,420\n",
      "__________________________________________________________________________________________________\n"
     ]
    }
   ],
   "source": [
    "model.summary()"
   ]
  },
  {
   "cell_type": "code",
   "execution_count": 266,
   "metadata": {
    "ExecuteTime": {
     "end_time": "2020-07-08T20:36:25.009638Z",
     "start_time": "2020-07-08T20:36:22.954356Z"
    }
   },
   "outputs": [
    {
     "ename": "IndexError",
     "evalue": "index 20215 is out of bounds for axis 0 with size 20215",
     "output_type": "error",
     "traceback": [
      "\u001b[1;31m---------------------------------------------------------------------------\u001b[0m",
      "\u001b[1;31mIndexError\u001b[0m                                Traceback (most recent call last)",
      "\u001b[1;32m<ipython-input-266-53e1ab636c92>\u001b[0m in \u001b[0;36m<module>\u001b[1;34m\u001b[0m\n\u001b[1;32m----> 1\u001b[1;33m \u001b[0mpreds_train\u001b[0m \u001b[1;33m=\u001b[0m \u001b[0mmodel\u001b[0m\u001b[1;33m.\u001b[0m\u001b[0mpredict\u001b[0m\u001b[1;33m(\u001b[0m\u001b[1;33m[\u001b[0m\u001b[0mpad_q1\u001b[0m\u001b[1;33m,\u001b[0m\u001b[0mpad_q2\u001b[0m\u001b[1;33m,\u001b[0m \u001b[0mFeatures_test_n\u001b[0m\u001b[1;33m]\u001b[0m\u001b[1;33m)\u001b[0m\u001b[1;33m;\u001b[0m\u001b[1;33m\u001b[0m\u001b[1;33m\u001b[0m\u001b[0m\n\u001b[0m",
      "\u001b[1;32m~\\AppData\\Local\\Continuum\\anaconda3\\lib\\site-packages\\keras\\engine\\training.py\u001b[0m in \u001b[0;36mpredict\u001b[1;34m(self, x, batch_size, verbose, steps, callbacks, max_queue_size, workers, use_multiprocessing)\u001b[0m\n\u001b[0;32m   1460\u001b[0m                                             \u001b[0mverbose\u001b[0m\u001b[1;33m=\u001b[0m\u001b[0mverbose\u001b[0m\u001b[1;33m,\u001b[0m\u001b[1;33m\u001b[0m\u001b[1;33m\u001b[0m\u001b[0m\n\u001b[0;32m   1461\u001b[0m                                             \u001b[0msteps\u001b[0m\u001b[1;33m=\u001b[0m\u001b[0msteps\u001b[0m\u001b[1;33m,\u001b[0m\u001b[1;33m\u001b[0m\u001b[1;33m\u001b[0m\u001b[0m\n\u001b[1;32m-> 1462\u001b[1;33m                                             callbacks=callbacks)\n\u001b[0m\u001b[0;32m   1463\u001b[0m \u001b[1;33m\u001b[0m\u001b[0m\n\u001b[0;32m   1464\u001b[0m     def train_on_batch(self, x, y,\n",
      "\u001b[1;32m~\\AppData\\Local\\Continuum\\anaconda3\\lib\\site-packages\\keras\\engine\\training_arrays.py\u001b[0m in \u001b[0;36mpredict_loop\u001b[1;34m(model, f, ins, batch_size, verbose, steps, callbacks)\u001b[0m\n\u001b[0;32m    314\u001b[0m             \u001b[1;32mif\u001b[0m \u001b[0mins\u001b[0m \u001b[1;32mand\u001b[0m \u001b[0misinstance\u001b[0m\u001b[1;33m(\u001b[0m\u001b[0mins\u001b[0m\u001b[1;33m[\u001b[0m\u001b[1;33m-\u001b[0m\u001b[1;36m1\u001b[0m\u001b[1;33m]\u001b[0m\u001b[1;33m,\u001b[0m \u001b[0mint\u001b[0m\u001b[1;33m)\u001b[0m\u001b[1;33m:\u001b[0m\u001b[1;33m\u001b[0m\u001b[1;33m\u001b[0m\u001b[0m\n\u001b[0;32m    315\u001b[0m                 \u001b[1;31m# Do not slice the training phase flag.\u001b[0m\u001b[1;33m\u001b[0m\u001b[1;33m\u001b[0m\u001b[1;33m\u001b[0m\u001b[0m\n\u001b[1;32m--> 316\u001b[1;33m                 \u001b[0mins_batch\u001b[0m \u001b[1;33m=\u001b[0m \u001b[0mslice_arrays\u001b[0m\u001b[1;33m(\u001b[0m\u001b[0mins\u001b[0m\u001b[1;33m[\u001b[0m\u001b[1;33m:\u001b[0m\u001b[1;33m-\u001b[0m\u001b[1;36m1\u001b[0m\u001b[1;33m]\u001b[0m\u001b[1;33m,\u001b[0m \u001b[0mbatch_ids\u001b[0m\u001b[1;33m)\u001b[0m \u001b[1;33m+\u001b[0m \u001b[1;33m[\u001b[0m\u001b[0mins\u001b[0m\u001b[1;33m[\u001b[0m\u001b[1;33m-\u001b[0m\u001b[1;36m1\u001b[0m\u001b[1;33m]\u001b[0m\u001b[1;33m]\u001b[0m\u001b[1;33m\u001b[0m\u001b[1;33m\u001b[0m\u001b[0m\n\u001b[0m\u001b[0;32m    317\u001b[0m             \u001b[1;32melse\u001b[0m\u001b[1;33m:\u001b[0m\u001b[1;33m\u001b[0m\u001b[1;33m\u001b[0m\u001b[0m\n\u001b[0;32m    318\u001b[0m                 \u001b[0mins_batch\u001b[0m \u001b[1;33m=\u001b[0m \u001b[0mslice_arrays\u001b[0m\u001b[1;33m(\u001b[0m\u001b[0mins\u001b[0m\u001b[1;33m,\u001b[0m \u001b[0mbatch_ids\u001b[0m\u001b[1;33m)\u001b[0m\u001b[1;33m\u001b[0m\u001b[1;33m\u001b[0m\u001b[0m\n",
      "\u001b[1;32m~\\AppData\\Local\\Continuum\\anaconda3\\lib\\site-packages\\keras\\utils\\generic_utils.py\u001b[0m in \u001b[0;36mslice_arrays\u001b[1;34m(arrays, start, stop)\u001b[0m\n\u001b[0;32m    553\u001b[0m             \u001b[1;32mif\u001b[0m \u001b[0mhasattr\u001b[0m\u001b[1;33m(\u001b[0m\u001b[0mstart\u001b[0m\u001b[1;33m,\u001b[0m \u001b[1;34m'shape'\u001b[0m\u001b[1;33m)\u001b[0m\u001b[1;33m:\u001b[0m\u001b[1;33m\u001b[0m\u001b[1;33m\u001b[0m\u001b[0m\n\u001b[0;32m    554\u001b[0m                 \u001b[0mstart\u001b[0m \u001b[1;33m=\u001b[0m \u001b[0mstart\u001b[0m\u001b[1;33m.\u001b[0m\u001b[0mtolist\u001b[0m\u001b[1;33m(\u001b[0m\u001b[1;33m)\u001b[0m\u001b[1;33m\u001b[0m\u001b[1;33m\u001b[0m\u001b[0m\n\u001b[1;32m--> 555\u001b[1;33m             \u001b[1;32mreturn\u001b[0m \u001b[1;33m[\u001b[0m\u001b[1;32mNone\u001b[0m \u001b[1;32mif\u001b[0m \u001b[0mx\u001b[0m \u001b[1;32mis\u001b[0m \u001b[1;32mNone\u001b[0m \u001b[1;32melse\u001b[0m \u001b[0mx\u001b[0m\u001b[1;33m[\u001b[0m\u001b[0mstart\u001b[0m\u001b[1;33m]\u001b[0m \u001b[1;32mfor\u001b[0m \u001b[0mx\u001b[0m \u001b[1;32min\u001b[0m \u001b[0marrays\u001b[0m\u001b[1;33m]\u001b[0m\u001b[1;33m\u001b[0m\u001b[1;33m\u001b[0m\u001b[0m\n\u001b[0m\u001b[0;32m    556\u001b[0m         \u001b[1;32melse\u001b[0m\u001b[1;33m:\u001b[0m\u001b[1;33m\u001b[0m\u001b[1;33m\u001b[0m\u001b[0m\n\u001b[0;32m    557\u001b[0m             \u001b[1;32mreturn\u001b[0m \u001b[1;33m[\u001b[0m\u001b[1;32mNone\u001b[0m \u001b[1;32mif\u001b[0m \u001b[0mx\u001b[0m \u001b[1;32mis\u001b[0m \u001b[1;32mNone\u001b[0m \u001b[1;32melse\u001b[0m \u001b[0mx\u001b[0m\u001b[1;33m[\u001b[0m\u001b[0mstart\u001b[0m\u001b[1;33m:\u001b[0m\u001b[0mstop\u001b[0m\u001b[1;33m]\u001b[0m \u001b[1;32mfor\u001b[0m \u001b[0mx\u001b[0m \u001b[1;32min\u001b[0m \u001b[0marrays\u001b[0m\u001b[1;33m]\u001b[0m\u001b[1;33m\u001b[0m\u001b[1;33m\u001b[0m\u001b[0m\n",
      "\u001b[1;32m~\\AppData\\Local\\Continuum\\anaconda3\\lib\\site-packages\\keras\\utils\\generic_utils.py\u001b[0m in \u001b[0;36m<listcomp>\u001b[1;34m(.0)\u001b[0m\n\u001b[0;32m    553\u001b[0m             \u001b[1;32mif\u001b[0m \u001b[0mhasattr\u001b[0m\u001b[1;33m(\u001b[0m\u001b[0mstart\u001b[0m\u001b[1;33m,\u001b[0m \u001b[1;34m'shape'\u001b[0m\u001b[1;33m)\u001b[0m\u001b[1;33m:\u001b[0m\u001b[1;33m\u001b[0m\u001b[1;33m\u001b[0m\u001b[0m\n\u001b[0;32m    554\u001b[0m                 \u001b[0mstart\u001b[0m \u001b[1;33m=\u001b[0m \u001b[0mstart\u001b[0m\u001b[1;33m.\u001b[0m\u001b[0mtolist\u001b[0m\u001b[1;33m(\u001b[0m\u001b[1;33m)\u001b[0m\u001b[1;33m\u001b[0m\u001b[1;33m\u001b[0m\u001b[0m\n\u001b[1;32m--> 555\u001b[1;33m             \u001b[1;32mreturn\u001b[0m \u001b[1;33m[\u001b[0m\u001b[1;32mNone\u001b[0m \u001b[1;32mif\u001b[0m \u001b[0mx\u001b[0m \u001b[1;32mis\u001b[0m \u001b[1;32mNone\u001b[0m \u001b[1;32melse\u001b[0m \u001b[0mx\u001b[0m\u001b[1;33m[\u001b[0m\u001b[0mstart\u001b[0m\u001b[1;33m]\u001b[0m \u001b[1;32mfor\u001b[0m \u001b[0mx\u001b[0m \u001b[1;32min\u001b[0m \u001b[0marrays\u001b[0m\u001b[1;33m]\u001b[0m\u001b[1;33m\u001b[0m\u001b[1;33m\u001b[0m\u001b[0m\n\u001b[0m\u001b[0;32m    556\u001b[0m         \u001b[1;32melse\u001b[0m\u001b[1;33m:\u001b[0m\u001b[1;33m\u001b[0m\u001b[1;33m\u001b[0m\u001b[0m\n\u001b[0;32m    557\u001b[0m             \u001b[1;32mreturn\u001b[0m \u001b[1;33m[\u001b[0m\u001b[1;32mNone\u001b[0m \u001b[1;32mif\u001b[0m \u001b[0mx\u001b[0m \u001b[1;32mis\u001b[0m \u001b[1;32mNone\u001b[0m \u001b[1;32melse\u001b[0m \u001b[0mx\u001b[0m\u001b[1;33m[\u001b[0m\u001b[0mstart\u001b[0m\u001b[1;33m:\u001b[0m\u001b[0mstop\u001b[0m\u001b[1;33m]\u001b[0m \u001b[1;32mfor\u001b[0m \u001b[0mx\u001b[0m \u001b[1;32min\u001b[0m \u001b[0marrays\u001b[0m\u001b[1;33m]\u001b[0m\u001b[1;33m\u001b[0m\u001b[1;33m\u001b[0m\u001b[0m\n",
      "\u001b[1;31mIndexError\u001b[0m: index 20215 is out of bounds for axis 0 with size 20215"
     ]
    }
   ],
   "source": [
    "preds_train = model.predict([pad_q1,pad_q2, Features_test_n]);"
   ]
  },
  {
   "cell_type": "code",
   "execution_count": 825,
   "metadata": {
    "ExecuteTime": {
     "end_time": "2020-07-03T19:23:36.680068Z",
     "start_time": "2020-07-03T19:23:36.153070Z"
    }
   },
   "outputs": [
    {
     "data": {
      "image/png": "[encoded data removed]",
      "text/plain": [
       "<Figure size 1008x288 with 2 Axes>"
      ]
     },
     "metadata": {
      "needs_background": "light"
     },
     "output_type": "display_data"
    }
   ],
   "source": [
    "fig, ax = plt.subplots(1,2, figsize = (14,4))\n",
    "ax[0].hist(preds_train[y_train==0], bins = 100, alpha = 0.7)\n",
    "ax[0].hist(preds_train[y_train==1], bins = 100, alpha = 0.7)\n",
    "ax[0].set_title(\"Distribution of Probablities by Class\")\n",
    "ax[0].legend([\"0\",\"1\"])\n",
    "\n",
    "output_lr = pd.DataFrame({\"LR_preds\":preds_train, \"y\":y_train})\n",
    "sns.boxplot(x=\"y\", y=\"LR_preds\", data = output_lr, ax = ax[1])\n",
    "ax[1].set_ylabel(\"Predicted Probablities\")\n",
    "ax[1].set_xlabel(\"Duplicate\")\n",
    "ax[1].set_title(\"Probablities by Class\");"
   ]
  },
  {
   "cell_type": "code",
   "execution_count": 399,
   "metadata": {
    "ExecuteTime": {
     "end_time": "2020-07-09T02:54:17.809354Z",
     "start_time": "2020-07-09T02:54:07.888743Z"
    }
   },
   "outputs": [],
   "source": [
    "preds_test = model.predict([pad_test_q1,pad_test_q2,Features_test_n])[:,0];\n",
    "preds_test[preds_test < 0.00001] = 0.00001 "
   ]
  },
  {
   "cell_type": "code",
   "execution_count": 400,
   "metadata": {
    "ExecuteTime": {
     "end_time": "2020-07-09T02:54:17.816336Z",
     "start_time": "2020-07-09T02:54:17.811348Z"
    }
   },
   "outputs": [],
   "source": [
    "preds_test[preds_test  > 0.99999] =  0.99999"
   ]
  },
  {
   "cell_type": "code",
   "execution_count": 401,
   "metadata": {
    "ExecuteTime": {
     "end_time": "2020-07-09T02:54:18.605875Z",
     "start_time": "2020-07-09T02:54:18.593943Z"
    }
   },
   "outputs": [],
   "source": [
    "log_loss_score = log_loss(y_test, preds_test)"
   ]
  },
  {
   "cell_type": "code",
   "execution_count": 402,
   "metadata": {
    "ExecuteTime": {
     "end_time": "2020-07-09T02:54:19.899781Z",
     "start_time": "2020-07-09T02:54:19.438522Z"
    }
   },
   "outputs": [
    {
     "data": {
      "image/png": "[encoded data removed]",
      "text/plain": [
       "<Figure size 1008x288 with 2 Axes>"
      ]
     },
     "metadata": {
      "needs_background": "light"
     },
     "output_type": "display_data"
    }
   ],
   "source": [
    "fig, ax = plt.subplots(1,2, figsize = (14,4))\n",
    "ax[0].hist(preds_test[y_test==0], bins = 100, alpha = 0.7)\n",
    "ax[0].hist(preds_test[y_test==1], bins = 100, alpha = 0.7)\n",
    "ax[0].set_title(\"Distribution of Probablities by Class (Test Set)\")\n",
    "ax[0].legend([\"0\",\"1\"])\n",
    "\n",
    "output_lr = pd.DataFrame({\"LR_preds\":preds_test, \"y\":y_test})\n",
    "sns.boxplot(x=\"y\", y=\"LR_preds\", data = output_lr, ax = ax[1])\n",
    "ax[1].set_ylabel(\"Predicted Probablities\")\n",
    "ax[1].set_xlabel(\"Duplicate\")\n",
    "ax[1].set_title(\"Probablities by Class (Test Set)\");"
   ]
  },
  {
   "cell_type": "code",
   "execution_count": 403,
   "metadata": {
    "ExecuteTime": {
     "end_time": "2020-07-09T02:54:26.466148Z",
     "start_time": "2020-07-09T02:54:26.453186Z"
    }
   },
   "outputs": [],
   "source": [
    "Summary_CS  = Summary_CS.append({\"Model\":\"Glove Embeddings & Neural Network\", \"Test Log Loss\":np.round(log_loss_score,2)}, ignore_index = True)"
   ]
  },
  {
   "cell_type": "code",
   "execution_count": 404,
   "metadata": {
    "ExecuteTime": {
     "end_time": "2020-07-09T02:54:26.874660Z",
     "start_time": "2020-07-09T02:54:26.860658Z"
    }
   },
   "outputs": [
    {
     "data": {
      "text/html": [
       "<div>\n",
       "<style scoped>\n",
       "    .dataframe tbody tr th:only-of-type {\n",
       "        vertical-align: middle;\n",
       "    }\n",
       "\n",
       "    .dataframe tbody tr th {\n",
       "        vertical-align: top;\n",
       "    }\n",
       "\n",
       "    .dataframe thead th {\n",
       "        text-align: right;\n",
       "    }\n",
       "</style>\n",
       "<table border=\"1\" class=\"dataframe\">\n",
       "  <thead>\n",
       "    <tr style=\"text-align: right;\">\n",
       "      <th></th>\n",
       "      <th>Model</th>\n",
       "      <th>Log Loss</th>\n",
       "      <th>Accuracy</th>\n",
       "      <th>Test Log Loss</th>\n",
       "    </tr>\n",
       "  </thead>\n",
       "  <tbody>\n",
       "    <tr>\n",
       "      <th>0</th>\n",
       "      <td>Diff_len &amp; Char_counts with Logistic Regression</td>\n",
       "      <td>0.57</td>\n",
       "      <td>0.65</td>\n",
       "      <td>NaN</td>\n",
       "    </tr>\n",
       "    <tr>\n",
       "      <th>1</th>\n",
       "      <td>Diff_len &amp; Char_counts with Random Forest</td>\n",
       "      <td>0.55</td>\n",
       "      <td>0.68</td>\n",
       "      <td>NaN</td>\n",
       "    </tr>\n",
       "    <tr>\n",
       "      <th>2</th>\n",
       "      <td>Word Embeddings &amp; Dense Neural Network</td>\n",
       "      <td>0.49</td>\n",
       "      <td>0.78</td>\n",
       "      <td>NaN</td>\n",
       "    </tr>\n",
       "    <tr>\n",
       "      <th>3</th>\n",
       "      <td>Word Embeddings &amp; Dense Neural Network</td>\n",
       "      <td>0.47</td>\n",
       "      <td>0.78</td>\n",
       "      <td>NaN</td>\n",
       "    </tr>\n",
       "    <tr>\n",
       "      <th>4</th>\n",
       "      <td>LSTM Architecture</td>\n",
       "      <td>0.46</td>\n",
       "      <td>0.77</td>\n",
       "      <td>NaN</td>\n",
       "    </tr>\n",
       "    <tr>\n",
       "      <th>5</th>\n",
       "      <td>Glove Embeddings &amp; Neural Network</td>\n",
       "      <td>NaN</td>\n",
       "      <td>NaN</td>\n",
       "      <td>0.39</td>\n",
       "    </tr>\n",
       "  </tbody>\n",
       "</table>\n",
       "</div>"
      ],
      "text/plain": [
       "                                             Model  Log Loss  Accuracy  \\\n",
       "0  Diff_len & Char_counts with Logistic Regression      0.57      0.65   \n",
       "1        Diff_len & Char_counts with Random Forest      0.55      0.68   \n",
       "2           Word Embeddings & Dense Neural Network      0.49      0.78   \n",
       "3           Word Embeddings & Dense Neural Network      0.47      0.78   \n",
       "4                                LSTM Architecture      0.46      0.77   \n",
       "5                Glove Embeddings & Neural Network       NaN       NaN   \n",
       "\n",
       "   Test Log Loss  \n",
       "0            NaN  \n",
       "1            NaN  \n",
       "2            NaN  \n",
       "3            NaN  \n",
       "4            NaN  \n",
       "5           0.39  "
      ]
     },
     "execution_count": 404,
     "metadata": {},
     "output_type": "execute_result"
    }
   ],
   "source": [
    "Summary_CS"
   ]
  },
  {
   "cell_type": "code",
   "execution_count": null,
   "metadata": {},
   "outputs": [],
   "source": []
  }
 ],
 "metadata": {
  "kernelspec": {
   "display_name": "Python 3",
   "language": "python",
   "name": "python3"
  },
  "language_info": {
   "codemirror_mode": {
    "name": "ipython",
    "version": 3
   },
   "file_extension": ".py",
   "mimetype": "text/x-python",
   "name": "python",
   "nbconvert_exporter": "python",
   "pygments_lexer": "ipython3",
   "version": "3.7.6"
  },
  "toc": {
   "base_numbering": 1,
   "nav_menu": {},
   "number_sections": true,
   "sideBar": true,
   "skip_h1_title": false,
   "title_cell": "Table of Contents",
   "title_sidebar": "Contents",
   "toc_cell": false,
   "toc_position": {},
   "toc_section_display": true,
   "toc_window_display": false
  }
 },
 "nbformat": 4,
 "nbformat_minor": 4
}
