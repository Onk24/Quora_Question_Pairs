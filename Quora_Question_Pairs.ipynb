{
 "cells": [
  {
   "cell_type": "markdown",
   "metadata": {},
   "source": [
    "# Importing Libraries and Data"
   ]
  },
  {
   "cell_type": "code",
   "execution_count": 2,
   "metadata": {
    "ExecuteTime": {
     "end_time": "2020-06-29T13:48:55.622854Z",
     "start_time": "2020-06-29T13:48:44.799379Z"
    }
   },
   "outputs": [
    {
     "name": "stderr",
     "output_type": "stream",
     "text": [
      "Using TensorFlow backend.\n"
     ]
    }
   ],
   "source": [
    "import numpy as np\n",
    "import pandas as pd\n",
    "import nltk\n",
    "from nltk.corpus import stopwords, stopwords\n",
    "import re\n",
    "import seaborn as sns\n",
    "from matplotlib import pyplot as plt\n",
    "from keras import Sequential\n",
    "from keras.layers import Embedding, Flatten, Dense, Input, merge, concatenate, Dropout, BatchNormalization\n",
    "from keras import Model\n",
    "from keras.preprocessing.sequence import pad_sequences\n",
    "from keras.preprocessing.text import one_hot\n",
    "from sklearn.feature_extraction.text import CountVectorizer, TfidfVectorizer\n",
    "from nltk import PorterStemmer\n",
    "from nltk import WordNetLemmatizer\n",
    "from sklearn.model_selection import train_test_split\n",
    "from sklearn.metrics.pairwise import cosine_similarity\n",
    "from sklearn.metrics import log_loss\n",
    "from sklearn.linear_model import LogisticRegression"
   ]
  },
  {
   "cell_type": "code",
   "execution_count": 3,
   "metadata": {
    "ExecuteTime": {
     "end_time": "2020-06-29T13:49:00.831602Z",
     "start_time": "2020-06-29T13:48:56.305528Z"
    }
   },
   "outputs": [],
   "source": [
    "train_df = pd.read_csv(\"train.csv\")\n",
    "test_df = pd.read_csv(\"test.csv\")"
   ]
  },
  {
   "cell_type": "markdown",
   "metadata": {},
   "source": [
    "# EDA"
   ]
  },
  {
   "cell_type": "code",
   "execution_count": 4,
   "metadata": {
    "ExecuteTime": {
     "end_time": "2020-06-29T13:49:00.838572Z",
     "start_time": "2020-06-29T13:49:00.832588Z"
    }
   },
   "outputs": [
    {
     "data": {
      "text/plain": [
       "(404290, 6)"
      ]
     },
     "execution_count": 4,
     "metadata": {},
     "output_type": "execute_result"
    }
   ],
   "source": [
    "train_df.shape"
   ]
  },
  {
   "cell_type": "code",
   "execution_count": 5,
   "metadata": {
    "ExecuteTime": {
     "end_time": "2020-06-29T13:49:00.856446Z",
     "start_time": "2020-06-29T13:49:00.840567Z"
    }
   },
   "outputs": [
    {
     "data": {
      "text/html": [
       "<div>\n",
       "<style scoped>\n",
       "    .dataframe tbody tr th:only-of-type {\n",
       "        vertical-align: middle;\n",
       "    }\n",
       "\n",
       "    .dataframe tbody tr th {\n",
       "        vertical-align: top;\n",
       "    }\n",
       "\n",
       "    .dataframe thead th {\n",
       "        text-align: right;\n",
       "    }\n",
       "</style>\n",
       "<table border=\"1\" class=\"dataframe\">\n",
       "  <thead>\n",
       "    <tr style=\"text-align: right;\">\n",
       "      <th></th>\n",
       "      <th>id</th>\n",
       "      <th>qid1</th>\n",
       "      <th>qid2</th>\n",
       "      <th>question1</th>\n",
       "      <th>question2</th>\n",
       "      <th>is_duplicate</th>\n",
       "    </tr>\n",
       "  </thead>\n",
       "  <tbody>\n",
       "    <tr>\n",
       "      <th>0</th>\n",
       "      <td>0</td>\n",
       "      <td>1</td>\n",
       "      <td>2</td>\n",
       "      <td>What is the step by step guide to invest in sh...</td>\n",
       "      <td>What is the step by step guide to invest in sh...</td>\n",
       "      <td>0</td>\n",
       "    </tr>\n",
       "    <tr>\n",
       "      <th>1</th>\n",
       "      <td>1</td>\n",
       "      <td>3</td>\n",
       "      <td>4</td>\n",
       "      <td>What is the story of Kohinoor (Koh-i-Noor) Dia...</td>\n",
       "      <td>What would happen if the Indian government sto...</td>\n",
       "      <td>0</td>\n",
       "    </tr>\n",
       "    <tr>\n",
       "      <th>2</th>\n",
       "      <td>2</td>\n",
       "      <td>5</td>\n",
       "      <td>6</td>\n",
       "      <td>How can I increase the speed of my internet co...</td>\n",
       "      <td>How can Internet speed be increased by hacking...</td>\n",
       "      <td>0</td>\n",
       "    </tr>\n",
       "    <tr>\n",
       "      <th>3</th>\n",
       "      <td>3</td>\n",
       "      <td>7</td>\n",
       "      <td>8</td>\n",
       "      <td>Why am I mentally very lonely? How can I solve...</td>\n",
       "      <td>Find the remainder when [math]23^{24}[/math] i...</td>\n",
       "      <td>0</td>\n",
       "    </tr>\n",
       "    <tr>\n",
       "      <th>4</th>\n",
       "      <td>4</td>\n",
       "      <td>9</td>\n",
       "      <td>10</td>\n",
       "      <td>Which one dissolve in water quikly sugar, salt...</td>\n",
       "      <td>Which fish would survive in salt water?</td>\n",
       "      <td>0</td>\n",
       "    </tr>\n",
       "  </tbody>\n",
       "</table>\n",
       "</div>"
      ],
      "text/plain": [
       "   id  qid1  qid2                                          question1  \\\n",
       "0   0     1     2  What is the step by step guide to invest in sh...   \n",
       "1   1     3     4  What is the story of Kohinoor (Koh-i-Noor) Dia...   \n",
       "2   2     5     6  How can I increase the speed of my internet co...   \n",
       "3   3     7     8  Why am I mentally very lonely? How can I solve...   \n",
       "4   4     9    10  Which one dissolve in water quikly sugar, salt...   \n",
       "\n",
       "                                           question2  is_duplicate  \n",
       "0  What is the step by step guide to invest in sh...             0  \n",
       "1  What would happen if the Indian government sto...             0  \n",
       "2  How can Internet speed be increased by hacking...             0  \n",
       "3  Find the remainder when [math]23^{24}[/math] i...             0  \n",
       "4            Which fish would survive in salt water?             0  "
      ]
     },
     "execution_count": 5,
     "metadata": {},
     "output_type": "execute_result"
    }
   ],
   "source": [
    "train_df.head(5)"
   ]
  },
  {
   "cell_type": "markdown",
   "metadata": {},
   "source": [
    "## Distribution of Target Class "
   ]
  },
  {
   "cell_type": "code",
   "execution_count": 6,
   "metadata": {
    "ExecuteTime": {
     "end_time": "2020-06-29T13:49:01.002585Z",
     "start_time": "2020-06-29T13:49:00.858309Z"
    }
   },
   "outputs": [
    {
     "data": {
      "image/png": "[encoded data removed]",
      "text/plain": [
       "<Figure size 432x288 with 1 Axes>"
      ]
     },
     "metadata": {
      "needs_background": "light"
     },
     "output_type": "display_data"
    }
   ],
   "source": [
    "sns.countplot(train_df[\"is_duplicate\"]);"
   ]
  },
  {
   "cell_type": "markdown",
   "metadata": {},
   "source": [
    "## Questions Analysis "
   ]
  },
  {
   "cell_type": "code",
   "execution_count": 7,
   "metadata": {
    "ExecuteTime": {
     "end_time": "2020-06-29T13:49:01.010167Z",
     "start_time": "2020-06-29T13:49:01.003576Z"
    }
   },
   "outputs": [
    {
     "data": {
      "text/plain": [
       "id               int64\n",
       "qid1             int64\n",
       "qid2             int64\n",
       "question1       object\n",
       "question2       object\n",
       "is_duplicate     int64\n",
       "dtype: object"
      ]
     },
     "execution_count": 7,
     "metadata": {},
     "output_type": "execute_result"
    }
   ],
   "source": [
    "train_df.dtypes"
   ]
  },
  {
   "cell_type": "code",
   "execution_count": 8,
   "metadata": {
    "ExecuteTime": {
     "end_time": "2020-06-29T13:49:01.146443Z",
     "start_time": "2020-06-29T13:49:01.011164Z"
    }
   },
   "outputs": [],
   "source": [
    "train_df[\"question1\"] = train_df[\"question1\"].astype(str)\n",
    "train_df[\"question2\"] = train_df[\"question2\"].astype(str)"
   ]
  },
  {
   "cell_type": "code",
   "execution_count": 9,
   "metadata": {
    "ExecuteTime": {
     "end_time": "2020-06-29T13:49:01.276787Z",
     "start_time": "2020-06-29T13:49:01.148268Z"
    }
   },
   "outputs": [
    {
     "data": {
      "text/plain": [
       "1169"
      ]
     },
     "execution_count": 9,
     "metadata": {},
     "output_type": "execute_result"
    }
   ],
   "source": [
    "max(train_df[\"question2\"].apply(len))"
   ]
  },
  {
   "cell_type": "markdown",
   "metadata": {},
   "source": [
    "### Distributions of Questions "
   ]
  },
  {
   "cell_type": "code",
   "execution_count": 10,
   "metadata": {
    "ExecuteTime": {
     "end_time": "2020-06-29T13:49:02.256765Z",
     "start_time": "2020-06-29T13:49:01.278775Z"
    }
   },
   "outputs": [
    {
     "data": {
      "image/png": "[encoded data removed]",
      "text/plain": [
       "<Figure size 576x288 with 1 Axes>"
      ]
     },
     "metadata": {
      "needs_background": "light"
     },
     "output_type": "display_data"
    }
   ],
   "source": [
    "plt.figure(figsize = (8,4))\n",
    "plt.hist(train_df[\"question1\"].apply(len), bins = 200, range = [0,200], color = \"b\", alpha = 0.5)\n",
    "plt.hist(train_df[\"question2\"].apply(len), bins = 200, range = [0,200], color = \"r\", alpha = 0.5)\n",
    "plt.title(\"Distribution char lengeth of 2 questions\")\n",
    "plt.legend([\"question1\", \"question2\"]);"
   ]
  },
  {
   "cell_type": "markdown",
   "metadata": {},
   "source": [
    "The 2 questions have almost identical distribution  in terms of number of characters"
   ]
  },
  {
   "cell_type": "markdown",
   "metadata": {},
   "source": [
    "### Distribution of difference in lengths by class "
   ]
  },
  {
   "cell_type": "code",
   "execution_count": 11,
   "metadata": {
    "ExecuteTime": {
     "end_time": "2020-06-29T13:49:02.485891Z",
     "start_time": "2020-06-29T13:49:02.258720Z"
    }
   },
   "outputs": [],
   "source": [
    "len1 = train_df[\"question1\"].apply(len)\n",
    "len2 = train_df[\"question2\"].apply(len)\n",
    "diff_len = np.abs(len1-len2) "
   ]
  },
  {
   "cell_type": "code",
   "execution_count": 12,
   "metadata": {
    "ExecuteTime": {
     "end_time": "2020-06-29T13:49:02.880241Z",
     "start_time": "2020-06-29T13:49:02.487135Z"
    }
   },
   "outputs": [
    {
     "data": {
      "image/png": "[encoded data removed]",
      "text/plain": [
       "<Figure size 576x288 with 1 Axes>"
      ]
     },
     "metadata": {
      "needs_background": "light"
     },
     "output_type": "display_data"
    }
   ],
   "source": [
    "plt.figure(figsize = (8,4))\n",
    "plt.hist(diff_len[train_df[\"is_duplicate\"]==0], bins = 100, range = [0,200], color = \"g\", alpha =0.5)\n",
    "plt.hist(diff_len[train_df[\"is_duplicate\"]==1], bins = 100, range = [0,200], color = \"r\", alpha = 0.5)\n",
    "plt.title(\"Distribution diff in char length by class\")\n",
    "plt.legend([\"Not Duplicate\", \"Duplicate\"]);"
   ]
  },
  {
   "cell_type": "markdown",
   "metadata": {},
   "source": [
    "No significant diff in lengths between 2 classes"
   ]
  },
  {
   "cell_type": "markdown",
   "metadata": {},
   "source": [
    "## Cleaning the data \n",
    "Steps:\n",
    "- Lowercase\n",
    "- Tokenize\n",
    "- Remove Stopwords\n",
    "- Remove non alphabet characters"
   ]
  },
  {
   "cell_type": "code",
   "execution_count": 81,
   "metadata": {
    "ExecuteTime": {
     "end_time": "2020-06-29T19:06:40.265215Z",
     "start_time": "2020-06-29T19:06:40.258233Z"
    }
   },
   "outputs": [],
   "source": [
    "def clean_data(text):\n",
    "    text = text.lower()\n",
    "    words = nltk.word_tokenize(text)\n",
    "    words = [w for w in words if w not in stopwords.words(\"english\") and w.isalnum()]\n",
    "    return words"
   ]
  },
  {
   "cell_type": "code",
   "execution_count": 82,
   "metadata": {
    "ExecuteTime": {
     "end_time": "2020-06-29T19:37:35.457884Z",
     "start_time": "2020-06-29T19:06:41.682320Z"
    }
   },
   "outputs": [],
   "source": [
    "q1 = train_df[\"question1\"].apply(clean_data)\n",
    "q2 = train_df[\"question2\"].apply(clean_data)"
   ]
  },
  {
   "cell_type": "markdown",
   "metadata": {},
   "source": [
    "# Predictive Modeling"
   ]
  },
  {
   "cell_type": "code",
   "execution_count": 85,
   "metadata": {
    "ExecuteTime": {
     "end_time": "2020-06-29T19:38:54.143893Z",
     "start_time": "2020-06-29T19:38:54.139712Z"
    }
   },
   "outputs": [],
   "source": [
    "RANDOM_STATE = 24"
   ]
  },
  {
   "cell_type": "code",
   "execution_count": 86,
   "metadata": {
    "ExecuteTime": {
     "end_time": "2020-06-29T19:39:05.115529Z",
     "start_time": "2020-06-29T19:39:04.935443Z"
    }
   },
   "outputs": [],
   "source": [
    "ind_train , ind_test, y_train, y_test = train_test_split(np.arange(0,train_df.shape[0]), train_df[\"is_duplicate\"], train_size = 0.95, stratify = train_df[\"is_duplicate\"], random_state = RANDOM_STATE)"
   ]
  },
  {
   "cell_type": "markdown",
   "metadata": {},
   "source": [
    "## Char Counts - Cosine Similarity Approach\n",
    "- Lemmatize both Questions\n",
    "- Count characters (1-6)\n",
    "- Find cosine similarity between 2 questions' char counts\n",
    "- Apply logistic regression for probabilities"
   ]
  },
  {
   "cell_type": "markdown",
   "metadata": {},
   "source": [
    "### Lemmatize"
   ]
  },
  {
   "cell_type": "code",
   "execution_count": 93,
   "metadata": {
    "ExecuteTime": {
     "end_time": "2020-06-29T19:41:21.700004Z",
     "start_time": "2020-06-29T19:41:21.694984Z"
    }
   },
   "outputs": [],
   "source": [
    "lemma = WordNetLemmatizer()\n",
    "def lemmatize(text):\n",
    "    return [lemma.lemmatize(w) for w in text]    "
   ]
  },
  {
   "cell_type": "code",
   "execution_count": 94,
   "metadata": {
    "ExecuteTime": {
     "end_time": "2020-06-29T19:41:38.859552Z",
     "start_time": "2020-06-29T19:41:24.344691Z"
    }
   },
   "outputs": [],
   "source": [
    "q1_lem = q1.apply(lemmatize)\n",
    "q2_lem = q2.apply(lemmatize) "
   ]
  },
  {
   "cell_type": "code",
   "execution_count": 95,
   "metadata": {
    "ExecuteTime": {
     "end_time": "2020-06-29T19:41:39.697720Z",
     "start_time": "2020-06-29T19:41:38.861067Z"
    }
   },
   "outputs": [],
   "source": [
    "q1_sent = q1_lem.apply(\" \".join)\n",
    "q2_sent = q2_lem.apply(\" \".join)"
   ]
  },
  {
   "cell_type": "code",
   "execution_count": 98,
   "metadata": {
    "ExecuteTime": {
     "end_time": "2020-06-29T19:42:07.004514Z",
     "start_time": "2020-06-29T19:42:06.116233Z"
    }
   },
   "outputs": [],
   "source": [
    "X_clean = pd.DataFrame({\"q1\":q1_sent, \"q2\":q2_sent})\n",
    "X_train, X_test = X_clean.iloc[ind_train, :], X_clean.iloc[ind_test, :]\n",
    "X_clean.to_csv(\"X_clean.csv\", index = False)"
   ]
  },
  {
   "cell_type": "markdown",
   "metadata": {},
   "source": [
    "### Cosine Similarity"
   ]
  },
  {
   "cell_type": "code",
   "execution_count": 99,
   "metadata": {
    "ExecuteTime": {
     "end_time": "2020-06-29T19:42:13.620797Z",
     "start_time": "2020-06-29T19:42:12.513087Z"
    }
   },
   "outputs": [],
   "source": [
    "Questions_train = pd.concat([X_train[\"q1\"], X_train[\"q2\"]], axis = 0)"
   ]
  },
  {
   "cell_type": "code",
   "execution_count": 100,
   "metadata": {
    "ExecuteTime": {
     "end_time": "2020-06-29T19:45:11.612732Z",
     "start_time": "2020-06-29T19:42:28.784258Z"
    }
   },
   "outputs": [],
   "source": [
    "count_vect = CountVectorizer(analyzer = \"char\", ngram_range = (2,8))\n",
    "count_vect.fit(Questions_train);"
   ]
  },
  {
   "cell_type": "code",
   "execution_count": 101,
   "metadata": {
    "ExecuteTime": {
     "end_time": "2020-06-29T19:47:32.781527Z",
     "start_time": "2020-06-29T19:45:11.620711Z"
    }
   },
   "outputs": [],
   "source": [
    "charc_q1_train = count_vect.transform(X_train[\"q1\"])\n",
    "charc_q2_train = count_vect.transform(X_train[\"q2\"])\n",
    "charc_q1_test = count_vect.transform(X_test[\"q1\"])\n",
    "charc_q2_test = count_vect.transform(X_test[\"q2\"])"
   ]
  },
  {
   "cell_type": "code",
   "execution_count": 111,
   "metadata": {
    "ExecuteTime": {
     "end_time": "2020-06-29T19:53:52.334522Z",
     "start_time": "2020-06-29T19:53:52.327647Z"
    }
   },
   "outputs": [],
   "source": [
    "def cosine_sim(vect1, vect2):\n",
    "    cos_sim = np.empty([vect1.shape[0], 1])\n",
    "    for i,vs in enumerate(zip(vect1, vect2)):\n",
    "        cos_sim[i] = (float(cosine_similarity(vs[0], vs[1])))\n",
    "    return cos_sim"
   ]
  },
  {
   "cell_type": "code",
   "execution_count": 117,
   "metadata": {
    "ExecuteTime": {
     "end_time": "2020-06-29T20:58:48.295078Z",
     "start_time": "2020-06-29T20:58:46.880084Z"
    }
   },
   "outputs": [
    {
     "data": {
      "text/plain": [
       "array([[0.71224583],\n",
       "       [0.84946237],\n",
       "       [0.83535193],\n",
       "       [1.        ],\n",
       "       [0.64556512],\n",
       "       [1.        ],\n",
       "       [0.75485136],\n",
       "       [0.16040195],\n",
       "       [0.40135598],\n",
       "       [0.78984044],\n",
       "       [0.43251142],\n",
       "       [0.53452248],\n",
       "       [0.51730122],\n",
       "       [0.21177936],\n",
       "       [0.02723737],\n",
       "       [0.25712974],\n",
       "       [0.38953284],\n",
       "       [0.08378309],\n",
       "       [0.84946237],\n",
       "       [0.63245553],\n",
       "       [0.        ],\n",
       "       [0.04694946],\n",
       "       [0.68092286],\n",
       "       [1.        ],\n",
       "       [0.29662053],\n",
       "       [1.        ],\n",
       "       [0.653795  ],\n",
       "       [0.70680628],\n",
       "       [1.        ],\n",
       "       [0.1633301 ],\n",
       "       [0.91893658],\n",
       "       [0.3770408 ],\n",
       "       [0.64843404],\n",
       "       [0.59942461],\n",
       "       [0.84515425],\n",
       "       [0.68080952],\n",
       "       [0.47460481],\n",
       "       [0.73046623],\n",
       "       [0.24003968],\n",
       "       [0.43492389],\n",
       "       [1.        ],\n",
       "       [0.67185481],\n",
       "       [0.31676112],\n",
       "       [0.66985495],\n",
       "       [0.5       ],\n",
       "       [0.60424462],\n",
       "       [1.        ],\n",
       "       [0.44326986],\n",
       "       [0.01441442],\n",
       "       [0.48935901],\n",
       "       [0.2666794 ],\n",
       "       [0.73197541],\n",
       "       [0.48795004],\n",
       "       [0.22810528],\n",
       "       [0.52471075],\n",
       "       [0.91982158],\n",
       "       [0.41029608],\n",
       "       [0.75972443],\n",
       "       [0.39764444],\n",
       "       [0.500025  ],\n",
       "       [0.6249263 ],\n",
       "       [0.36232865],\n",
       "       [0.73379939],\n",
       "       [0.06659537],\n",
       "       [0.53624949],\n",
       "       [0.03688556],\n",
       "       [0.63784716],\n",
       "       [0.22322737],\n",
       "       [0.65972222],\n",
       "       [0.47860334],\n",
       "       [0.36038669],\n",
       "       [1.        ],\n",
       "       [0.55818009],\n",
       "       [0.27228567],\n",
       "       [0.7915255 ],\n",
       "       [0.90141203],\n",
       "       [0.48579333],\n",
       "       [0.23220259],\n",
       "       [0.29508445],\n",
       "       [0.27593506],\n",
       "       [0.10413449],\n",
       "       [0.4576017 ],\n",
       "       [0.03423402],\n",
       "       [0.55220402],\n",
       "       [0.66864785],\n",
       "       [0.70833333],\n",
       "       [0.16889033],\n",
       "       [0.12172169],\n",
       "       [0.46901868],\n",
       "       [0.88906641],\n",
       "       [0.26801117],\n",
       "       [0.30406057],\n",
       "       [0.74237054],\n",
       "       [0.74181494],\n",
       "       [0.19530803],\n",
       "       [0.62209263],\n",
       "       [0.50177188],\n",
       "       [0.62163581],\n",
       "       [0.33140414],\n",
       "       [0.70337995]])"
      ]
     },
     "execution_count": 117,
     "metadata": {},
     "output_type": "execute_result"
    }
   ],
   "source": [
    "cosine_sim(charc_q1_train[0:100], charc_q2_train[0:100])\n"
   ]
  },
  {
   "cell_type": "markdown",
   "metadata": {},
   "source": [
    "### Logistic Regression"
   ]
  },
  {
   "cell_type": "code",
   "execution_count": null,
   "metadata": {
    "ExecuteTime": {
     "end_time": "2020-06-29T20:58:25.723035Z",
     "start_time": "2020-06-29T19:59:58.543Z"
    }
   },
   "outputs": [],
   "source": [
    "X_train, X_test = X_clean.iloc[ind_train, :], X_clean.iloc[ind_test, :]"
   ]
  },
  {
   "cell_type": "code",
   "execution_count": null,
   "metadata": {
    "ExecuteTime": {
     "end_time": "2020-06-29T20:58:25.724032Z",
     "start_time": "2020-06-29T20:00:00.606Z"
    }
   },
   "outputs": [],
   "source": [
    "Summary_CS = pd.DataFrame(columns = [\"Model\", \"Test Log Loss\"])"
   ]
  },
  {
   "cell_type": "code",
   "execution_count": null,
   "metadata": {
    "ExecuteTime": {
     "end_time": "2020-06-29T20:58:25.725029Z",
     "start_time": "2020-06-29T20:00:01.270Z"
    }
   },
   "outputs": [],
   "source": [
    "lr = LogisticRegression()\n",
    "lr.fit(X_train[[\"cos_sim\"]], y_train);"
   ]
  },
  {
   "cell_type": "code",
   "execution_count": 60,
   "metadata": {},
   "outputs": [],
   "source": [
    "preds_train = lr.predict_proba(X_train[[\"cos_sim\"]])[:,1]"
   ]
  },
  {
   "cell_type": "code",
   "execution_count": 61,
   "metadata": {},
   "outputs": [
    {
     "data": {
      "image/png": "[encoded data removed]",
      "text/plain": [
       "<Figure size 1008x288 with 2 Axes>"
      ]
     },
     "metadata": {
      "needs_background": "light"
     },
     "output_type": "display_data"
    }
   ],
   "source": [
    "fig, ax = plt.subplots(1,2, figsize = (14,4))\n",
    "ax[0].hist(preds_train[y_train==0], bins = 100, alpha = 0.7)\n",
    "ax[0].hist(preds_train[y_train==1], bins = 100, alpha = 0.7)\n",
    "ax[0].set_title(\"Distribution of Probablities by Class\")\n",
    "ax[0].legend([\"0\",\"1\"])\n",
    "\n",
    "output_lr = pd.DataFrame({\"LR_preds\":preds_train, \"y\":y_train})\n",
    "sns.boxplot(x=\"y\", y=\"LR_preds\", data = output_lr, ax = ax[1])\n",
    "ax[1].set_ylabel(\"Predicted Probablities\")\n",
    "ax[1].set_xlabel(\"Duplicate\")\n",
    "ax[1].set_title(\"Probablities by Class\");"
   ]
  },
  {
   "cell_type": "code",
   "execution_count": 65,
   "metadata": {},
   "outputs": [],
   "source": [
    "preds_test = lr.predict_proba(X_test[[\"cos_sim\"]])[:,1]\n",
    "log_loss = log_loss(y_test, preds_test)"
   ]
  },
  {
   "cell_type": "code",
   "execution_count": 63,
   "metadata": {},
   "outputs": [
    {
     "data": {
      "image/png": "[encoded data removed]",
      "text/plain": [
       "<Figure size 1008x288 with 2 Axes>"
      ]
     },
     "metadata": {
      "needs_background": "light"
     },
     "output_type": "display_data"
    }
   ],
   "source": [
    "fig, ax = plt.subplots(1,2, figsize = (14,4))\n",
    "ax[0].hist(preds_test[y_test==0], bins = 100, alpha = 0.7)\n",
    "ax[0].hist(preds_test[y_test==1], bins = 100, alpha = 0.7)\n",
    "ax[0].set_title(\"Distribution of Probablities by Class (Test Set)\")\n",
    "ax[0].legend([\"0\",\"1\"])\n",
    "\n",
    "output_lr = pd.DataFrame({\"LR_preds\":preds_test, \"y\":y_test})\n",
    "sns.boxplot(x=\"y\", y=\"LR_preds\", data = output_lr, ax = ax[1])\n",
    "ax[1].set_ylabel(\"Predicted Probablities\")\n",
    "ax[1].set_xlabel(\"Duplicate\")\n",
    "ax[1].set_title(\"Probablities by Class (Test Set)\");"
   ]
  },
  {
   "cell_type": "code",
   "execution_count": 68,
   "metadata": {},
   "outputs": [],
   "source": [
    "Summary_CS  = Summary_CS.append({\"Model\":\"Logistic Regression\", \"Test Log Loss\":log_loss}, ignore_index = True)"
   ]
  },
  {
   "cell_type": "code",
   "execution_count": 69,
   "metadata": {},
   "outputs": [
    {
     "data": {
      "text/html": [
       "<div>\n",
       "<style scoped>\n",
       "    .dataframe tbody tr th:only-of-type {\n",
       "        vertical-align: middle;\n",
       "    }\n",
       "\n",
       "    .dataframe tbody tr th {\n",
       "        vertical-align: top;\n",
       "    }\n",
       "\n",
       "    .dataframe thead th {\n",
       "        text-align: right;\n",
       "    }\n",
       "</style>\n",
       "<table border=\"1\" class=\"dataframe\">\n",
       "  <thead>\n",
       "    <tr style=\"text-align: right;\">\n",
       "      <th></th>\n",
       "      <th>Model</th>\n",
       "      <th>Test Log Loss</th>\n",
       "    </tr>\n",
       "  </thead>\n",
       "  <tbody>\n",
       "    <tr>\n",
       "      <th>0</th>\n",
       "      <td>Logistic Regression</td>\n",
       "      <td>0.589266</td>\n",
       "    </tr>\n",
       "  </tbody>\n",
       "</table>\n",
       "</div>"
      ],
      "text/plain": [
       "                 Model  Test Log Loss\n",
       "0  Logistic Regression       0.589266"
      ]
     },
     "execution_count": 69,
     "metadata": {},
     "output_type": "execute_result"
    }
   ],
   "source": [
    "Summary_CS"
   ]
  },
  {
   "cell_type": "markdown",
   "metadata": {},
   "source": [
    "## Tf-idf characters - Cosine Similarity Approach\n",
    "- Lemmatize both Questions\n",
    "- Tf-idf characters (1-6)\n",
    "- Find cosine similarity between 2 questions' tf-idf\n",
    "- Apply logistic regression for probabilities"
   ]
  },
  {
   "cell_type": "markdown",
   "metadata": {},
   "source": [
    "### Tf-idf"
   ]
  },
  {
   "cell_type": "code",
   "execution_count": 55,
   "metadata": {},
   "outputs": [],
   "source": [
    "tfidf_vect = TfidfVectorizer(analyzer = \"char\", ngram_range = (1,6))\n",
    "def cosine_sim(vectorizer,row):\n",
    "    q1 = str(row[\"q1\"])\n",
    "    q2 = str(row[\"q2\"])\n",
    "    try:\n",
    "        vectors = vectorizer.fit_transform([str(row[\"q1\"]),str(row[\"q2\"])]).toarray()\n",
    "        return float(cosine_similarity(vectors)[0][1])\n",
    "    except: \n",
    "        return 0"
   ]
  },
  {
   "cell_type": "code",
   "execution_count": null,
   "metadata": {},
   "outputs": [],
   "source": []
  },
  {
   "cell_type": "code",
   "execution_count": 56,
   "metadata": {},
   "outputs": [],
   "source": [
    "X_clean[\"cos_sim\"] = X_clean.apply(cosine_sim, axis = 1)"
   ]
  },
  {
   "cell_type": "markdown",
   "metadata": {},
   "source": [
    "### Logistic Regression"
   ]
  },
  {
   "cell_type": "code",
   "execution_count": 57,
   "metadata": {},
   "outputs": [],
   "source": [
    "X_train, X_test = X_clean.iloc[ind_train, :], X_clean.iloc[ind_test, :]"
   ]
  },
  {
   "cell_type": "code",
   "execution_count": null,
   "metadata": {},
   "outputs": [],
   "source": []
  },
  {
   "cell_type": "code",
   "execution_count": null,
   "metadata": {},
   "outputs": [],
   "source": []
  },
  {
   "cell_type": "code",
   "execution_count": null,
   "metadata": {},
   "outputs": [],
   "source": []
  },
  {
   "cell_type": "code",
   "execution_count": null,
   "metadata": {},
   "outputs": [],
   "source": []
  },
  {
   "cell_type": "code",
   "execution_count": null,
   "metadata": {},
   "outputs": [],
   "source": []
  },
  {
   "cell_type": "code",
   "execution_count": null,
   "metadata": {},
   "outputs": [],
   "source": []
  },
  {
   "cell_type": "code",
   "execution_count": 213,
   "metadata": {},
   "outputs": [],
   "source": [
    "preds = lr.predict_proba(X_test[[\"cos_sim\"]])[:,1]"
   ]
  },
  {
   "cell_type": "code",
   "execution_count": 218,
   "metadata": {},
   "outputs": [
    {
     "data": {
      "text/plain": [
       "12.751070404908159"
      ]
     },
     "execution_count": 218,
     "metadata": {},
     "output_type": "execute_result"
    }
   ],
   "source": [
    "log_loss(y_test, np.zeros(len(y_test)))"
   ]
  },
  {
   "cell_type": "code",
   "execution_count": 215,
   "metadata": {},
   "outputs": [
    {
     "data": {
      "text/plain": [
       "array([1., 1., 1., ..., 1., 1., 1.])"
      ]
     },
     "execution_count": 215,
     "metadata": {},
     "output_type": "execute_result"
    }
   ],
   "source": []
  },
  {
   "cell_type": "code",
   "execution_count": null,
   "metadata": {},
   "outputs": [],
   "source": []
  },
  {
   "cell_type": "code",
   "execution_count": null,
   "metadata": {},
   "outputs": [],
   "source": []
  },
  {
   "cell_type": "code",
   "execution_count": null,
   "metadata": {},
   "outputs": [],
   "source": []
  },
  {
   "cell_type": "code",
   "execution_count": null,
   "metadata": {},
   "outputs": [],
   "source": []
  },
  {
   "cell_type": "code",
   "execution_count": null,
   "metadata": {},
   "outputs": [],
   "source": []
  },
  {
   "cell_type": "code",
   "execution_count": 75,
   "metadata": {},
   "outputs": [],
   "source": [
    "q1_new = q1.apply(\" \".join)\n",
    "q2_new = q2.apply(\" \".join)"
   ]
  },
  {
   "cell_type": "code",
   "execution_count": 137,
   "metadata": {},
   "outputs": [],
   "source": [
    "VOCAB_SIZE = 50\n",
    "encod_q1 = [one_hot(q1, VOCAB_SIZE) for q1 in q1_new]\n",
    "encod_q2 = [one_hot(q2, VOCAB_SIZE) for q2 in q2_new]"
   ]
  },
  {
   "cell_type": "code",
   "execution_count": 138,
   "metadata": {},
   "outputs": [],
   "source": [
    "pad_q1 = pad_sequences(encod_q1, maxlen = 50, padding = \"post\", value = 0)\n",
    "pad_q2 = pad_sequences(encod_q2, maxlen = 96, padding = \"post\", value = 0)"
   ]
  },
  {
   "cell_type": "code",
   "execution_count": 147,
   "metadata": {},
   "outputs": [],
   "source": [
    "input_q1 = Input(shape = (50,))\n",
    "embedding_q1 = Embedding(VOCAB_SIZE, 100, input_length=50)(input_q1)\n",
    "layer_q1 = Flatten()(embedding_q1)\n",
    "layer_q1 = Dense(32, activation='relu')(layer_q1)"
   ]
  },
  {
   "cell_type": "code",
   "execution_count": 148,
   "metadata": {},
   "outputs": [],
   "source": [
    "input_q2 = Input(shape = (96,))\n",
    "embedding_q2 = Embedding(VOCAB_SIZE, 100, input_length=96)(input_q2)\n",
    "layer_q2 = Flatten()(embedding_q2)\n",
    "layer_q2 = Dense(32, activation='relu')(layer_q2)"
   ]
  },
  {
   "cell_type": "code",
   "execution_count": 149,
   "metadata": {},
   "outputs": [],
   "source": [
    "merge_q = concatenate([layer_q1, layer_q2])\n",
    "merge_q = BatchNormalization()(merge_q)"
   ]
  },
  {
   "cell_type": "code",
   "execution_count": 150,
   "metadata": {},
   "outputs": [],
   "source": [
    "merge_q = Dense(64, activation='relu')(merge_q)\n",
    "merge_q = BatchNormalization()(merge_q)\n",
    "merge_q = Dropout(0.2)(merge_q)"
   ]
  },
  {
   "cell_type": "code",
   "execution_count": 151,
   "metadata": {},
   "outputs": [],
   "source": [
    "preds = Dense(1, activation='sigmoid')(merge_q)"
   ]
  },
  {
   "cell_type": "code",
   "execution_count": 152,
   "metadata": {},
   "outputs": [],
   "source": [
    "model = Model(inputs=[input_q1,input_q2], outputs=preds)\n",
    "model.compile(loss='binary_crossentropy', optimizer='adam', metrics=['acc'])"
   ]
  },
  {
   "cell_type": "code",
   "execution_count": 153,
   "metadata": {},
   "outputs": [
    {
     "name": "stderr",
     "output_type": "stream",
     "text": [
      "C:\\Users\\Onkar\\AppData\\Local\\Continuum\\anaconda3\\lib\\site-packages\\tensorflow_core\\python\\framework\\indexed_slices.py:433: UserWarning: Converting sparse IndexedSlices to a dense Tensor of unknown shape. This may consume a large amount of memory.\n",
      "  \"Converting sparse IndexedSlices to a dense Tensor of unknown shape. \"\n"
     ]
    },
    {
     "name": "stdout",
     "output_type": "stream",
     "text": [
      "Train on 323432 samples, validate on 80858 samples\n",
      "Epoch 1/10\n",
      "323432/323432 [==============================] - 21s 65us/step - loss: 0.6173 - acc: 0.6519 - val_loss: 0.6338 - val_acc: 0.6394\n",
      "Epoch 2/10\n",
      "323432/323432 [==============================] - 20s 62us/step - loss: 0.5738 - acc: 0.6899 - val_loss: 0.6146 - val_acc: 0.6550\n",
      "Epoch 3/10\n",
      "323432/323432 [==============================] - 21s 65us/step - loss: 0.5558 - acc: 0.7021 - val_loss: 7.3457 - val_acc: 0.6403\n",
      "Epoch 4/10\n",
      "323432/323432 [==============================] - 23s 71us/step - loss: 0.5443 - acc: 0.7106 - val_loss: 0.6188 - val_acc: 0.6702\n",
      "Epoch 5/10\n",
      "323432/323432 [==============================] - 22s 68us/step - loss: 0.5374 - acc: 0.7145 - val_loss: 0.9383 - val_acc: 0.5422\n",
      "Epoch 6/10\n",
      "323432/323432 [==============================] - 24s 73us/step - loss: 0.5311 - acc: 0.7187 - val_loss: 0.6401 - val_acc: 0.6735\n",
      "Epoch 7/10\n",
      "323432/323432 [==============================] - 23s 72us/step - loss: 0.5265 - acc: 0.7218 - val_loss: 0.5947 - val_acc: 0.6908\n",
      "Epoch 8/10\n",
      "323432/323432 [==============================] - 21s 66us/step - loss: 0.5228 - acc: 0.7245 - val_loss: 1.5214 - val_acc: 0.6494\n",
      "Epoch 9/10\n",
      "323432/323432 [==============================] - 21s 66us/step - loss: 0.5197 - acc: 0.7265 - val_loss: 0.5996 - val_acc: 0.6926\n",
      "Epoch 10/10\n",
      "323432/323432 [==============================] - 24s 74us/step - loss: 0.5166 - acc: 0.7284 - val_loss: 1.0481 - val_acc: 0.5127\n"
     ]
    },
    {
     "data": {
      "text/plain": [
       "<keras.callbacks.callbacks.History at 0x17518fd7c08>"
      ]
     },
     "execution_count": 153,
     "metadata": {},
     "output_type": "execute_result"
    }
   ],
   "source": [
    "model.fit([pad_q1,pad_q2], np.array(train_df[\"is_duplicate\"]),  validation_split =0.2,  epochs=10, batch_size=1024, shuffle=True)"
   ]
  },
  {
   "cell_type": "code",
   "execution_count": 129,
   "metadata": {},
   "outputs": [
    {
     "name": "stderr",
     "output_type": "stream",
     "text": [
      "C:\\Users\\Onkar\\AppData\\Local\\Continuum\\anaconda3\\lib\\site-packages\\ipykernel_launcher.py:1: UserWarning: Update your `Model` call to the Keras 2 API: `Model(inputs=[array([[3..., outputs=Tensor(\"de...)`\n",
      "  \"\"\"Entry point for launching an IPython kernel.\n"
     ]
    },
    {
     "ename": "ValueError",
     "evalue": "Input tensors to a Model must come from `keras.layers.Input`. Received: [[34 34 19 ...  0  0  0]\n [48 41  6 ...  0  0  0]\n [27  6  9 ...  0  0  0]\n ...\n [25 35  0 ...  0  0  0]\n [ 7 33 31 ...  0  0  0]\n [38  5 45 ...  0  0  0]] (missing previous layer metadata).",
     "output_type": "error",
     "traceback": [
      "\u001b[1;31m---------------------------------------------------------------------------\u001b[0m",
      "\u001b[1;31mValueError\u001b[0m                                Traceback (most recent call last)",
      "\u001b[1;32m<ipython-input-129-a9d2f5a14c17>\u001b[0m in \u001b[0;36m<module>\u001b[1;34m\u001b[0m\n\u001b[1;32m----> 1\u001b[1;33m \u001b[0mmodel\u001b[0m \u001b[1;33m=\u001b[0m \u001b[0mModel\u001b[0m\u001b[1;33m(\u001b[0m\u001b[0minput\u001b[0m\u001b[1;33m=\u001b[0m\u001b[1;33m[\u001b[0m\u001b[0mpad_q1\u001b[0m\u001b[1;33m,\u001b[0m\u001b[0mpad_q2\u001b[0m\u001b[1;33m]\u001b[0m\u001b[1;33m,\u001b[0m \u001b[0moutput\u001b[0m\u001b[1;33m=\u001b[0m\u001b[0mpreds\u001b[0m\u001b[1;33m)\u001b[0m\u001b[1;33m\u001b[0m\u001b[1;33m\u001b[0m\u001b[0m\n\u001b[0m",
      "\u001b[1;32m~\\AppData\\Local\\Continuum\\anaconda3\\lib\\site-packages\\keras\\legacy\\interfaces.py\u001b[0m in \u001b[0;36mwrapper\u001b[1;34m(*args, **kwargs)\u001b[0m\n\u001b[0;32m     89\u001b[0m                 warnings.warn('Update your `' + object_name + '` call to the ' +\n\u001b[0;32m     90\u001b[0m                               'Keras 2 API: ' + signature, stacklevel=2)\n\u001b[1;32m---> 91\u001b[1;33m             \u001b[1;32mreturn\u001b[0m \u001b[0mfunc\u001b[0m\u001b[1;33m(\u001b[0m\u001b[1;33m*\u001b[0m\u001b[0margs\u001b[0m\u001b[1;33m,\u001b[0m \u001b[1;33m**\u001b[0m\u001b[0mkwargs\u001b[0m\u001b[1;33m)\u001b[0m\u001b[1;33m\u001b[0m\u001b[1;33m\u001b[0m\u001b[0m\n\u001b[0m\u001b[0;32m     92\u001b[0m         \u001b[0mwrapper\u001b[0m\u001b[1;33m.\u001b[0m\u001b[0m_original_function\u001b[0m \u001b[1;33m=\u001b[0m \u001b[0mfunc\u001b[0m\u001b[1;33m\u001b[0m\u001b[1;33m\u001b[0m\u001b[0m\n\u001b[0;32m     93\u001b[0m         \u001b[1;32mreturn\u001b[0m \u001b[0mwrapper\u001b[0m\u001b[1;33m\u001b[0m\u001b[1;33m\u001b[0m\u001b[0m\n",
      "\u001b[1;32m~\\AppData\\Local\\Continuum\\anaconda3\\lib\\site-packages\\keras\\engine\\network.py\u001b[0m in \u001b[0;36m__init__\u001b[1;34m(self, *args, **kwargs)\u001b[0m\n\u001b[0;32m     92\u001b[0m                 'inputs' in kwargs and 'outputs' in kwargs):\n\u001b[0;32m     93\u001b[0m             \u001b[1;31m# Graph network\u001b[0m\u001b[1;33m\u001b[0m\u001b[1;33m\u001b[0m\u001b[1;33m\u001b[0m\u001b[0m\n\u001b[1;32m---> 94\u001b[1;33m             \u001b[0mself\u001b[0m\u001b[1;33m.\u001b[0m\u001b[0m_init_graph_network\u001b[0m\u001b[1;33m(\u001b[0m\u001b[1;33m*\u001b[0m\u001b[0margs\u001b[0m\u001b[1;33m,\u001b[0m \u001b[1;33m**\u001b[0m\u001b[0mkwargs\u001b[0m\u001b[1;33m)\u001b[0m\u001b[1;33m\u001b[0m\u001b[1;33m\u001b[0m\u001b[0m\n\u001b[0m\u001b[0;32m     95\u001b[0m         \u001b[1;32melse\u001b[0m\u001b[1;33m:\u001b[0m\u001b[1;33m\u001b[0m\u001b[1;33m\u001b[0m\u001b[0m\n\u001b[0;32m     96\u001b[0m             \u001b[1;31m# Subclassed network\u001b[0m\u001b[1;33m\u001b[0m\u001b[1;33m\u001b[0m\u001b[1;33m\u001b[0m\u001b[0m\n",
      "\u001b[1;32m~\\AppData\\Local\\Continuum\\anaconda3\\lib\\site-packages\\keras\\engine\\network.py\u001b[0m in \u001b[0;36m_init_graph_network\u001b[1;34m(self, inputs, outputs, name, **kwargs)\u001b[0m\n\u001b[0;32m    167\u001b[0m                                  \u001b[1;34m'must come from `keras.layers.Input`. '\u001b[0m\u001b[1;33m\u001b[0m\u001b[1;33m\u001b[0m\u001b[0m\n\u001b[0;32m    168\u001b[0m                                  \u001b[1;34m'Received: '\u001b[0m \u001b[1;33m+\u001b[0m \u001b[0mstr\u001b[0m\u001b[1;33m(\u001b[0m\u001b[0mx\u001b[0m\u001b[1;33m)\u001b[0m \u001b[1;33m+\u001b[0m\u001b[1;33m\u001b[0m\u001b[1;33m\u001b[0m\u001b[0m\n\u001b[1;32m--> 169\u001b[1;33m                                  ' (missing previous layer metadata).')\n\u001b[0m\u001b[0;32m    170\u001b[0m             \u001b[1;31m# Check that x is an input tensor.\u001b[0m\u001b[1;33m\u001b[0m\u001b[1;33m\u001b[0m\u001b[1;33m\u001b[0m\u001b[0m\n\u001b[0;32m    171\u001b[0m             \u001b[0mlayer\u001b[0m\u001b[1;33m,\u001b[0m \u001b[0mnode_index\u001b[0m\u001b[1;33m,\u001b[0m \u001b[0mtensor_index\u001b[0m \u001b[1;33m=\u001b[0m \u001b[0mx\u001b[0m\u001b[1;33m.\u001b[0m\u001b[0m_keras_history\u001b[0m\u001b[1;33m\u001b[0m\u001b[1;33m\u001b[0m\u001b[0m\n",
      "\u001b[1;31mValueError\u001b[0m: Input tensors to a Model must come from `keras.layers.Input`. Received: [[34 34 19 ...  0  0  0]\n [48 41  6 ...  0  0  0]\n [27  6  9 ...  0  0  0]\n ...\n [25 35  0 ...  0  0  0]\n [ 7 33 31 ...  0  0  0]\n [38  5 45 ...  0  0  0]] (missing previous layer metadata)."
     ]
    }
   ],
   "source": [
    "model = Model(input=[pad_q1,pad_q2], output=preds)"
   ]
  },
  {
   "cell_type": "code",
   "execution_count": null,
   "metadata": {},
   "outputs": [],
   "source": [
    "embedding_layer2 = Embedding(VOCAB_SIZE, 8, input_length=50)"
   ]
  }
 ],
 "metadata": {
  "kernelspec": {
   "display_name": "Python 3",
   "language": "python",
   "name": "python3"
  },
  "language_info": {
   "codemirror_mode": {
    "name": "ipython",
    "version": 3
   },
   "file_extension": ".py",
   "mimetype": "text/x-python",
   "name": "python",
   "nbconvert_exporter": "python",
   "pygments_lexer": "ipython3",
   "version": "3.7.6"
  },
  "toc": {
   "base_numbering": 1,
   "nav_menu": {},
   "number_sections": true,
   "sideBar": true,
   "skip_h1_title": false,
   "title_cell": "Table of Contents",
   "title_sidebar": "Contents",
   "toc_cell": false,
   "toc_position": {},
   "toc_section_display": true,
   "toc_window_display": false
  }
 },
 "nbformat": 4,
 "nbformat_minor": 4
}
