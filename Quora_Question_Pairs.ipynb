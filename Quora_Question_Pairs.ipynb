{
 "cells": [
  {
   "cell_type": "markdown",
   "metadata": {},
   "source": [
    "# Executive Summary \n",
    "\n",
    "            \n",
    "The goal of this project is to identify duplicate questions i.e. questions of similar meaning given 2 questions on Quora. The competition was hosted on Kaggle and all the resources are freely available. Quora has provided labeled data identifying duplicates and the prediction of the models is tested on some part of this labeled set i.e. the test set. The success of the predictions is measured in terms of the following metrics:\n",
    "\n",
    "- Log loss: $$ \\sum_i −(𝑦_i 𝑙𝑜𝑔(ŷ_i ) + (1 − 𝑦_i) 𝑙𝑜𝑔(1 − ŷ_i )) $$\n",
    "y = true label \n",
    "ŷ = predicted probability of a pair being duplicate\n",
    "\n",
    "- Accuracy of the predictions\n",
    "\n",
    "The study is divided into 4 parts:\n",
    "- **Exploratory Data Analysis:** The analysis gives us an idea about the data at hand to tackle it most appropriately while modeling\n",
    "- **Data Cleaning and Root Word Generation:** Raw text data is cleaned, and root words are generated from the words in the text to reduce the vocabulary for faster modeling \n",
    "- **Predictive Modeling with Classical Techniques:** In this section, features are extracted using character counts, term frequency-inverse document frequency (TF-IDF) along with cosine similarity. Common models are trained with these features\n",
    "- **Predictive Modeling with Advanced Techniques:** Various Neural Network Architectures are tried with word embeddings created from questions’ text\n",
    "\n",
    "\n",
    "\n",
    "\n",
    "Following is the summary of various models on the validation set: \n",
    "\n",
    "| Model | Avg-Precision |F1-Score|\n",
    "| :-: | :-: |:-: |\n",
    "|Char counts & char length difference with Logistic Regression| 0.58|65%|\n",
    "| Char counts & char length difference with Random Forest | 0.55 | 68%|\n",
    "| Char counts & char length difference with XGBoost | 0.55 |68%|\n",
    "| Tf-idf & char length difference with Logistic Regression | 0.58 |65%|\n",
    "| Tf-idf & char length difference with Random Forest | 0.47 |0.50|\n",
    "| Tf-idf & char length difference with XGBoost | 0.55|67%|\n",
    "| Sentence Embeddings based Neural Network architecture | 0.47 |77%|\n",
    "| Word embeddings and LSTM based Neural Network architecture | 0.45 |77%|\n",
    "| Word embeddings and CNN architecture | 0.43 |79%|\n",
    "\n",
    "CNN model is tried on the Kaggle's test set and the best log-loss score is 0.41 \n"
   ]
  },
  {
   "cell_type": "markdown",
   "metadata": {},
   "source": [
    "# Importing Libraries and Data"
   ]
  },
  {
   "cell_type": "code",
   "execution_count": 107,
   "metadata": {
    "ExecuteTime": {
     "end_time": "2020-07-19T15:40:01.907576Z",
     "start_time": "2020-07-19T15:40:01.893614Z"
    }
   },
   "outputs": [],
   "source": [
    "import numpy as np\n",
    "from numpy.linalg import norm\n",
    "import pandas as pd\n",
    "import nltk\n",
    "import scipy\n",
    "from scipy import spatial\n",
    "from nltk.corpus import stopwords\n",
    "from nltk.stem import PorterStemmer\n",
    "import re\n",
    "import seaborn as sns\n",
    "from matplotlib import pyplot as plt\n",
    "from keras import Sequential\n",
    "from keras.layers import Embedding,Bidirectional, LSTM, add, multiply, Conv1D, GlobalAveragePooling1D, MaxPooling1D, Lambda, Flatten, Dense, Input, merge, concatenate, Dropout, BatchNormalization\n",
    "from keras import Model\n",
    "from keras.initializers import Constant\n",
    "from keras.preprocessing.sequence import pad_sequences\n",
    "from keras.preprocessing.text import one_hot, Tokenizer\n",
    "from sklearn.preprocessing import MinMaxScaler, StandardScaler\n",
    "from sklearn.metrics import accuracy_score\n",
    "from sklearn.metrics.pairwise import cosine_similarity\n",
    "from sklearn.feature_extraction.text import CountVectorizer, TfidfVectorizer\n",
    "from nltk import PorterStemmer\n",
    "from nltk import WordNetLemmatizer\n",
    "from sklearn.model_selection import train_test_split\n",
    "from sklearn.metrics import log_loss, accuracy_score\n",
    "from sklearn.linear_model import LogisticRegression\n",
    "from gensim.models import Word2Vec\n",
    "from numpy.linalg import norm\n",
    "#from qqp_utils import *\n",
    "from keras.callbacks import EarlyStopping\n",
    "from collections import Counter\n",
    "import itertools\n",
    "from sklearn.ensemble import RandomForestClassifier\n",
    "from xgboost import XGBClassifier\n",
    "import tensorflow as tf\n",
    "import keras.backend as K\n",
    "from keras.optimizers import Adam"
   ]
  },
  {
   "cell_type": "code",
   "execution_count": 4,
   "metadata": {
    "ExecuteTime": {
     "end_time": "2020-07-19T06:01:53.691204Z",
     "start_time": "2020-07-19T06:01:52.982281Z"
    }
   },
   "outputs": [],
   "source": [
    "train_df = pd.read_csv(\"train.csv\")\n",
    "#test_df = pd.read_csv(\"test.csv\")"
   ]
  },
  {
   "cell_type": "code",
   "execution_count": 8,
   "metadata": {
    "ExecuteTime": {
     "end_time": "2020-07-19T06:09:57.857891Z",
     "start_time": "2020-07-19T06:09:54.133405Z"
    }
   },
   "outputs": [],
   "source": [
    "test_df = pd.read_csv(\"test3.csv\")"
   ]
  },
  {
   "cell_type": "code",
   "execution_count": 10,
   "metadata": {
    "ExecuteTime": {
     "end_time": "2020-07-19T06:10:04.810253Z",
     "start_time": "2020-07-19T06:10:04.806264Z"
    }
   },
   "outputs": [
    {
     "data": {
      "text/plain": [
       "(2345796, 3)"
      ]
     },
     "execution_count": 10,
     "metadata": {},
     "output_type": "execute_result"
    }
   ],
   "source": [
    "test_df.shape"
   ]
  },
  {
   "cell_type": "markdown",
   "metadata": {},
   "source": [
    "# EDA"
   ]
  },
  {
   "cell_type": "code",
   "execution_count": 11,
   "metadata": {
    "ExecuteTime": {
     "end_time": "2020-07-19T06:10:41.770887Z",
     "start_time": "2020-07-19T06:10:41.766833Z"
    }
   },
   "outputs": [
    {
     "data": {
      "text/plain": [
       "(404290, 6)"
      ]
     },
     "execution_count": 11,
     "metadata": {},
     "output_type": "execute_result"
    }
   ],
   "source": [
    "train_df.shape"
   ]
  },
  {
   "cell_type": "code",
   "execution_count": 12,
   "metadata": {
    "ExecuteTime": {
     "end_time": "2020-07-19T06:10:42.467778Z",
     "start_time": "2020-07-19T06:10:42.458969Z"
    }
   },
   "outputs": [
    {
     "data": {
      "text/html": [
       "<div>\n",
       "<style scoped>\n",
       "    .dataframe tbody tr th:only-of-type {\n",
       "        vertical-align: middle;\n",
       "    }\n",
       "\n",
       "    .dataframe tbody tr th {\n",
       "        vertical-align: top;\n",
       "    }\n",
       "\n",
       "    .dataframe thead th {\n",
       "        text-align: right;\n",
       "    }\n",
       "</style>\n",
       "<table border=\"1\" class=\"dataframe\">\n",
       "  <thead>\n",
       "    <tr style=\"text-align: right;\">\n",
       "      <th></th>\n",
       "      <th>id</th>\n",
       "      <th>qid1</th>\n",
       "      <th>qid2</th>\n",
       "      <th>question1</th>\n",
       "      <th>question2</th>\n",
       "      <th>is_duplicate</th>\n",
       "    </tr>\n",
       "  </thead>\n",
       "  <tbody>\n",
       "    <tr>\n",
       "      <th>0</th>\n",
       "      <td>0</td>\n",
       "      <td>1</td>\n",
       "      <td>2</td>\n",
       "      <td>What is the step by step guide to invest in sh...</td>\n",
       "      <td>What is the step by step guide to invest in sh...</td>\n",
       "      <td>0</td>\n",
       "    </tr>\n",
       "    <tr>\n",
       "      <th>1</th>\n",
       "      <td>1</td>\n",
       "      <td>3</td>\n",
       "      <td>4</td>\n",
       "      <td>What is the story of Kohinoor (Koh-i-Noor) Dia...</td>\n",
       "      <td>What would happen if the Indian government sto...</td>\n",
       "      <td>0</td>\n",
       "    </tr>\n",
       "    <tr>\n",
       "      <th>2</th>\n",
       "      <td>2</td>\n",
       "      <td>5</td>\n",
       "      <td>6</td>\n",
       "      <td>How can I increase the speed of my internet co...</td>\n",
       "      <td>How can Internet speed be increased by hacking...</td>\n",
       "      <td>0</td>\n",
       "    </tr>\n",
       "    <tr>\n",
       "      <th>3</th>\n",
       "      <td>3</td>\n",
       "      <td>7</td>\n",
       "      <td>8</td>\n",
       "      <td>Why am I mentally very lonely? How can I solve...</td>\n",
       "      <td>Find the remainder when [math]23^{24}[/math] i...</td>\n",
       "      <td>0</td>\n",
       "    </tr>\n",
       "    <tr>\n",
       "      <th>4</th>\n",
       "      <td>4</td>\n",
       "      <td>9</td>\n",
       "      <td>10</td>\n",
       "      <td>Which one dissolve in water quikly sugar, salt...</td>\n",
       "      <td>Which fish would survive in salt water?</td>\n",
       "      <td>0</td>\n",
       "    </tr>\n",
       "  </tbody>\n",
       "</table>\n",
       "</div>"
      ],
      "text/plain": [
       "   id  qid1  qid2                                          question1  \\\n",
       "0   0     1     2  What is the step by step guide to invest in sh...   \n",
       "1   1     3     4  What is the story of Kohinoor (Koh-i-Noor) Dia...   \n",
       "2   2     5     6  How can I increase the speed of my internet co...   \n",
       "3   3     7     8  Why am I mentally very lonely? How can I solve...   \n",
       "4   4     9    10  Which one dissolve in water quikly sugar, salt...   \n",
       "\n",
       "                                           question2  is_duplicate  \n",
       "0  What is the step by step guide to invest in sh...             0  \n",
       "1  What would happen if the Indian government sto...             0  \n",
       "2  How can Internet speed be increased by hacking...             0  \n",
       "3  Find the remainder when [math]23^{24}[/math] i...             0  \n",
       "4            Which fish would survive in salt water?             0  "
      ]
     },
     "execution_count": 12,
     "metadata": {},
     "output_type": "execute_result"
    }
   ],
   "source": [
    "train_df.head(5)"
   ]
  },
  {
   "cell_type": "markdown",
   "metadata": {},
   "source": [
    "## Distribution of Target Class "
   ]
  },
  {
   "cell_type": "code",
   "execution_count": 13,
   "metadata": {
    "ExecuteTime": {
     "end_time": "2020-07-19T06:10:43.071622Z",
     "start_time": "2020-07-19T06:10:43.023016Z"
    }
   },
   "outputs": [
    {
     "data": {
      "text/plain": [
       "0    0.630802\n",
       "1    0.369198\n",
       "Name: is_duplicate, dtype: float64"
      ]
     },
     "execution_count": 13,
     "metadata": {},
     "output_type": "execute_result"
    }
   ],
   "source": [
    "train_df[\"is_duplicate\"].value_counts(normalize = True)"
   ]
  },
  {
   "cell_type": "code",
   "execution_count": 14,
   "metadata": {
    "ExecuteTime": {
     "end_time": "2020-07-19T06:10:44.046561Z",
     "start_time": "2020-07-19T06:10:43.901960Z"
    }
   },
   "outputs": [
    {
     "data": {
      "image/png": "[encoded data removed]",
      "text/plain": [
       "<Figure size 432x288 with 1 Axes>"
      ]
     },
     "metadata": {
      "needs_background": "light"
     },
     "output_type": "display_data"
    }
   ],
   "source": [
    "ax = sns.countplot(train_df[\"is_duplicate\"])\n",
    "ax.set_title(\"Class Distribution\");"
   ]
  },
  {
   "cell_type": "markdown",
   "metadata": {},
   "source": [
    "## Questions Analysis "
   ]
  },
  {
   "cell_type": "code",
   "execution_count": 15,
   "metadata": {
    "ExecuteTime": {
     "end_time": "2020-07-19T06:10:45.151752Z",
     "start_time": "2020-07-19T06:10:45.145761Z"
    }
   },
   "outputs": [
    {
     "data": {
      "text/plain": [
       "id               int64\n",
       "qid1             int64\n",
       "qid2             int64\n",
       "question1       object\n",
       "question2       object\n",
       "is_duplicate     int64\n",
       "dtype: object"
      ]
     },
     "execution_count": 15,
     "metadata": {},
     "output_type": "execute_result"
    }
   ],
   "source": [
    "train_df.dtypes"
   ]
  },
  {
   "cell_type": "code",
   "execution_count": 16,
   "metadata": {
    "ExecuteTime": {
     "end_time": "2020-07-19T06:10:46.190689Z",
     "start_time": "2020-07-19T06:10:46.075545Z"
    }
   },
   "outputs": [],
   "source": [
    "train_df[\"question1\"] = train_df[\"question1\"].astype(str)\n",
    "train_df[\"question2\"] = train_df[\"question2\"].astype(str)"
   ]
  },
  {
   "cell_type": "code",
   "execution_count": 17,
   "metadata": {
    "ExecuteTime": {
     "end_time": "2020-07-19T06:10:46.944829Z",
     "start_time": "2020-07-19T06:10:46.822972Z"
    }
   },
   "outputs": [
    {
     "data": {
      "text/plain": [
       "1169"
      ]
     },
     "execution_count": 17,
     "metadata": {},
     "output_type": "execute_result"
    }
   ],
   "source": [
    "max(train_df[\"question2\"].apply(len))"
   ]
  },
  {
   "cell_type": "markdown",
   "metadata": {},
   "source": [
    "### Distribution of Questions "
   ]
  },
  {
   "cell_type": "code",
   "execution_count": 18,
   "metadata": {
    "ExecuteTime": {
     "end_time": "2020-07-19T06:10:48.748008Z",
     "start_time": "2020-07-19T06:10:47.898398Z"
    }
   },
   "outputs": [
    {
     "data": {
      "image/png": "[encoded data removed]",
      "text/plain": [
       "<Figure size 576x288 with 1 Axes>"
      ]
     },
     "metadata": {
      "needs_background": "light"
     },
     "output_type": "display_data"
    }
   ],
   "source": [
    "plt.figure(figsize = (8,4))\n",
    "plt.hist(train_df[\"question1\"].apply(len), bins = 200, range = [0,200], color = \"b\", alpha = 0.5)\n",
    "plt.hist(train_df[\"question2\"].apply(len), bins = 200, range = [0,200], color = \"r\", alpha = 0.5)\n",
    "plt.title(\"Distribution char length of 2 questions\")\n",
    "plt.xlabel(\"Number of Characters\")\n",
    "plt.ylabel(\"Counts\")\n",
    "plt.legend([\"question1\", \"question2\"]);"
   ]
  },
  {
   "cell_type": "markdown",
   "metadata": {},
   "source": [
    "The 2 questions have almost identical distribution  in terms of number of characters"
   ]
  },
  {
   "cell_type": "markdown",
   "metadata": {},
   "source": [
    "### Distribution of difference in lengths by class "
   ]
  },
  {
   "cell_type": "code",
   "execution_count": 19,
   "metadata": {
    "ExecuteTime": {
     "end_time": "2020-07-19T06:10:49.310750Z",
     "start_time": "2020-07-19T06:10:49.114981Z"
    }
   },
   "outputs": [],
   "source": [
    "len1 = train_df[\"question1\"].apply(len)\n",
    "len2 = train_df[\"question2\"].apply(len)\n",
    "diff_len = np.abs(len1-len2) "
   ]
  },
  {
   "cell_type": "code",
   "execution_count": 20,
   "metadata": {
    "ExecuteTime": {
     "end_time": "2020-07-19T06:10:50.201596Z",
     "start_time": "2020-07-19T06:10:49.835037Z"
    }
   },
   "outputs": [
    {
     "data": {
      "image/png": "[encoded data removed]",
      "text/plain": [
       "<Figure size 576x288 with 1 Axes>"
      ]
     },
     "metadata": {
      "needs_background": "light"
     },
     "output_type": "display_data"
    }
   ],
   "source": [
    "plt.figure(figsize = (8,4))\n",
    "plt.hist(diff_len[train_df[\"is_duplicate\"]==0], bins = 100, range = [0,200], color = \"g\", alpha =0.5)\n",
    "plt.hist(diff_len[train_df[\"is_duplicate\"]==1], bins = 100, range = [0,200], color = \"r\", alpha = 0.5)\n",
    "plt.title(\"Distribution diff in char length by class\")\n",
    "plt.xlabel(\"Number of Characters\")\n",
    "plt.ylabel(\"Counts\")\n",
    "plt.legend([\"Not Duplicate\", \"Duplicate\"]);"
   ]
  },
  {
   "cell_type": "markdown",
   "metadata": {},
   "source": [
    "Duplicate class the difference between characters is less "
   ]
  },
  {
   "cell_type": "markdown",
   "metadata": {},
   "source": [
    "# Data Cleaning and Root Word Generation:\n",
    "Following tasks are addressed in this section:\n",
    "- Cleaning\n",
    "- Lemmatization / Stemming\n",
    "- Dividing into training and test set"
   ]
  },
  {
   "cell_type": "markdown",
   "metadata": {},
   "source": [
    "## Cleaning\n",
    "Steps:\n",
    "- Lowercase\n",
    "- Tokenize\n",
    "- Remove Stopwords\n",
    "- Remove non alpha numeric characters"
   ]
  },
  {
   "cell_type": "code",
   "execution_count": 21,
   "metadata": {
    "ExecuteTime": {
     "end_time": "2020-07-19T06:10:55.467194Z",
     "start_time": "2020-07-19T06:10:55.451219Z"
    }
   },
   "outputs": [],
   "source": [
    "#Caching the stopwords\n",
    "stopwords_eng = stopwords.words(\"english\")"
   ]
  },
  {
   "cell_type": "code",
   "execution_count": 22,
   "metadata": {
    "ExecuteTime": {
     "end_time": "2020-07-19T06:10:56.744746Z",
     "start_time": "2020-07-19T06:10:56.740770Z"
    }
   },
   "outputs": [],
   "source": [
    "def clean_data(text):\n",
    "    text = text.lower()\n",
    "    words = nltk.word_tokenize(text)\n",
    "    words = [w for w in words if w not in stopwords_eng and w.isalnum()]\n",
    "    return words"
   ]
  },
  {
   "cell_type": "code",
   "execution_count": 26,
   "metadata": {
    "ExecuteTime": {
     "end_time": "2020-07-19T06:14:27.291056Z",
     "start_time": "2020-07-19T06:12:49.253447Z"
    }
   },
   "outputs": [],
   "source": [
    "q1 = train_df[\"question1\"].apply(clean_data)\n",
    "q2 = train_df[\"question2\"].apply(clean_data)"
   ]
  },
  {
   "cell_type": "markdown",
   "metadata": {},
   "source": [
    "## Lemmatize / Stem"
   ]
  },
  {
   "cell_type": "code",
   "execution_count": 23,
   "metadata": {
    "ExecuteTime": {
     "end_time": "2020-07-19T06:11:07.729208Z",
     "start_time": "2020-07-19T06:11:07.723225Z"
    }
   },
   "outputs": [],
   "source": [
    "lemma = WordNetLemmatizer()\n",
    "def lemmatize(text):\n",
    "    return \" \".join([lemma.lemmatize(w) for w in text])    "
   ]
  },
  {
   "cell_type": "code",
   "execution_count": null,
   "metadata": {},
   "outputs": [],
   "source": [
    "q1_lem = q1.apply(lemmatize)\n",
    "q2_lem = q2.apply(lemmatize) "
   ]
  },
  {
   "cell_type": "code",
   "execution_count": 28,
   "metadata": {
    "ExecuteTime": {
     "end_time": "2020-07-19T06:18:28.593396Z",
     "start_time": "2020-07-19T06:18:28.589411Z"
    }
   },
   "outputs": [],
   "source": [
    "stemmer = PorterStemmer()\n",
    "def stem_words(text):\n",
    "    return \" \".join([stemmer.stem(w) for w in text]) "
   ]
  },
  {
   "cell_type": "code",
   "execution_count": 29,
   "metadata": {
    "ExecuteTime": {
     "end_time": "2020-07-19T06:19:39.565463Z",
     "start_time": "2020-07-19T06:18:29.701859Z"
    }
   },
   "outputs": [],
   "source": [
    "q1_stem = q1.apply(stem_words)\n",
    "q2_stem = q2.apply(stem_words) "
   ]
  },
  {
   "cell_type": "markdown",
   "metadata": {},
   "source": [
    "Stemming works much faster"
   ]
  },
  {
   "cell_type": "markdown",
   "metadata": {},
   "source": [
    "## Dividing the Data "
   ]
  },
  {
   "cell_type": "code",
   "execution_count": 131,
   "metadata": {
    "ExecuteTime": {
     "end_time": "2020-07-19T16:10:17.678420Z",
     "start_time": "2020-07-19T16:10:17.120790Z"
    }
   },
   "outputs": [],
   "source": [
    "RANDOM_STATE = 24\n",
    "ind_train , ind_test, y_train, y_test = train_test_split(np.arange(0,train_df.shape[0]), train_df[\"is_duplicate\"], train_size = 0.95, stratify = train_df[\"is_duplicate\"], random_state = RANDOM_STATE)"
   ]
  },
  {
   "cell_type": "code",
   "execution_count": 31,
   "metadata": {
    "ExecuteTime": {
     "end_time": "2020-07-19T06:20:02.643268Z",
     "start_time": "2020-07-19T06:20:01.884939Z"
    }
   },
   "outputs": [],
   "source": [
    "X_clean = pd.DataFrame({\"q1\":q1_stem, \"q2\":q2_stem})\n",
    "X_clean.to_csv(\"X_clean_new.csv\", index = False)\n",
    "X_train, X_test = X_clean.iloc[ind_train, :], X_clean.iloc[ind_test, :]"
   ]
  },
  {
   "cell_type": "code",
   "execution_count": 132,
   "metadata": {
    "ExecuteTime": {
     "end_time": "2020-07-19T16:10:39.625779Z",
     "start_time": "2020-07-19T16:10:38.977912Z"
    }
   },
   "outputs": [],
   "source": [
    "# X_clean = pd.read_csv(\"X_clean.csv\")\n",
    "# X_clean[\"q1\"] = X_clean[\"q1\"].apply(str)\n",
    "# X_clean[\"q2\"] = X_clean[\"q2\"].apply(str)\n",
    "# X_train, X_test = X_clean.iloc[ind_train, :], X_clean.iloc[ind_test, :]"
   ]
  },
  {
   "cell_type": "markdown",
   "metadata": {},
   "source": [
    "# Predictive Modeling - Traditional Methods"
   ]
  },
  {
   "cell_type": "markdown",
   "metadata": {},
   "source": [
    "## Difference in char length  & Char count similarity Approach\n",
    "- Count characters (2-6)\n",
    "- Find cosine similarity between 2 questions' char counts\n",
    "- Apply predictive models with cosine similarity and length difference between questions as features"
   ]
  },
  {
   "cell_type": "markdown",
   "metadata": {},
   "source": [
    "### Diff Lengths "
   ]
  },
  {
   "cell_type": "code",
   "execution_count": 133,
   "metadata": {
    "ExecuteTime": {
     "end_time": "2020-07-19T16:10:53.214927Z",
     "start_time": "2020-07-19T16:10:53.176019Z"
    }
   },
   "outputs": [],
   "source": [
    "diff_len_train = diff_len[ind_train]\n",
    "diff_len_test = diff_len[ind_test]"
   ]
  },
  {
   "cell_type": "markdown",
   "metadata": {},
   "source": [
    "### Char Counts"
   ]
  },
  {
   "cell_type": "code",
   "execution_count": 134,
   "metadata": {
    "ExecuteTime": {
     "end_time": "2020-07-19T16:10:55.083058Z",
     "start_time": "2020-07-19T16:10:55.063062Z"
    }
   },
   "outputs": [],
   "source": [
    "Questions_train = pd.concat([X_train[\"q1\"], X_train[\"q2\"]], axis = 0)"
   ]
  },
  {
   "cell_type": "code",
   "execution_count": 133,
   "metadata": {},
   "outputs": [],
   "source": [
    "count_vect = CountVectorizer(analyzer = \"char\", ngram_range = (2,6))\n",
    "count_vect.fit(Questions_train);"
   ]
  },
  {
   "cell_type": "code",
   "execution_count": 134,
   "metadata": {},
   "outputs": [],
   "source": [
    "charc_q1_train = count_vect.transform(X_train[\"q1\"])\n",
    "charc_q2_train = count_vect.transform(X_train[\"q2\"])\n",
    "charc_q1_test = count_vect.transform(X_test[\"q1\"])\n",
    "charc_q2_test = count_vect.transform(X_test[\"q2\"])"
   ]
  },
  {
   "cell_type": "markdown",
   "metadata": {},
   "source": [
    "### Cosine Similarity"
   ]
  },
  {
   "cell_type": "code",
   "execution_count": 55,
   "metadata": {
    "ExecuteTime": {
     "end_time": "2020-07-19T07:18:39.994074Z",
     "start_time": "2020-07-19T07:18:39.985097Z"
    }
   },
   "outputs": [],
   "source": [
    "def cosine_sim(vect1, vect2):\n",
    "    cos_sim = np.empty([vect1.shape[0], 1])\n",
    "    for i,vs in enumerate(zip(vect1, vect2)):\n",
    "        cos_sim[i] = (float(cosine_similarity(vs[0], vs[1])))\n",
    "    return cos_sim"
   ]
  },
  {
   "cell_type": "code",
   "execution_count": 309,
   "metadata": {},
   "outputs": [],
   "source": [
    "cos_sim_train = cosine_sim(charc_q1_train, charc_q2_train)\n",
    "#pd.DataFrame({\"cos_sim\":list(cos_sim_train[:,0])}).to_csv(\"cos_sim_train.csv\", index = False)"
   ]
  },
  {
   "cell_type": "code",
   "execution_count": 135,
   "metadata": {
    "ExecuteTime": {
     "end_time": "2020-07-19T16:11:19.187160Z",
     "start_time": "2020-07-19T16:11:19.035268Z"
    }
   },
   "outputs": [],
   "source": [
    "# cos_sim_train = pd.read_csv(\"cos_sim_train.csv\")\n",
    "# cos_sim_train = np.array(pd.read_csv(\"cos_sim_train.csv\"))"
   ]
  },
  {
   "cell_type": "code",
   "execution_count": 311,
   "metadata": {},
   "outputs": [],
   "source": [
    "cos_sim_test = cosine_sim(charc_q1_test, charc_q2_test)\n",
    "#pd.DataFrame({\"cos_sim\":list(cos_sim_test[:,0])}).to_csv(\"cos_sim_test.csv\", index = False)"
   ]
  },
  {
   "cell_type": "code",
   "execution_count": 136,
   "metadata": {
    "ExecuteTime": {
     "end_time": "2020-07-19T16:11:27.326110Z",
     "start_time": "2020-07-19T16:11:27.291051Z"
    }
   },
   "outputs": [],
   "source": [
    "# cos_sim_test = pd.read_csv(\"cos_sim_test.csv\")\n",
    "# cos_sim_test = np.array(pd.read_csv(\"cos_sim_test.csv\"))"
   ]
  },
  {
   "cell_type": "markdown",
   "metadata": {},
   "source": [
    "### Combining Features & Normalizing \n",
    "- Combine diff_len and cos_sim with char counts as 2 feature for the model\n",
    "- Normalize using min max scaler"
   ]
  },
  {
   "cell_type": "code",
   "execution_count": 137,
   "metadata": {
    "ExecuteTime": {
     "end_time": "2020-07-19T16:11:38.627550Z",
     "start_time": "2020-07-19T16:11:38.545991Z"
    }
   },
   "outputs": [],
   "source": [
    "Features_train = pd.DataFrame({\"diff_len\": diff_len_train, \"cos_sim\": list(cos_sim_train)})\n",
    "Features_test = pd.DataFrame({\"diff_len\": diff_len_test, \"cos_sim\": list(cos_sim_test)})"
   ]
  },
  {
   "cell_type": "code",
   "execution_count": 138,
   "metadata": {
    "ExecuteTime": {
     "end_time": "2020-07-19T16:11:39.699716Z",
     "start_time": "2020-07-19T16:11:39.587034Z"
    }
   },
   "outputs": [],
   "source": [
    "scaler = MinMaxScaler()\n",
    "scaler.fit(Features_train)\n",
    "Features_train_n = scaler.transform(Features_train)\n",
    "Features_test_n = scaler.transform(Features_test)"
   ]
  },
  {
   "cell_type": "markdown",
   "metadata": {},
   "source": [
    "### Modeling "
   ]
  },
  {
   "cell_type": "markdown",
   "metadata": {},
   "source": [
    "#### Logistic Regression"
   ]
  },
  {
   "cell_type": "code",
   "execution_count": 315,
   "metadata": {},
   "outputs": [],
   "source": [
    "Summary_CS = pd.DataFrame(columns = [\"Model\", \"Log Loss\",\"Accuracy\"])"
   ]
  },
  {
   "cell_type": "code",
   "execution_count": 316,
   "metadata": {},
   "outputs": [],
   "source": [
    "lr = LogisticRegression()\n",
    "lr.fit(Features_train_n , y_train)\n",
    "preds_train = lr.predict_proba(Features_train_n)[:,1];"
   ]
  },
  {
   "cell_type": "code",
   "execution_count": 317,
   "metadata": {},
   "outputs": [
    {
     "data": {
      "image/png": "[encoded data removed]",
      "text/plain": [
       "<Figure size 1008x288 with 2 Axes>"
      ]
     },
     "metadata": {
      "needs_background": "light"
     },
     "output_type": "display_data"
    }
   ],
   "source": [
    "fig, ax = plt.subplots(1,2, figsize = (14,4))\n",
    "ax[0].hist(preds_train[y_train==0], bins = 100, alpha = 0.7)\n",
    "ax[0].hist(preds_train[y_train==1], bins = 100, alpha = 0.7)\n",
    "ax[0].set_title(\"Distribution of Probablities by Class\")\n",
    "ax[0].legend([\"0\",\"1\"])\n",
    "\n",
    "output_lr = pd.DataFrame({\"LR_preds\":preds_train, \"y\":y_train})\n",
    "sns.boxplot(x=\"y\", y=\"LR_preds\", data = output_lr, ax = ax[1])\n",
    "ax[1].set_ylabel(\"Predicted Probablities\")\n",
    "ax[1].set_xlabel(\"Duplicate\")\n",
    "ax[1].set_title(\"Probablities by Class\");"
   ]
  },
  {
   "cell_type": "code",
   "execution_count": 318,
   "metadata": {},
   "outputs": [],
   "source": [
    "preds_test = lr.predict_proba(Features_test_n)[:,1]\n",
    "log_loss_score = log_loss(y_test, preds_test)\n",
    "accuracy = lr.score(Features_test_n, y_test)"
   ]
  },
  {
   "cell_type": "code",
   "execution_count": 319,
   "metadata": {},
   "outputs": [
    {
     "data": {
      "image/png": "[encoded data removed]",
      "text/plain": [
       "<Figure size 1008x288 with 2 Axes>"
      ]
     },
     "metadata": {
      "needs_background": "light"
     },
     "output_type": "display_data"
    }
   ],
   "source": [
    "fig, ax = plt.subplots(1,2, figsize = (14,4))\n",
    "ax[0].hist(preds_test[y_test==0], bins = 100, alpha = 0.7)\n",
    "ax[0].hist(preds_test[y_test==1], bins = 100, alpha = 0.7)\n",
    "ax[0].set_title(\"Distribution of Probablities by Class (Test Set)\")\n",
    "ax[0].legend([\"0\",\"1\"])\n",
    "\n",
    "output_lr = pd.DataFrame({\"LR_preds\":preds_test, \"y\":y_test})\n",
    "sns.boxplot(x=\"y\", y=\"LR_preds\", data = output_lr, ax = ax[1])\n",
    "ax[1].set_ylabel(\"Predicted Probablities\")\n",
    "ax[1].set_xlabel(\"Duplicate\")\n",
    "ax[1].set_title(\"Probablities by Class (Test Set)\");"
   ]
  },
  {
   "cell_type": "code",
   "execution_count": 320,
   "metadata": {},
   "outputs": [],
   "source": [
    "Summary_CS  = Summary_CS.append({\"Model\":\"Diff_len & Char_counts with Logistic Regression\", \"Log Loss\":np.round(log_loss_score,2), \"Accuracy\":np.round(accuracy,2)}, ignore_index = True)"
   ]
  },
  {
   "cell_type": "code",
   "execution_count": 321,
   "metadata": {},
   "outputs": [
    {
     "data": {
      "text/html": [
       "<div>\n",
       "<style scoped>\n",
       "    .dataframe tbody tr th:only-of-type {\n",
       "        vertical-align: middle;\n",
       "    }\n",
       "\n",
       "    .dataframe tbody tr th {\n",
       "        vertical-align: top;\n",
       "    }\n",
       "\n",
       "    .dataframe thead th {\n",
       "        text-align: right;\n",
       "    }\n",
       "</style>\n",
       "<table border=\"1\" class=\"dataframe\">\n",
       "  <thead>\n",
       "    <tr style=\"text-align: right;\">\n",
       "      <th></th>\n",
       "      <th>Model</th>\n",
       "      <th>Log Loss</th>\n",
       "      <th>Accuracy</th>\n",
       "    </tr>\n",
       "  </thead>\n",
       "  <tbody>\n",
       "    <tr>\n",
       "      <th>0</th>\n",
       "      <td>Diff_len &amp; Char_counts with Logistic Regression</td>\n",
       "      <td>0.58</td>\n",
       "      <td>0.65</td>\n",
       "    </tr>\n",
       "  </tbody>\n",
       "</table>\n",
       "</div>"
      ],
      "text/plain": [
       "                                             Model  Log Loss  Accuracy\n",
       "0  Diff_len & Char_counts with Logistic Regression      0.58      0.65"
      ]
     },
     "execution_count": 321,
     "metadata": {},
     "output_type": "execute_result"
    }
   ],
   "source": [
    "Summary_CS"
   ]
  },
  {
   "cell_type": "markdown",
   "metadata": {},
   "source": [
    "#### Random Forest "
   ]
  },
  {
   "cell_type": "code",
   "execution_count": 322,
   "metadata": {},
   "outputs": [],
   "source": [
    "rf = RandomForestClassifier(max_depth = 5)\n",
    "rf.fit(Features_train_n , y_train)\n",
    "preds_train = rf.predict_proba(Features_train_n)[:,1];"
   ]
  },
  {
   "cell_type": "code",
   "execution_count": 323,
   "metadata": {},
   "outputs": [
    {
     "data": {
      "image/png": "[encoded data removed]",
      "text/plain": [
       "<Figure size 1008x288 with 2 Axes>"
      ]
     },
     "metadata": {
      "needs_background": "light"
     },
     "output_type": "display_data"
    }
   ],
   "source": [
    "fig, ax = plt.subplots(1,2, figsize = (14,4))\n",
    "ax[0].hist(preds_train[y_train==0], bins = 100, alpha = 0.7)\n",
    "ax[0].hist(preds_train[y_train==1], bins = 100, alpha = 0.7)\n",
    "ax[0].set_title(\"Distribution of Probablities by Class\")\n",
    "ax[0].legend([\"0\",\"1\"])\n",
    "\n",
    "preds_labels = pd.DataFrame({\"LR_preds\":preds_train, \"y\":y_train})\n",
    "sns.boxplot(x=\"y\", y=\"LR_preds\", data = preds_labels, ax = ax[1])\n",
    "ax[1].set_ylabel(\"Predicted Probablities\")\n",
    "ax[1].set_xlabel(\"Duplicate\")\n",
    "ax[1].set_title(\"Probablities by Class\");"
   ]
  },
  {
   "cell_type": "code",
   "execution_count": 324,
   "metadata": {},
   "outputs": [],
   "source": [
    "preds_test = rf.predict_proba(Features_test_n)[:,1]\n",
    "log_loss_score = log_loss(y_test, preds_test)\n",
    "accuracy = rf.score(Features_test_n, y_test)"
   ]
  },
  {
   "cell_type": "code",
   "execution_count": 325,
   "metadata": {},
   "outputs": [
    {
     "data": {
      "image/png": "[encoded data removed]",
      "text/plain": [
       "<Figure size 1008x288 with 2 Axes>"
      ]
     },
     "metadata": {
      "needs_background": "light"
     },
     "output_type": "display_data"
    }
   ],
   "source": [
    "fig, ax = plt.subplots(1,2, figsize = (14,4))\n",
    "ax[0].hist(preds_test[y_test==0], bins = 100, alpha = 0.7)\n",
    "ax[0].hist(preds_test[y_test==1], bins = 100, alpha = 0.7)\n",
    "ax[0].set_title(\"Distribution of Probablities by Class (Test Set)\")\n",
    "ax[0].legend([\"0\",\"1\"])\n",
    "\n",
    "preds_labels = pd.DataFrame({\"LR_preds\":preds_test, \"y\":y_test})\n",
    "sns.boxplot(x=\"y\", y=\"LR_preds\", data = preds_labels, ax = ax[1])\n",
    "ax[1].set_ylabel(\"Predicted Probablities\")\n",
    "ax[1].set_xlabel(\"Duplicate\")\n",
    "ax[1].set_title(\"Probablities by Class (Test Set)\");"
   ]
  },
  {
   "cell_type": "code",
   "execution_count": 326,
   "metadata": {},
   "outputs": [],
   "source": [
    "Summary_CS  = Summary_CS.append({\"Model\":\"Diff_len & Char_counts with Random Forest\", \"Log Loss\":np.round(log_loss_score,2), \"Accuracy\":np.round(accuracy,2)}, ignore_index = True)"
   ]
  },
  {
   "cell_type": "code",
   "execution_count": 327,
   "metadata": {},
   "outputs": [
    {
     "data": {
      "text/html": [
       "<div>\n",
       "<style scoped>\n",
       "    .dataframe tbody tr th:only-of-type {\n",
       "        vertical-align: middle;\n",
       "    }\n",
       "\n",
       "    .dataframe tbody tr th {\n",
       "        vertical-align: top;\n",
       "    }\n",
       "\n",
       "    .dataframe thead th {\n",
       "        text-align: right;\n",
       "    }\n",
       "</style>\n",
       "<table border=\"1\" class=\"dataframe\">\n",
       "  <thead>\n",
       "    <tr style=\"text-align: right;\">\n",
       "      <th></th>\n",
       "      <th>Model</th>\n",
       "      <th>Log Loss</th>\n",
       "      <th>Accuracy</th>\n",
       "    </tr>\n",
       "  </thead>\n",
       "  <tbody>\n",
       "    <tr>\n",
       "      <th>0</th>\n",
       "      <td>Diff_len &amp; Char_counts with Logistic Regression</td>\n",
       "      <td>0.58</td>\n",
       "      <td>0.65</td>\n",
       "    </tr>\n",
       "    <tr>\n",
       "      <th>1</th>\n",
       "      <td>Diff_len &amp; Char_counts with Random Forest</td>\n",
       "      <td>0.55</td>\n",
       "      <td>0.68</td>\n",
       "    </tr>\n",
       "  </tbody>\n",
       "</table>\n",
       "</div>"
      ],
      "text/plain": [
       "                                             Model  Log Loss  Accuracy\n",
       "0  Diff_len & Char_counts with Logistic Regression      0.58      0.65\n",
       "1        Diff_len & Char_counts with Random Forest      0.55      0.68"
      ]
     },
     "execution_count": 327,
     "metadata": {},
     "output_type": "execute_result"
    }
   ],
   "source": [
    "Summary_CS"
   ]
  },
  {
   "cell_type": "markdown",
   "metadata": {},
   "source": [
    "#### XGBoost "
   ]
  },
  {
   "cell_type": "code",
   "execution_count": 328,
   "metadata": {},
   "outputs": [],
   "source": [
    "xgb = XGBClassifier(max_depth = 5)\n",
    "xgb.fit(Features_train_n , y_train)\n",
    "preds_train = xgb.predict_proba(Features_train_n)[:,1];"
   ]
  },
  {
   "cell_type": "code",
   "execution_count": 329,
   "metadata": {},
   "outputs": [
    {
     "data": {
      "image/png": "[encoded data removed]",
      "text/plain": [
       "<Figure size 1008x288 with 2 Axes>"
      ]
     },
     "metadata": {
      "needs_background": "light"
     },
     "output_type": "display_data"
    }
   ],
   "source": [
    "fig, ax = plt.subplots(1,2, figsize = (14,4))\n",
    "ax[0].hist(preds_train[y_train==0], bins = 100, alpha = 0.7)\n",
    "ax[0].hist(preds_train[y_train==1], bins = 100, alpha = 0.7)\n",
    "ax[0].set_title(\"Distribution of Probablities by Class\")\n",
    "ax[0].legend([\"0\",\"1\"])\n",
    "\n",
    "preds_labels = pd.DataFrame({\"LR_preds\":preds_train, \"y\":y_train})\n",
    "sns.boxplot(x=\"y\", y=\"LR_preds\", data = preds_labels, ax = ax[1])\n",
    "ax[1].set_ylabel(\"Predicted Probablities\")\n",
    "ax[1].set_xlabel(\"Duplicate\")\n",
    "ax[1].set_title(\"Probablities by Class\");"
   ]
  },
  {
   "cell_type": "code",
   "execution_count": 330,
   "metadata": {},
   "outputs": [],
   "source": [
    "preds_test = xgb.predict_proba(Features_test_n)[:,1]\n",
    "log_loss_score = log_loss(y_test, preds_test)\n",
    "accuracy = xgb.score(Features_test_n, y_test)"
   ]
  },
  {
   "cell_type": "code",
   "execution_count": 331,
   "metadata": {},
   "outputs": [
    {
     "data": {
      "image/png": "[encoded data removed]",
      "text/plain": [
       "<Figure size 1008x288 with 2 Axes>"
      ]
     },
     "metadata": {
      "needs_background": "light"
     },
     "output_type": "display_data"
    }
   ],
   "source": [
    "fig, ax = plt.subplots(1,2, figsize = (14,4))\n",
    "ax[0].hist(preds_test[y_test==0], bins = 100, alpha = 0.7)\n",
    "ax[0].hist(preds_test[y_test==1], bins = 100, alpha = 0.7)\n",
    "ax[0].set_title(\"Distribution of Probablities by Class (Test Set)\")\n",
    "ax[0].legend([\"0\",\"1\"])\n",
    "\n",
    "preds_labels = pd.DataFrame({\"LR_preds\":preds_test, \"y\":y_test})\n",
    "sns.boxplot(x=\"y\", y=\"LR_preds\", data = preds_labels, ax = ax[1])\n",
    "ax[1].set_ylabel(\"Predicted Probablities\")\n",
    "ax[1].set_xlabel(\"Duplicate\")\n",
    "ax[1].set_title(\"Probablities by Class (Test Set)\");"
   ]
  },
  {
   "cell_type": "code",
   "execution_count": 332,
   "metadata": {},
   "outputs": [],
   "source": [
    "Summary_CS  = Summary_CS.append({\"Model\":\"Diff_len & Char_counts with XGBoost\", \"Log Loss\":np.round(log_loss_score,2), \"Accuracy\":np.round(accuracy,2)}, ignore_index = True)"
   ]
  },
  {
   "cell_type": "code",
   "execution_count": 333,
   "metadata": {},
   "outputs": [
    {
     "data": {
      "text/html": [
       "<div>\n",
       "<style scoped>\n",
       "    .dataframe tbody tr th:only-of-type {\n",
       "        vertical-align: middle;\n",
       "    }\n",
       "\n",
       "    .dataframe tbody tr th {\n",
       "        vertical-align: top;\n",
       "    }\n",
       "\n",
       "    .dataframe thead th {\n",
       "        text-align: right;\n",
       "    }\n",
       "</style>\n",
       "<table border=\"1\" class=\"dataframe\">\n",
       "  <thead>\n",
       "    <tr style=\"text-align: right;\">\n",
       "      <th></th>\n",
       "      <th>Model</th>\n",
       "      <th>Log Loss</th>\n",
       "      <th>Accuracy</th>\n",
       "    </tr>\n",
       "  </thead>\n",
       "  <tbody>\n",
       "    <tr>\n",
       "      <th>0</th>\n",
       "      <td>Diff_len &amp; Char_counts with Logistic Regression</td>\n",
       "      <td>0.58</td>\n",
       "      <td>0.65</td>\n",
       "    </tr>\n",
       "    <tr>\n",
       "      <th>1</th>\n",
       "      <td>Diff_len &amp; Char_counts with Random Forest</td>\n",
       "      <td>0.55</td>\n",
       "      <td>0.68</td>\n",
       "    </tr>\n",
       "    <tr>\n",
       "      <th>2</th>\n",
       "      <td>Diff_len &amp; Char_counts with XGBoost</td>\n",
       "      <td>0.55</td>\n",
       "      <td>0.68</td>\n",
       "    </tr>\n",
       "  </tbody>\n",
       "</table>\n",
       "</div>"
      ],
      "text/plain": [
       "                                             Model  Log Loss  Accuracy\n",
       "0  Diff_len & Char_counts with Logistic Regression      0.58      0.65\n",
       "1        Diff_len & Char_counts with Random Forest      0.55      0.68\n",
       "2              Diff_len & Char_counts with XGBoost      0.55      0.68"
      ]
     },
     "execution_count": 333,
     "metadata": {},
     "output_type": "execute_result"
    }
   ],
   "source": [
    "Summary_CS"
   ]
  },
  {
   "cell_type": "markdown",
   "metadata": {},
   "source": [
    "## Difference in char length & Tf-idf cosine similarity Approach\n",
    "- Tf-idf characters (2-6)\n",
    "- Find cosine similarity between 2 questions' Tf-idf vectors\n",
    "- Apply predictive models with cosine similarity and length difference between questions as features"
   ]
  },
  {
   "cell_type": "markdown",
   "metadata": {},
   "source": [
    "### Tf-idf"
   ]
  },
  {
   "cell_type": "code",
   "execution_count": 334,
   "metadata": {},
   "outputs": [],
   "source": [
    "tfidf_vect = TfidfVectorizer(analyzer = \"char\", ngram_range = (2,6))\n",
    "tfidf_vect.fit(Questions_train);"
   ]
  },
  {
   "cell_type": "code",
   "execution_count": 335,
   "metadata": {},
   "outputs": [],
   "source": [
    "tfidf_q1_train = tfidf_vect.transform(X_train[\"q1\"])\n",
    "tfidf_q2_train = tfidf_vect.transform(X_train[\"q2\"])\n",
    "tfidf_q1_test = tfidf_vect.transform(X_test[\"q1\"])\n",
    "tfidf_q2_test = tfidf_vect.transform(X_test[\"q2\"])"
   ]
  },
  {
   "cell_type": "markdown",
   "metadata": {},
   "source": [
    "### Cosine Similarity "
   ]
  },
  {
   "cell_type": "code",
   "execution_count": 336,
   "metadata": {},
   "outputs": [],
   "source": [
    "cos_sim_train2 = cosine_sim(tfidf_q1_train, tfidf_q2_train)\n",
    "pd.DataFrame({\"cos_sim\":list(cos_sim_train2[:,0])}).to_csv(\"cos_sim_train2.csv\", index = False)"
   ]
  },
  {
   "cell_type": "code",
   "execution_count": 337,
   "metadata": {},
   "outputs": [],
   "source": [
    "cos_sim_test2 = cosine_sim(tfidf_q1_test, tfidf_q2_test)\n",
    "pd.DataFrame({\"cos_sim\":list(cos_sim_test2[:,0])}).to_csv(\"cos_sim_test2.csv\", index = False)"
   ]
  },
  {
   "cell_type": "code",
   "execution_count": 338,
   "metadata": {},
   "outputs": [],
   "source": [
    "# cos_sim_train2 = np.array(pd.read_csv(\"cos_sim_train2.csv\"))\n",
    "# cos_sim_test2 = np.array(pd.read_csv(\"cos_sim_test2.csv\"))"
   ]
  },
  {
   "cell_type": "markdown",
   "metadata": {},
   "source": [
    "### Combining Features\n",
    "- Combine diff_len and cos_sim with char counts as 2 feature for the model"
   ]
  },
  {
   "cell_type": "code",
   "execution_count": 339,
   "metadata": {},
   "outputs": [],
   "source": [
    "Features_train2 = pd.DataFrame({\"diff_len\": diff_len_train, \"cos_sim\": list(cos_sim_train2)})\n",
    "Features_test2 = pd.DataFrame({\"diff_len\": diff_len_test, \"cos_sim\": list(cos_sim_test2)})"
   ]
  },
  {
   "cell_type": "code",
   "execution_count": 340,
   "metadata": {},
   "outputs": [],
   "source": [
    "scaler = MinMaxScaler()\n",
    "scaler.fit(Features_train)\n",
    "Features_train_n2 = scaler.transform(Features_train2)\n",
    "Features_test_n2 = scaler.transform(Features_test2)"
   ]
  },
  {
   "cell_type": "markdown",
   "metadata": {},
   "source": [
    "### Modeling"
   ]
  },
  {
   "cell_type": "markdown",
   "metadata": {},
   "source": [
    "#### Logistic Regression"
   ]
  },
  {
   "cell_type": "code",
   "execution_count": 341,
   "metadata": {},
   "outputs": [],
   "source": [
    "lr = LogisticRegression()\n",
    "lr.fit(Features_train_n2 , y_train);"
   ]
  },
  {
   "cell_type": "code",
   "execution_count": 342,
   "metadata": {},
   "outputs": [],
   "source": [
    "preds_train = lr.predict_proba(Features_train_n2)[:,1]"
   ]
  },
  {
   "cell_type": "code",
   "execution_count": 343,
   "metadata": {},
   "outputs": [
    {
     "data": {
      "image/png": "[encoded data removed]",
      "text/plain": [
       "<Figure size 1008x288 with 2 Axes>"
      ]
     },
     "metadata": {
      "needs_background": "light"
     },
     "output_type": "display_data"
    }
   ],
   "source": [
    "fig, ax = plt.subplots(1,2, figsize = (14,4))\n",
    "ax[0].hist(preds_train[y_train==0], bins = 100, alpha = 0.7)\n",
    "ax[0].hist(preds_train[y_train==1], bins = 100, alpha = 0.7)\n",
    "ax[0].set_title(\"Distribution of Probablities by Class\")\n",
    "ax[0].legend([\"0\",\"1\"])\n",
    "\n",
    "preds_labels = pd.DataFrame({\"LR_preds\":preds_train, \"y\":y_train})\n",
    "sns.boxplot(x=\"y\", y=\"LR_preds\", data = preds_labels, ax = ax[1])\n",
    "ax[1].set_ylabel(\"Predicted Probablities\")\n",
    "ax[1].set_xlabel(\"Duplicate\")\n",
    "ax[1].set_title(\"Probablities by Class\");"
   ]
  },
  {
   "cell_type": "code",
   "execution_count": 344,
   "metadata": {},
   "outputs": [],
   "source": [
    "preds_test = lr.predict_proba(Features_test_n2)[:,1]\n",
    "log_loss_score = log_loss(y_test, preds_test)\n",
    "accuracy = lr.score(Features_test_n2, y_test)"
   ]
  },
  {
   "cell_type": "code",
   "execution_count": 345,
   "metadata": {},
   "outputs": [
    {
     "data": {
      "image/png": "[encoded data removed]",
      "text/plain": [
       "<Figure size 1008x288 with 2 Axes>"
      ]
     },
     "metadata": {
      "needs_background": "light"
     },
     "output_type": "display_data"
    }
   ],
   "source": [
    "fig, ax = plt.subplots(1,2, figsize = (14,4))\n",
    "ax[0].hist(preds_test[y_test==0], bins = 100, alpha = 0.7)\n",
    "ax[0].hist(preds_test[y_test==1], bins = 100, alpha = 0.7)\n",
    "ax[0].set_title(\"Distribution of Probablities by Class (Test Set)\")\n",
    "ax[0].legend([\"0\",\"1\"])\n",
    "\n",
    "preds_labels = pd.DataFrame({\"LR_preds\":preds_test, \"y\":y_test})\n",
    "sns.boxplot(x=\"y\", y=\"LR_preds\", data = preds_labels, ax = ax[1])\n",
    "ax[1].set_ylabel(\"Predicted Probablities\")\n",
    "ax[1].set_xlabel(\"Duplicate\")\n",
    "ax[1].set_title(\"Probablities by Class (Test Set)\");"
   ]
  },
  {
   "cell_type": "code",
   "execution_count": 346,
   "metadata": {},
   "outputs": [],
   "source": [
    "Summary_CS  = Summary_CS.append({\"Model\":\"Diff_len & Tf-idf with Logistic Regression\", \"Log Loss\":np.round(log_loss_score,2), \"Accuracy\":np.round(accuracy,2)}, ignore_index = True)"
   ]
  },
  {
   "cell_type": "markdown",
   "metadata": {},
   "source": [
    "#### Random Forest "
   ]
  },
  {
   "cell_type": "code",
   "execution_count": 347,
   "metadata": {},
   "outputs": [],
   "source": [
    "rf = RandomForestClassifier(max_depth = 5)\n",
    "rf.fit(Features_train_n2 , y_train);"
   ]
  },
  {
   "cell_type": "code",
   "execution_count": 348,
   "metadata": {},
   "outputs": [],
   "source": [
    "preds_train = rf.predict_proba(Features_train_n2)[:,1]"
   ]
  },
  {
   "cell_type": "code",
   "execution_count": 349,
   "metadata": {},
   "outputs": [
    {
     "data": {
      "image/png": "[encoded data removed]",
      "text/plain": [
       "<Figure size 1008x288 with 2 Axes>"
      ]
     },
     "metadata": {
      "needs_background": "light"
     },
     "output_type": "display_data"
    }
   ],
   "source": [
    "fig, ax = plt.subplots(1,2, figsize = (14,4))\n",
    "ax[0].hist(preds_train[y_train==0], bins = 100, alpha = 0.7)\n",
    "ax[0].hist(preds_train[y_train==1], bins = 100, alpha = 0.7)\n",
    "ax[0].set_title(\"Distribution of Probablities by Class\")\n",
    "ax[0].legend([\"0\",\"1\"])\n",
    "\n",
    "preds_labels = pd.DataFrame({\"LR_preds\":preds_train, \"y\":y_train})\n",
    "sns.boxplot(x=\"y\", y=\"LR_preds\", data = preds_labels, ax = ax[1])\n",
    "ax[1].set_ylabel(\"Predicted Probablities\")\n",
    "ax[1].set_xlabel(\"Duplicate\")\n",
    "ax[1].set_title(\"Probablities by Class\");"
   ]
  },
  {
   "cell_type": "code",
   "execution_count": 350,
   "metadata": {},
   "outputs": [],
   "source": [
    "preds_test = rf.predict_proba(Features_test_n2)[:,1]\n",
    "log_loss_score = log_loss(y_test, preds_test)\n",
    "accuracy = rf.score(Features_test_n2, y_test)"
   ]
  },
  {
   "cell_type": "code",
   "execution_count": 351,
   "metadata": {},
   "outputs": [
    {
     "data": {
      "image/png": "[encoded data removed]",
      "text/plain": [
       "<Figure size 1008x288 with 2 Axes>"
      ]
     },
     "metadata": {
      "needs_background": "light"
     },
     "output_type": "display_data"
    }
   ],
   "source": [
    "fig, ax = plt.subplots(1,2, figsize = (14,4))\n",
    "ax[0].hist(preds_test[y_test==0], bins = 100, alpha = 0.7)\n",
    "ax[0].hist(preds_test[y_test==1], bins = 100, alpha = 0.7)\n",
    "ax[0].set_title(\"Distribution of Probablities by Class (Test Set)\")\n",
    "ax[0].legend([\"0\",\"1\"])\n",
    "\n",
    "preds_labels = pd.DataFrame({\"LR_preds\":preds_test, \"y\":y_test})\n",
    "sns.boxplot(x=\"y\", y=\"LR_preds\", data = preds_labels, ax = ax[1])\n",
    "ax[1].set_ylabel(\"Predicted Probablities\")\n",
    "ax[1].set_xlabel(\"Duplicate\")\n",
    "ax[1].set_title(\"Probablities by Class (Test Set)\");"
   ]
  },
  {
   "cell_type": "code",
   "execution_count": 352,
   "metadata": {},
   "outputs": [],
   "source": [
    "Summary_CS  = Summary_CS.append({\"Model\":\"Diff_len & Tf-idf with Random Forest\", \"Log Loss\":np.round(log_loss_score,2), \"Accuracy\":np.round(accuracy,2)}, ignore_index = True)"
   ]
  },
  {
   "cell_type": "code",
   "execution_count": 353,
   "metadata": {},
   "outputs": [
    {
     "data": {
      "text/html": [
       "<div>\n",
       "<style scoped>\n",
       "    .dataframe tbody tr th:only-of-type {\n",
       "        vertical-align: middle;\n",
       "    }\n",
       "\n",
       "    .dataframe tbody tr th {\n",
       "        vertical-align: top;\n",
       "    }\n",
       "\n",
       "    .dataframe thead th {\n",
       "        text-align: right;\n",
       "    }\n",
       "</style>\n",
       "<table border=\"1\" class=\"dataframe\">\n",
       "  <thead>\n",
       "    <tr style=\"text-align: right;\">\n",
       "      <th></th>\n",
       "      <th>Model</th>\n",
       "      <th>Log Loss</th>\n",
       "      <th>Accuracy</th>\n",
       "    </tr>\n",
       "  </thead>\n",
       "  <tbody>\n",
       "    <tr>\n",
       "      <th>0</th>\n",
       "      <td>Diff_len &amp; Char_counts with Logistic Regression</td>\n",
       "      <td>0.58</td>\n",
       "      <td>0.65</td>\n",
       "    </tr>\n",
       "    <tr>\n",
       "      <th>1</th>\n",
       "      <td>Diff_len &amp; Char_counts with Random Forest</td>\n",
       "      <td>0.55</td>\n",
       "      <td>0.68</td>\n",
       "    </tr>\n",
       "    <tr>\n",
       "      <th>2</th>\n",
       "      <td>Diff_len &amp; Char_counts with XGBoost</td>\n",
       "      <td>0.55</td>\n",
       "      <td>0.68</td>\n",
       "    </tr>\n",
       "    <tr>\n",
       "      <th>3</th>\n",
       "      <td>Diff_len &amp; Tf-idf with Logistic Regression</td>\n",
       "      <td>0.58</td>\n",
       "      <td>0.65</td>\n",
       "    </tr>\n",
       "    <tr>\n",
       "      <th>4</th>\n",
       "      <td>Diff_len &amp; Tf-idf with Random Forest</td>\n",
       "      <td>0.56</td>\n",
       "      <td>0.67</td>\n",
       "    </tr>\n",
       "  </tbody>\n",
       "</table>\n",
       "</div>"
      ],
      "text/plain": [
       "                                             Model  Log Loss  Accuracy\n",
       "0  Diff_len & Char_counts with Logistic Regression      0.58      0.65\n",
       "1        Diff_len & Char_counts with Random Forest      0.55      0.68\n",
       "2              Diff_len & Char_counts with XGBoost      0.55      0.68\n",
       "3       Diff_len & Tf-idf with Logistic Regression      0.58      0.65\n",
       "4             Diff_len & Tf-idf with Random Forest      0.56      0.67"
      ]
     },
     "execution_count": 353,
     "metadata": {},
     "output_type": "execute_result"
    }
   ],
   "source": [
    "Summary_CS"
   ]
  },
  {
   "cell_type": "markdown",
   "metadata": {},
   "source": [
    "#### XGBoost "
   ]
  },
  {
   "cell_type": "code",
   "execution_count": 354,
   "metadata": {},
   "outputs": [],
   "source": [
    "xgb = XGBClassifier(max_depth = 5)\n",
    "xgb.fit(Features_train_n2 , y_train);"
   ]
  },
  {
   "cell_type": "code",
   "execution_count": 355,
   "metadata": {},
   "outputs": [],
   "source": [
    "preds_train = xgb.predict_proba(Features_train_n2)[:,1]"
   ]
  },
  {
   "cell_type": "code",
   "execution_count": 356,
   "metadata": {},
   "outputs": [
    {
     "data": {
      "image/png": "[encoded data removed]",
      "text/plain": [
       "<Figure size 1008x288 with 2 Axes>"
      ]
     },
     "metadata": {
      "needs_background": "light"
     },
     "output_type": "display_data"
    }
   ],
   "source": [
    "fig, ax = plt.subplots(1,2, figsize = (14,4))\n",
    "ax[0].hist(preds_train[y_train==0], bins = 100, alpha = 0.7)\n",
    "ax[0].hist(preds_train[y_train==1], bins = 100, alpha = 0.7)\n",
    "ax[0].set_title(\"Distribution of Probablities by Class\")\n",
    "ax[0].legend([\"0\",\"1\"])\n",
    "\n",
    "preds_labels = pd.DataFrame({\"LR_preds\":preds_train, \"y\":y_train})\n",
    "sns.boxplot(x=\"y\", y=\"LR_preds\", data = preds_labels, ax = ax[1])\n",
    "ax[1].set_ylabel(\"Predicted Probablities\")\n",
    "ax[1].set_xlabel(\"Duplicate\")\n",
    "ax[1].set_title(\"Probablities by Class\");"
   ]
  },
  {
   "cell_type": "code",
   "execution_count": 357,
   "metadata": {},
   "outputs": [],
   "source": [
    "preds_test = xgb.predict_proba(Features_test_n2)[:,1]\n",
    "log_loss_score = log_loss(y_test, preds_test)\n",
    "accuracy = xgb.score(Features_test_n2, y_test)"
   ]
  },
  {
   "cell_type": "code",
   "execution_count": 358,
   "metadata": {},
   "outputs": [
    {
     "data": {
      "image/png": "[encoded data removed]",
      "text/plain": [
       "<Figure size 1008x288 with 2 Axes>"
      ]
     },
     "metadata": {
      "needs_background": "light"
     },
     "output_type": "display_data"
    }
   ],
   "source": [
    "fig, ax = plt.subplots(1,2, figsize = (14,4))\n",
    "ax[0].hist(preds_test[y_test==0], bins = 100, alpha = 0.7)\n",
    "ax[0].hist(preds_test[y_test==1], bins = 100, alpha = 0.7)\n",
    "ax[0].set_title(\"Distribution of Probablities by Class (Test Set)\")\n",
    "ax[0].legend([\"0\",\"1\"])\n",
    "\n",
    "preds_labels = pd.DataFrame({\"LR_preds\":preds_test, \"y\":y_test})\n",
    "sns.boxplot(x=\"y\", y=\"LR_preds\", data = preds_labels, ax = ax[1])\n",
    "ax[1].set_ylabel(\"Predicted Probablities\")\n",
    "ax[1].set_xlabel(\"Duplicate\")\n",
    "ax[1].set_title(\"Probablities by Class (Test Set)\");"
   ]
  },
  {
   "cell_type": "code",
   "execution_count": 359,
   "metadata": {},
   "outputs": [],
   "source": [
    "Summary_CS  = Summary_CS.append({\"Model\":\"Diff_len & Tf-idf with XGBoost\", \"Log Loss\":np.round(log_loss_score,2), \"Accuracy\":np.round(accuracy,2)}, ignore_index = True)"
   ]
  },
  {
   "cell_type": "code",
   "execution_count": 360,
   "metadata": {},
   "outputs": [
    {
     "data": {
      "text/html": [
       "<div>\n",
       "<style scoped>\n",
       "    .dataframe tbody tr th:only-of-type {\n",
       "        vertical-align: middle;\n",
       "    }\n",
       "\n",
       "    .dataframe tbody tr th {\n",
       "        vertical-align: top;\n",
       "    }\n",
       "\n",
       "    .dataframe thead th {\n",
       "        text-align: right;\n",
       "    }\n",
       "</style>\n",
       "<table border=\"1\" class=\"dataframe\">\n",
       "  <thead>\n",
       "    <tr style=\"text-align: right;\">\n",
       "      <th></th>\n",
       "      <th>Model</th>\n",
       "      <th>Log Loss</th>\n",
       "      <th>Accuracy</th>\n",
       "    </tr>\n",
       "  </thead>\n",
       "  <tbody>\n",
       "    <tr>\n",
       "      <th>0</th>\n",
       "      <td>Diff_len &amp; Char_counts with Logistic Regression</td>\n",
       "      <td>0.58</td>\n",
       "      <td>0.65</td>\n",
       "    </tr>\n",
       "    <tr>\n",
       "      <th>1</th>\n",
       "      <td>Diff_len &amp; Char_counts with Random Forest</td>\n",
       "      <td>0.55</td>\n",
       "      <td>0.68</td>\n",
       "    </tr>\n",
       "    <tr>\n",
       "      <th>2</th>\n",
       "      <td>Diff_len &amp; Char_counts with XGBoost</td>\n",
       "      <td>0.55</td>\n",
       "      <td>0.68</td>\n",
       "    </tr>\n",
       "    <tr>\n",
       "      <th>3</th>\n",
       "      <td>Diff_len &amp; Tf-idf with Logistic Regression</td>\n",
       "      <td>0.58</td>\n",
       "      <td>0.65</td>\n",
       "    </tr>\n",
       "    <tr>\n",
       "      <th>4</th>\n",
       "      <td>Diff_len &amp; Tf-idf with Random Forest</td>\n",
       "      <td>0.56</td>\n",
       "      <td>0.67</td>\n",
       "    </tr>\n",
       "    <tr>\n",
       "      <th>5</th>\n",
       "      <td>Diff_len &amp; Tf-idf with XGBoost</td>\n",
       "      <td>0.55</td>\n",
       "      <td>0.67</td>\n",
       "    </tr>\n",
       "  </tbody>\n",
       "</table>\n",
       "</div>"
      ],
      "text/plain": [
       "                                             Model  Log Loss  Accuracy\n",
       "0  Diff_len & Char_counts with Logistic Regression      0.58      0.65\n",
       "1        Diff_len & Char_counts with Random Forest      0.55      0.68\n",
       "2              Diff_len & Char_counts with XGBoost      0.55      0.68\n",
       "3       Diff_len & Tf-idf with Logistic Regression      0.58      0.65\n",
       "4             Diff_len & Tf-idf with Random Forest      0.56      0.67\n",
       "5                   Diff_len & Tf-idf with XGBoost      0.55      0.67"
      ]
     },
     "execution_count": 360,
     "metadata": {},
     "output_type": "execute_result"
    }
   ],
   "source": [
    "Summary_CS"
   ]
  },
  {
   "cell_type": "markdown",
   "metadata": {},
   "source": [
    "# Predictive Modeling - Advanced Methods"
   ]
  },
  {
   "cell_type": "markdown",
   "metadata": {},
   "source": [
    "##  Sentence Embedding with Neural Networks  Approach\n",
    "- Use pre trained Glove word embeddings\n",
    "- Calculate average word embeddings for sentences from words\n",
    "- Build a Neural Network Architecture"
   ]
  },
  {
   "cell_type": "markdown",
   "metadata": {},
   "source": [
    "### Import Glove word embeddings "
   ]
  },
  {
   "cell_type": "code",
   "execution_count": 32,
   "metadata": {
    "ExecuteTime": {
     "end_time": "2020-07-19T06:20:40.625788Z",
     "start_time": "2020-07-19T06:20:40.619804Z"
    }
   },
   "outputs": [],
   "source": [
    "def read_glove_vecs(glove_file):\n",
    "    with open(glove_file, encoding='utf8') as f:\n",
    "        words = set()\n",
    "        word_to_vec_map = {}\n",
    "        for line in f:\n",
    "            line = line.strip().split()\n",
    "            curr_word = line[0]\n",
    "            words.add(curr_word)\n",
    "            word_to_vec_map[curr_word] = np.array(line[1:], dtype=np.float64)\n",
    "        i = 1\n",
    "        words_to_index = {}\n",
    "        index_to_words = {}\n",
    "        for w in sorted(words):\n",
    "            words_to_index[w] = i\n",
    "            index_to_words[i] = w\n",
    "            i = i + 1\n",
    "    return words_to_index, index_to_words, word_to_vec_map"
   ]
  },
  {
   "cell_type": "code",
   "execution_count": null,
   "metadata": {},
   "outputs": [],
   "source": [
    "word_to_index, index_to_word, word_to_vec_map = read_glove_vecs('glove.6B.50d.txt')"
   ]
  },
  {
   "cell_type": "code",
   "execution_count": 255,
   "metadata": {
    "ExecuteTime": {
     "end_time": "2020-07-20T04:10:11.476079Z",
     "start_time": "2020-07-20T04:07:05.039483Z"
    }
   },
   "outputs": [],
   "source": [
    "embeddings_index = {}\n",
    "f = open(r'glove.840B.300d.txt', encoding='utf8')\n",
    "for line in f:\n",
    "    values = line.split()\n",
    "    word = ''.join(values[:-300])\n",
    "    coefs = np.asarray(values[-300:], dtype='float32')\n",
    "    embeddings_index[word] = coefs\n",
    "f.close()"
   ]
  },
  {
   "cell_type": "code",
   "execution_count": 257,
   "metadata": {
    "ExecuteTime": {
     "end_time": "2020-07-20T04:13:26.591426Z",
     "start_time": "2020-07-20T04:13:26.588391Z"
    }
   },
   "outputs": [],
   "source": [
    "word_to_vec_map = embeddings_index"
   ]
  },
  {
   "cell_type": "code",
   "execution_count": 293,
   "metadata": {
    "ExecuteTime": {
     "end_time": "2020-07-20T05:31:00.530274Z",
     "start_time": "2020-07-20T05:31:00.525283Z"
    }
   },
   "outputs": [],
   "source": [
    "#c\n",
    "def get_glove_vec(word):\n",
    "    try:\n",
    "        return word_to_vec_map[word]\n",
    "    except:\n",
    "        return np.zeros((300,))"
   ]
  },
  {
   "cell_type": "markdown",
   "metadata": {},
   "source": [
    "### Calculate average word embeddings for sentences from words"
   ]
  },
  {
   "cell_type": "code",
   "execution_count": 35,
   "metadata": {
    "ExecuteTime": {
     "end_time": "2020-07-19T06:20:49.376601Z",
     "start_time": "2020-07-19T06:20:49.365576Z"
    }
   },
   "outputs": [],
   "source": [
    "def sentence_to_avg(sentence, word_to_vec_map = word_to_vec_map):\n",
    "    words = sentence.split()\n",
    "    avg = np.zeros(50)\n",
    "    total = 0\n",
    "    for w in words:\n",
    "        total += get_glove_vec(w)\n",
    "    if len(words) != 0:\n",
    "        avg = total/(len(words))\n",
    "    return list(avg)"
   ]
  },
  {
   "cell_type": "markdown",
   "metadata": {},
   "source": [
    "### Build the Neural Network Architecture"
   ]
  },
  {
   "cell_type": "code",
   "execution_count": 77,
   "metadata": {
    "ExecuteTime": {
     "end_time": "2020-07-19T14:54:33.577903Z",
     "start_time": "2020-07-19T14:54:33.566482Z"
    }
   },
   "outputs": [],
   "source": [
    "# Stopping the model after 5 values\n",
    "early_stopping = EarlyStopping(monitor=\"val_loss\", patience = 5)"
   ]
  },
  {
   "cell_type": "code",
   "execution_count": 366,
   "metadata": {},
   "outputs": [],
   "source": [
    "#Creating sentence embeddings\n",
    "X_train_emb_q1 = list(X_train[\"q1\"].apply(sentence_to_avg))\n",
    "X_train_emb_q2 = list(X_train[\"q2\"].apply(sentence_to_avg))\n",
    "X_test_emb_q1 = list(X_test[\"q1\"].apply(sentence_to_avg))\n",
    "X_test_emb_q2 = list(X_test[\"q2\"].apply(sentence_to_avg));"
   ]
  },
  {
   "cell_type": "code",
   "execution_count": 367,
   "metadata": {},
   "outputs": [],
   "source": [
    "def build_sentence_avg_model():\n",
    "    #Inputs\n",
    "    input_q1 = Input(shape = (50,), name = \"Input_q1\")\n",
    "    input_q2 = Input(shape = (50,), name = \"Input_q2\")\n",
    "    #Merge inputs\n",
    "    merge_q = concatenate([input_q1, input_q2], name = \"Inputs_merged\")\n",
    "    merge_q = Dense(128, activation='relu', name = \"Dense1\")(merge_q)\n",
    "    merge_q = BatchNormalization(name = \"BatchNorm1\")(merge_q)\n",
    "    merge_q = Dropout(0.2, name = \"DropOut1\")(merge_q)\n",
    "    merge_q = Dense(64, activation='relu', name = \"Dense2\")(merge_q)\n",
    "    merge_q = BatchNormalization(name = \"BatchNorm2\")(merge_q)\n",
    "    merge_q = Dropout(0.2, name = \"DropOut2\")(merge_q)\n",
    "    #Output layer\n",
    "    output = Dense(1, activation='sigmoid', name = \"Output\")(merge_q)\n",
    "    model = Model(inputs=[input_q1,input_q2], outputs=output)\n",
    "    model.compile(loss='binary_crossentropy', optimizer='adam', metrics=['acc'])\n",
    "    return model"
   ]
  },
  {
   "cell_type": "code",
   "execution_count": 368,
   "metadata": {},
   "outputs": [],
   "source": [
    "sentence_avg_model = build_sentence_avg_model()"
   ]
  },
  {
   "cell_type": "code",
   "execution_count": 369,
   "metadata": {
    "scrolled": true
   },
   "outputs": [
    {
     "name": "stdout",
     "output_type": "stream",
     "text": [
      "Train on 384075 samples, validate on 20215 samples\n",
      "Epoch 1/50\n",
      "384075/384075 [==============================] - 15s 39us/step - loss: 0.6282 - acc: 0.6591 - val_loss: 0.5709 - val_acc: 0.7087\n",
      "Epoch 2/50\n",
      "384075/384075 [==============================] - 14s 38us/step - loss: 0.5616 - acc: 0.7050 - val_loss: 0.5347 - val_acc: 0.7240\n",
      "Epoch 3/50\n",
      "384075/384075 [==============================] - 15s 38us/step - loss: 0.5410 - acc: 0.7188 - val_loss: 0.5218 - val_acc: 0.7300\n",
      "Epoch 4/50\n",
      "384075/384075 [==============================] - 14s 38us/step - loss: 0.5295 - acc: 0.7270 - val_loss: 0.5121 - val_acc: 0.7376\n",
      "Epoch 5/50\n",
      "384075/384075 [==============================] - 15s 38us/step - loss: 0.5226 - acc: 0.7309 - val_loss: 0.5085 - val_acc: 0.7408\n",
      "Epoch 6/50\n",
      "384075/384075 [==============================] - 14s 38us/step - loss: 0.5161 - acc: 0.7349 - val_loss: 0.5039 - val_acc: 0.7433\n",
      "Epoch 7/50\n",
      "384075/384075 [==============================] - 14s 38us/step - loss: 0.5111 - acc: 0.7386 - val_loss: 0.5011 - val_acc: 0.7482\n",
      "Epoch 8/50\n",
      "384075/384075 [==============================] - 14s 38us/step - loss: 0.5070 - acc: 0.7418 - val_loss: 0.4966 - val_acc: 0.7458\n",
      "Epoch 9/50\n",
      "384075/384075 [==============================] - 14s 38us/step - loss: 0.5024 - acc: 0.7448 - val_loss: 0.4941 - val_acc: 0.7536\n",
      "Epoch 10/50\n",
      "384075/384075 [==============================] - 14s 38us/step - loss: 0.4992 - acc: 0.7469 - val_loss: 0.4909 - val_acc: 0.7519\n",
      "Epoch 11/50\n",
      "384075/384075 [==============================] - 15s 39us/step - loss: 0.4972 - acc: 0.7484 - val_loss: 0.4912 - val_acc: 0.7529\n",
      "Epoch 12/50\n",
      "384075/384075 [==============================] - 15s 38us/step - loss: 0.4954 - acc: 0.7499 - val_loss: 0.4874 - val_acc: 0.7563\n",
      "Epoch 13/50\n",
      "384075/384075 [==============================] - 17s 46us/step - loss: 0.4926 - acc: 0.7517 - val_loss: 0.4874 - val_acc: 0.7550\n",
      "Epoch 14/50\n",
      "384075/384075 [==============================] - 15s 38us/step - loss: 0.4914 - acc: 0.7524 - val_loss: 0.4846 - val_acc: 0.7579\n",
      "Epoch 15/50\n",
      "384075/384075 [==============================] - 14s 38us/step - loss: 0.4883 - acc: 0.7540 - val_loss: 0.4828 - val_acc: 0.7597\n",
      "Epoch 16/50\n",
      "384075/384075 [==============================] - 14s 38us/step - loss: 0.4876 - acc: 0.7554 - val_loss: 0.4820 - val_acc: 0.7580\n",
      "Epoch 17/50\n",
      "384075/384075 [==============================] - 14s 38us/step - loss: 0.4865 - acc: 0.7562 - val_loss: 0.4799 - val_acc: 0.7603\n",
      "Epoch 18/50\n",
      "384075/384075 [==============================] - 15s 38us/step - loss: 0.4847 - acc: 0.7579 - val_loss: 0.4786 - val_acc: 0.7621\n",
      "Epoch 19/50\n",
      "384075/384075 [==============================] - 15s 38us/step - loss: 0.4842 - acc: 0.7575 - val_loss: 0.4785 - val_acc: 0.7629\n",
      "Epoch 20/50\n",
      "384075/384075 [==============================] - 14s 38us/step - loss: 0.4829 - acc: 0.7582 - val_loss: 0.4794 - val_acc: 0.7615\n",
      "Epoch 21/50\n",
      "384075/384075 [==============================] - 14s 38us/step - loss: 0.4811 - acc: 0.7597 - val_loss: 0.4768 - val_acc: 0.7634\n",
      "Epoch 22/50\n",
      "384075/384075 [==============================] - 14s 37us/step - loss: 0.4803 - acc: 0.7593 - val_loss: 0.4759 - val_acc: 0.7644\n",
      "Epoch 23/50\n",
      "384075/384075 [==============================] - 14s 38us/step - loss: 0.4797 - acc: 0.7609 - val_loss: 0.4767 - val_acc: 0.7635\n",
      "Epoch 24/50\n",
      "384075/384075 [==============================] - 14s 37us/step - loss: 0.4788 - acc: 0.7607 - val_loss: 0.4756 - val_acc: 0.7644\n",
      "Epoch 25/50\n",
      "384075/384075 [==============================] - 14s 38us/step - loss: 0.4781 - acc: 0.7616 - val_loss: 0.4748 - val_acc: 0.7663\n",
      "Epoch 26/50\n",
      "384075/384075 [==============================] - 14s 38us/step - loss: 0.4773 - acc: 0.7622 - val_loss: 0.4734 - val_acc: 0.7665\n",
      "Epoch 27/50\n",
      "384075/384075 [==============================] - 14s 38us/step - loss: 0.4765 - acc: 0.7625 - val_loss: 0.4742 - val_acc: 0.7654\n",
      "Epoch 28/50\n",
      "384075/384075 [==============================] - 15s 38us/step - loss: 0.4757 - acc: 0.7631 - val_loss: 0.4739 - val_acc: 0.7656\n"
     ]
    },
    {
     "data": {
      "text/plain": [
       "<keras.callbacks.callbacks.History at 0x24415d406c8>"
      ]
     },
     "execution_count": 369,
     "metadata": {},
     "output_type": "execute_result"
    }
   ],
   "source": [
    "sentence_avg_model.fit([X_train_emb_q1,X_train_emb_q2], np.array(y_train),  validation_data = ([X_test_emb_q1,X_test_emb_q2], np.array(y_test)),  epochs=50, batch_size=1024, shuffle=True, callbacks = [early_stopping])"
   ]
  },
  {
   "cell_type": "code",
   "execution_count": 370,
   "metadata": {},
   "outputs": [],
   "source": [
    "preds_train = sentence_avg_model.predict([X_train_emb_q1,X_train_emb_q2])[:,0];"
   ]
  },
  {
   "cell_type": "code",
   "execution_count": 371,
   "metadata": {},
   "outputs": [
    {
     "data": {
      "image/png": "[encoded data removed]",
      "text/plain": [
       "<Figure size 1008x288 with 2 Axes>"
      ]
     },
     "metadata": {
      "needs_background": "light"
     },
     "output_type": "display_data"
    }
   ],
   "source": [
    "fig, ax = plt.subplots(1,2, figsize = (14,4))\n",
    "ax[0].hist(preds_train[y_train==0], bins = 100, alpha = 0.7)\n",
    "ax[0].hist(preds_train[y_train==1], bins = 100, alpha = 0.7)\n",
    "ax[0].set_title(\"Distribution of Probablities by Class\")\n",
    "ax[0].legend([\"0\",\"1\"])\n",
    "\n",
    "preds_labels = pd.DataFrame({\"LR_preds\":preds_train, \"y\":y_train})\n",
    "sns.boxplot(x=\"y\", y=\"LR_preds\", data = preds_labels, ax = ax[1])\n",
    "ax[1].set_ylabel(\"Predicted Probablities\")\n",
    "ax[1].set_xlabel(\"Duplicate\")\n",
    "ax[1].set_title(\"Probablities by Class\");"
   ]
  },
  {
   "cell_type": "code",
   "execution_count": 372,
   "metadata": {},
   "outputs": [],
   "source": [
    "preds_test = sentence_avg_model.predict([X_test_emb_q1,X_test_emb_q2])[:,0]\n",
    "accuracy = accuracy_score(y_test, [1 if p > 0.5 else 0 for p in preds_test]);"
   ]
  },
  {
   "cell_type": "code",
   "execution_count": 373,
   "metadata": {},
   "outputs": [],
   "source": [
    "log_loss_score = log_loss(y_test, preds_test)"
   ]
  },
  {
   "cell_type": "code",
   "execution_count": 374,
   "metadata": {},
   "outputs": [
    {
     "data": {
      "image/png": "[encoded data removed]",
      "text/plain": [
       "<Figure size 1008x288 with 2 Axes>"
      ]
     },
     "metadata": {
      "needs_background": "light"
     },
     "output_type": "display_data"
    }
   ],
   "source": [
    "fig, ax = plt.subplots(1,2, figsize = (14,4))\n",
    "ax[0].hist(preds_test[y_test==0], bins = 100, alpha = 0.7)\n",
    "ax[0].hist(preds_test[y_test==1], bins = 100, alpha = 0.7)\n",
    "ax[0].set_title(\"Distribution of Probablities by Class (Test Set)\")\n",
    "ax[0].legend([\"0\",\"1\"])\n",
    "\n",
    "preds_labels = pd.DataFrame({\"LR_preds\":preds_test, \"y\":y_test})\n",
    "sns.boxplot(x=\"y\", y=\"LR_preds\", data = preds_labels, ax = ax[1])\n",
    "ax[1].set_ylabel(\"Predicted Probablities\")\n",
    "ax[1].set_xlabel(\"Duplicate\")\n",
    "ax[1].set_title(\"Probablities by Class (Test Set)\");"
   ]
  },
  {
   "cell_type": "code",
   "execution_count": 375,
   "metadata": {},
   "outputs": [],
   "source": [
    "Summary_CS  = Summary_CS.append({\"Model\":\"Avg. Word Embeddings & Neural Network\", \"Log Loss\":np.round(log_loss_score,2), \"Accuracy\":np.round(accuracy,2)}, ignore_index = True)"
   ]
  },
  {
   "cell_type": "code",
   "execution_count": 376,
   "metadata": {},
   "outputs": [
    {
     "data": {
      "text/html": [
       "<div>\n",
       "<style scoped>\n",
       "    .dataframe tbody tr th:only-of-type {\n",
       "        vertical-align: middle;\n",
       "    }\n",
       "\n",
       "    .dataframe tbody tr th {\n",
       "        vertical-align: top;\n",
       "    }\n",
       "\n",
       "    .dataframe thead th {\n",
       "        text-align: right;\n",
       "    }\n",
       "</style>\n",
       "<table border=\"1\" class=\"dataframe\">\n",
       "  <thead>\n",
       "    <tr style=\"text-align: right;\">\n",
       "      <th></th>\n",
       "      <th>Model</th>\n",
       "      <th>Log Loss</th>\n",
       "      <th>Accuracy</th>\n",
       "    </tr>\n",
       "  </thead>\n",
       "  <tbody>\n",
       "    <tr>\n",
       "      <th>0</th>\n",
       "      <td>Diff_len &amp; Char_counts with Logistic Regression</td>\n",
       "      <td>0.58</td>\n",
       "      <td>0.65</td>\n",
       "    </tr>\n",
       "    <tr>\n",
       "      <th>1</th>\n",
       "      <td>Diff_len &amp; Char_counts with Random Forest</td>\n",
       "      <td>0.55</td>\n",
       "      <td>0.68</td>\n",
       "    </tr>\n",
       "    <tr>\n",
       "      <th>2</th>\n",
       "      <td>Diff_len &amp; Char_counts with XGBoost</td>\n",
       "      <td>0.55</td>\n",
       "      <td>0.68</td>\n",
       "    </tr>\n",
       "    <tr>\n",
       "      <th>3</th>\n",
       "      <td>Diff_len &amp; Tf-idf with Logistic Regression</td>\n",
       "      <td>0.58</td>\n",
       "      <td>0.65</td>\n",
       "    </tr>\n",
       "    <tr>\n",
       "      <th>4</th>\n",
       "      <td>Diff_len &amp; Tf-idf with Random Forest</td>\n",
       "      <td>0.56</td>\n",
       "      <td>0.67</td>\n",
       "    </tr>\n",
       "    <tr>\n",
       "      <th>5</th>\n",
       "      <td>Diff_len &amp; Tf-idf with XGBoost</td>\n",
       "      <td>0.55</td>\n",
       "      <td>0.67</td>\n",
       "    </tr>\n",
       "    <tr>\n",
       "      <th>6</th>\n",
       "      <td>Avg. Word Embeddings &amp; Neural Network</td>\n",
       "      <td>0.47</td>\n",
       "      <td>0.77</td>\n",
       "    </tr>\n",
       "  </tbody>\n",
       "</table>\n",
       "</div>"
      ],
      "text/plain": [
       "                                             Model  Log Loss  Accuracy\n",
       "0  Diff_len & Char_counts with Logistic Regression      0.58      0.65\n",
       "1        Diff_len & Char_counts with Random Forest      0.55      0.68\n",
       "2              Diff_len & Char_counts with XGBoost      0.55      0.68\n",
       "3       Diff_len & Tf-idf with Logistic Regression      0.58      0.65\n",
       "4             Diff_len & Tf-idf with Random Forest      0.56      0.67\n",
       "5                   Diff_len & Tf-idf with XGBoost      0.55      0.67\n",
       "6            Avg. Word Embeddings & Neural Network      0.47      0.77"
      ]
     },
     "execution_count": 376,
     "metadata": {},
     "output_type": "execute_result"
    }
   ],
   "source": [
    "Summary_CS"
   ]
  },
  {
   "cell_type": "markdown",
   "metadata": {},
   "source": [
    "Observation:\n",
    "- There is a huge improvement in the test log loss with the latest approach"
   ]
  },
  {
   "cell_type": "markdown",
   "metadata": {},
   "source": [
    "##  Word Embeddings and LSTM Network\n",
    "- Lemmatize both Questions\n",
    "- Use pre trained Glove word embeddings in the Embedding Layer\n",
    "- Build a Neural Network Architecture with the LSTM layer"
   ]
  },
  {
   "cell_type": "markdown",
   "metadata": {},
   "source": [
    "### Import Glove word embeddings \n",
    "We use the Glove word embeddings imported earlier"
   ]
  },
  {
   "cell_type": "code",
   "execution_count": 139,
   "metadata": {
    "ExecuteTime": {
     "end_time": "2020-07-19T16:12:01.132342Z",
     "start_time": "2020-07-19T16:12:01.129661Z"
    }
   },
   "outputs": [],
   "source": [
    "VOCAB_DIM = 50000\n",
    "SENTENCE_LEN = 60"
   ]
  },
  {
   "cell_type": "code",
   "execution_count": 260,
   "metadata": {
    "ExecuteTime": {
     "end_time": "2020-07-20T04:14:24.782980Z",
     "start_time": "2020-07-20T04:14:24.771027Z"
    }
   },
   "outputs": [],
   "source": [
    "def filter_glove(vocab_dict, dim = 300, num_words = VOCAB_DIM):\n",
    "    embedding_matrix = np.zeros((num_words+1, dim))\n",
    "    for word, i in vocab_dict.items():\n",
    "        embedding_vector = get_glove_vec(word)\n",
    "        if i == VOCAB_DIM:\n",
    "            break;\n",
    "        embedding_matrix[i] = embedding_vector\n",
    "    return embedding_matrix"
   ]
  },
  {
   "cell_type": "code",
   "execution_count": 141,
   "metadata": {
    "ExecuteTime": {
     "end_time": "2020-07-19T16:12:13.888178Z",
     "start_time": "2020-07-19T16:12:05.299524Z"
    }
   },
   "outputs": [
    {
     "name": "stdout",
     "output_type": "stream",
     "text": [
      "Vocabulary size: 72336\n"
     ]
    }
   ],
   "source": [
    "tokenizer = Tokenizer(num_words = VOCAB_DIM)\n",
    "tokenizer.fit_on_texts((Questions_train))\n",
    "word_index = tokenizer.word_index\n",
    "print('Vocabulary size:', len(word_index))"
   ]
  },
  {
   "cell_type": "code",
   "execution_count": 261,
   "metadata": {
    "ExecuteTime": {
     "end_time": "2020-07-20T04:14:53.843225Z",
     "start_time": "2020-07-20T04:14:53.658704Z"
    }
   },
   "outputs": [],
   "source": [
    "glove_matrix = filter_glove(tokenizer.word_index)"
   ]
  },
  {
   "cell_type": "markdown",
   "metadata": {},
   "source": [
    "## Creating embedding sequence "
   ]
  },
  {
   "cell_type": "code",
   "execution_count": 143,
   "metadata": {
    "ExecuteTime": {
     "end_time": "2020-07-19T16:12:23.288581Z",
     "start_time": "2020-07-19T16:12:15.640837Z"
    }
   },
   "outputs": [],
   "source": [
    "sequences_q1 = tokenizer.texts_to_sequences(X_train[\"q1\"])\n",
    "sequences_q2 = tokenizer.texts_to_sequences(X_train[\"q2\"])"
   ]
  },
  {
   "cell_type": "code",
   "execution_count": 144,
   "metadata": {
    "ExecuteTime": {
     "end_time": "2020-07-19T16:12:24.105277Z",
     "start_time": "2020-07-19T16:12:23.289518Z"
    }
   },
   "outputs": [],
   "source": [
    "sequences_test_q1 = tokenizer.texts_to_sequences(X_test[\"q1\"])\n",
    "sequences_test_q2 = tokenizer.texts_to_sequences(X_test[\"q2\"])"
   ]
  },
  {
   "cell_type": "code",
   "execution_count": 145,
   "metadata": {
    "ExecuteTime": {
     "end_time": "2020-07-19T16:12:26.425582Z",
     "start_time": "2020-07-19T16:12:24.107272Z"
    }
   },
   "outputs": [],
   "source": [
    "pad_q1 = pad_sequences(sequences_q1, maxlen = SENTENCE_LEN, padding = \"post\", value = 0)\n",
    "pad_q2 = pad_sequences(sequences_q2, maxlen = SENTENCE_LEN, padding = \"post\", value = 0)"
   ]
  },
  {
   "cell_type": "code",
   "execution_count": 146,
   "metadata": {
    "ExecuteTime": {
     "end_time": "2020-07-19T16:12:26.630097Z",
     "start_time": "2020-07-19T16:12:26.427640Z"
    }
   },
   "outputs": [],
   "source": [
    "pad_test_q1 = pad_sequences(sequences_test_q1, maxlen = SENTENCE_LEN, padding = \"post\", value = 0)\n",
    "pad_test_q2 = pad_sequences(sequences_test_q2, maxlen = SENTENCE_LEN, padding = \"post\", value = 0)"
   ]
  },
  {
   "cell_type": "markdown",
   "metadata": {},
   "source": [
    "### Build the Neural Network Architecture"
   ]
  },
  {
   "cell_type": "code",
   "execution_count": 385,
   "metadata": {},
   "outputs": [],
   "source": [
    "def lstm_model(glove_matrix):\n",
    "    input_q1 = Input(shape = (SENTENCE_LEN,))\n",
    "    embedding_q1 = Embedding(input_dim = VOCAB_DIM + 1, output_dim = 50, \n",
    "                         embeddings_initializer=Constant(glove_matrix), \n",
    "                         input_length=SENTENCE_LEN, trainable=False, name = \"embedding_q1\")(input_q1)\n",
    "    input_q2 = Input(shape = (SENTENCE_LEN,))\n",
    "    embedding_q2 = Embedding(input_dim = VOCAB_DIM + 1, output_dim = 50, \n",
    "                         embeddings_initializer=Constant(glove_matrix), \n",
    "                         input_length=SENTENCE_LEN, trainable=False, name = \"embedding_q2\")(input_q2)\n",
    "    \n",
    "    lstm_layers = Sequential(name = \"Siamese_LSTM\")\n",
    "    lstm_layers.add(LSTM(64, dropout = 0.4, return_sequences = True, name = \"LSTM_layer1\" ))\n",
    "    lstm_layers.add(LSTM(64, dropout = 0.4, name = \"LSTM_layer2\"))\n",
    "    lstm_layers.add(Dense(64, name =\"Dense_layer\", activation='relu'))\n",
    "    \n",
    "    lstm_q1 = lstm_layers(embedding_q1)\n",
    "    lstm_q2 = lstm_layers(embedding_q2)\n",
    "    \n",
    "    magic_input = Input(shape = (2,))\n",
    "    magic_dense = Dense(64, activation = \"relu\")(magic_input)\n",
    "    \n",
    "    merge_all = concatenate([lstm_q1, lstm_q2, magic_dense], name = \"Merge\")\n",
    "    merge_all = Dense(64, activation='relu', name = \"Dense1\")(merge_all)\n",
    "    merge_all = BatchNormalization(name = \"BatchNorm1\")(merge_all)\n",
    "    merge_all = Dropout(0.2, name = \"DropOut1\")(merge_all)\n",
    "    output = Dense(1, activation='sigmoid', name = \"Output\")(merge_all)\n",
    "    model = Model(inputs=[input_q1,input_q2,magic_input], outputs=output)\n",
    "    model.compile(loss='binary_crossentropy', optimizer='adam', metrics=['acc'])\n",
    "    return model"
   ]
  },
  {
   "cell_type": "code",
   "execution_count": 386,
   "metadata": {},
   "outputs": [],
   "source": [
    "lstm_model = lstm_model(glove_matrix)"
   ]
  },
  {
   "cell_type": "code",
   "execution_count": 389,
   "metadata": {},
   "outputs": [
    {
     "name": "stdout",
     "output_type": "stream",
     "text": [
      "Train on 384075 samples, validate on 20215 samples\n",
      "Epoch 1/5\n",
      "384075/384075 [==============================] - 2176s 6ms/step - loss: 0.4748 - acc: 0.7492 - val_loss: 0.4714 - val_acc: 0.7513\n",
      "Epoch 2/5\n",
      "384075/384075 [==============================] - 2119s 6ms/step - loss: 0.4718 - acc: 0.7520 - val_loss: 0.5208 - val_acc: 0.7146\n",
      "Epoch 3/5\n",
      "384075/384075 [==============================] - 2077s 5ms/step - loss: 0.4697 - acc: 0.7538 - val_loss: 0.4619 - val_acc: 0.7644\n",
      "Epoch 4/5\n",
      "384075/384075 [==============================] - 2074s 5ms/step - loss: 0.4670 - acc: 0.7555 - val_loss: 0.4919 - val_acc: 0.7350\n",
      "Epoch 5/5\n",
      "384075/384075 [==============================] - 8628s 22ms/step - loss: 0.4652 - acc: 0.7568 - val_loss: 0.4530 - val_acc: 0.7659\n"
     ]
    },
    {
     "data": {
      "text/plain": [
       "<keras.callbacks.callbacks.History at 0x244118a3708>"
      ]
     },
     "execution_count": 389,
     "metadata": {},
     "output_type": "execute_result"
    }
   ],
   "source": [
    "lstm_model.fit([pad_q1,pad_q2,Features_train_n], y_train, validation_data = ([pad_test_q1,pad_test_q2, Features_test_n], np.array(y_test)) ,  epochs=5, batch_size=1024, shuffle=True, callbacks = [early_stopping])"
   ]
  },
  {
   "cell_type": "code",
   "execution_count": 391,
   "metadata": {},
   "outputs": [],
   "source": [
    "preds_train = lstm_model.predict([pad_q1,pad_q2, Features_train_n])[: ,0];"
   ]
  },
  {
   "cell_type": "code",
   "execution_count": 392,
   "metadata": {},
   "outputs": [
    {
     "data": {
      "image/png": "[encoded data removed]",
      "text/plain": [
       "<Figure size 1008x288 with 2 Axes>"
      ]
     },
     "metadata": {
      "needs_background": "light"
     },
     "output_type": "display_data"
    }
   ],
   "source": [
    "fig, ax = plt.subplots(1,2, figsize = (14,4))\n",
    "ax[0].hist(preds_train[y_train==0], bins = 100, alpha = 0.7)\n",
    "ax[0].hist(preds_train[y_train==1], bins = 100, alpha = 0.7)\n",
    "ax[0].set_title(\"Distribution of Probablities by Class\")\n",
    "ax[0].legend([\"0\",\"1\"])\n",
    "\n",
    "preds_labels = pd.DataFrame({\"LR_preds\":preds_train, \"y\":y_train})\n",
    "sns.boxplot(x=\"y\", y=\"LR_preds\", data = preds_labels, ax = ax[1])\n",
    "ax[1].set_ylabel(\"Predicted Probablities\")\n",
    "ax[1].set_xlabel(\"Duplicate\")\n",
    "ax[1].set_title(\"Probablities by Class\");"
   ]
  },
  {
   "cell_type": "code",
   "execution_count": 393,
   "metadata": {},
   "outputs": [],
   "source": [
    "preds_test = lstm_model.predict([pad_test_q1,pad_test_q2,Features_test_n])[:,0];\n",
    "accuracy = accuracy_score(y_test, [1 if p > 0.5 else 0 for p in preds_test]);\n",
    "#preds_test[preds_test < 0.00001] = 0.00001 \n",
    "#preds_test[preds_test  > 0.99999] =  0.99999"
   ]
  },
  {
   "cell_type": "code",
   "execution_count": 394,
   "metadata": {},
   "outputs": [],
   "source": [
    "log_loss_score = log_loss(y_test, preds_test)"
   ]
  },
  {
   "cell_type": "code",
   "execution_count": 395,
   "metadata": {},
   "outputs": [
    {
     "data": {
      "image/png": "[encoded data removed]",
      "text/plain": [
       "<Figure size 1008x288 with 2 Axes>"
      ]
     },
     "metadata": {
      "needs_background": "light"
     },
     "output_type": "display_data"
    }
   ],
   "source": [
    "fig, ax = plt.subplots(1,2, figsize = (14,4))\n",
    "ax[0].hist(preds_test[y_test==0], bins = 100, alpha = 0.7)\n",
    "ax[0].hist(preds_test[y_test==1], bins = 100, alpha = 0.7)\n",
    "ax[0].set_title(\"Distribution of Probablities by Class (Test Set)\")\n",
    "ax[0].legend([\"0\",\"1\"])\n",
    "\n",
    "preds_labels = pd.DataFrame({\"LR_preds\":preds_test, \"y\":y_test})\n",
    "sns.boxplot(x=\"y\", y=\"LR_preds\", data = preds_labels, ax = ax[1])\n",
    "ax[1].set_ylabel(\"Predicted Probablities\")\n",
    "ax[1].set_xlabel(\"Duplicate\")\n",
    "ax[1].set_title(\"Probablities by Class (Test Set)\");"
   ]
  },
  {
   "cell_type": "code",
   "execution_count": 396,
   "metadata": {},
   "outputs": [],
   "source": [
    "Summary_CS  = Summary_CS.append({\"Model\":\"LSTM Architecture\", \"Log Loss\":np.round(log_loss_score,2), \"Accuracy\":np.round(accuracy,2)}, ignore_index = True)"
   ]
  },
  {
   "cell_type": "code",
   "execution_count": 397,
   "metadata": {
    "scrolled": true
   },
   "outputs": [
    {
     "data": {
      "text/html": [
       "<div>\n",
       "<style scoped>\n",
       "    .dataframe tbody tr th:only-of-type {\n",
       "        vertical-align: middle;\n",
       "    }\n",
       "\n",
       "    .dataframe tbody tr th {\n",
       "        vertical-align: top;\n",
       "    }\n",
       "\n",
       "    .dataframe thead th {\n",
       "        text-align: right;\n",
       "    }\n",
       "</style>\n",
       "<table border=\"1\" class=\"dataframe\">\n",
       "  <thead>\n",
       "    <tr style=\"text-align: right;\">\n",
       "      <th></th>\n",
       "      <th>Model</th>\n",
       "      <th>Log Loss</th>\n",
       "      <th>Accuracy</th>\n",
       "    </tr>\n",
       "  </thead>\n",
       "  <tbody>\n",
       "    <tr>\n",
       "      <th>0</th>\n",
       "      <td>Diff_len &amp; Char_counts with Logistic Regression</td>\n",
       "      <td>0.58</td>\n",
       "      <td>0.65</td>\n",
       "    </tr>\n",
       "    <tr>\n",
       "      <th>1</th>\n",
       "      <td>Diff_len &amp; Char_counts with Random Forest</td>\n",
       "      <td>0.55</td>\n",
       "      <td>0.68</td>\n",
       "    </tr>\n",
       "    <tr>\n",
       "      <th>2</th>\n",
       "      <td>Diff_len &amp; Char_counts with XGBoost</td>\n",
       "      <td>0.55</td>\n",
       "      <td>0.68</td>\n",
       "    </tr>\n",
       "    <tr>\n",
       "      <th>3</th>\n",
       "      <td>Diff_len &amp; Tf-idf with Logistic Regression</td>\n",
       "      <td>0.58</td>\n",
       "      <td>0.65</td>\n",
       "    </tr>\n",
       "    <tr>\n",
       "      <th>4</th>\n",
       "      <td>Diff_len &amp; Tf-idf with Random Forest</td>\n",
       "      <td>0.56</td>\n",
       "      <td>0.67</td>\n",
       "    </tr>\n",
       "    <tr>\n",
       "      <th>5</th>\n",
       "      <td>Diff_len &amp; Tf-idf with XGBoost</td>\n",
       "      <td>0.55</td>\n",
       "      <td>0.67</td>\n",
       "    </tr>\n",
       "    <tr>\n",
       "      <th>6</th>\n",
       "      <td>Avg. Word Embeddings &amp; Neural Network</td>\n",
       "      <td>0.47</td>\n",
       "      <td>0.77</td>\n",
       "    </tr>\n",
       "    <tr>\n",
       "      <th>7</th>\n",
       "      <td>LSTM Architecture</td>\n",
       "      <td>0.45</td>\n",
       "      <td>0.77</td>\n",
       "    </tr>\n",
       "  </tbody>\n",
       "</table>\n",
       "</div>"
      ],
      "text/plain": [
       "                                             Model  Log Loss  Accuracy\n",
       "0  Diff_len & Char_counts with Logistic Regression      0.58      0.65\n",
       "1        Diff_len & Char_counts with Random Forest      0.55      0.68\n",
       "2              Diff_len & Char_counts with XGBoost      0.55      0.68\n",
       "3       Diff_len & Tf-idf with Logistic Regression      0.58      0.65\n",
       "4             Diff_len & Tf-idf with Random Forest      0.56      0.67\n",
       "5                   Diff_len & Tf-idf with XGBoost      0.55      0.67\n",
       "6            Avg. Word Embeddings & Neural Network      0.47      0.77\n",
       "7                                LSTM Architecture      0.45      0.77"
      ]
     },
     "execution_count": 397,
     "metadata": {},
     "output_type": "execute_result"
    }
   ],
   "source": [
    "Summary_CS"
   ]
  },
  {
   "cell_type": "markdown",
   "metadata": {},
   "source": [
    "##  Word Embeddings and CNN\n",
    "- Use pre trained Glove word embeddings in the Embedding Layer\n",
    "- Build a Neural Network Architecture with the Embedding, CNN and Dense Layer"
   ]
  },
  {
   "cell_type": "markdown",
   "metadata": {},
   "source": [
    "### Import Glove word embeddings \n",
    "We use the Glove word embeddings imported earlier"
   ]
  },
  {
   "cell_type": "code",
   "execution_count": 89,
   "metadata": {
    "ExecuteTime": {
     "end_time": "2020-07-19T15:01:47.410327Z",
     "start_time": "2020-07-19T15:01:47.406338Z"
    }
   },
   "outputs": [],
   "source": [
    "glove_matrix = filter_glove(tokenizer.word_index)"
   ]
  },
  {
   "cell_type": "markdown",
   "metadata": {},
   "source": [
    "### Build the Neural Network Architecture"
   ]
  },
  {
   "cell_type": "code",
   "execution_count": 392,
   "metadata": {
    "ExecuteTime": {
     "end_time": "2020-07-20T22:52:20.179528Z",
     "start_time": "2020-07-20T22:52:20.164635Z"
    }
   },
   "outputs": [],
   "source": [
    "#c\n",
    "def build_cnn_arch(glove_matrix):\n",
    "    input_q1 = Input(shape = (SENTENCE_LEN,))\n",
    "    embedding_q1 = Embedding(input_dim = VOCAB_DIM + 1, output_dim = 300, \n",
    "                         embeddings_initializer=Constant(glove_matrix), \n",
    "                         input_length=SENTENCE_LEN, trainable=False, name = \"embedding_q1\")(input_q1)\n",
    "    input_q2 = Input(shape = (SENTENCE_LEN,))\n",
    "    embedding_q2 = Embedding(input_dim = VOCAB_DIM + 1, output_dim = 300, \n",
    "                         embeddings_initializer=Constant(glove_matrix), \n",
    "                         input_length= SENTENCE_LEN, trainable=False, name = \"embedding_q2\")(input_q2)\n",
    "    \n",
    "\n",
    "    \n",
    "    cnn_layers = Sequential(name = \"Siamese_CNN_layers\")\n",
    "    cnn_layers.add(Conv1D(filters=256, kernel_size=3,input_shape = (SENTENCE_LEN,300), padding='same', activation='relu', name = \"Convolution_layer\"))\n",
    "    cnn_layers.add(GlobalAveragePooling1D(name = \"Average_Pooling_layer\"))\n",
    "\n",
    "    cnn_layers.add(Dense(128, activation='relu', name = \"Dense_layer1\"))\n",
    "    cnn_layers.add(BatchNormalization(name = \"Batch_Normalization_layer1\"))\n",
    "    cnn_layers.add(Dropout(0.2, name = \"Dropuout_layer1\"))\n",
    "#     cnn_layers.add(Dense(128, activation='relu', name = \"Dense_layer2\"))\n",
    "#     cnn_layers.add(BatchNormalization(name = \"Batch_Normalization_layer2\"))\n",
    "#     cnn_layers.add(Dropout(0.2, name = \"Dropuout_layer2\"))\n",
    "    cnn_q1k2 = cnn_layers(embedding_q1)\n",
    "    cnn_q2k2 = cnn_layers(embedding_q2)\n",
    "\n",
    "\n",
    "    magic_input = Input(shape = (2,))\n",
    "    magic_dense = Dense(128, activation = \"relu\", name = \"Dense_magic_layer\")(magic_input)\n",
    "    #magic_dense2 = Dense(128, activation = \"relu\", name = \"Dense_magic_layer2\")(magic_dense)\n",
    "    \n",
    "    merge_all = concatenate([cnn_q1k2, cnn_q2k2, magic_dense])\n",
    "#     merge_all = Dense(256, activation='relu', name = \"Common_Dense_layer1\")(merge_all)\n",
    "#     merge_all = BatchNormalization(name = \"Batch_Normalization_layer1\")(merge_all)\n",
    "#     merge_all = Dropout(0.2, name = \"Dropout_layer1\")(merge_all)\n",
    "    merge_all = Dense(128, activation='relu', name = \"Common_Dense_layer2\")(merge_all)\n",
    "    merge_all = BatchNormalization(name = \"Batch_Normalization_layer2\")(merge_all)\n",
    "    merge_all = Dropout(0.2, name = \"Dropout_layer2\")(merge_all)\n",
    "#     merge_all = Dense(128, activation='relu', name = \"Common_Dense_layer3\")(merge_all)\n",
    "#     merge_all = BatchNormalization(name = \"Batch_Normalization_layer3\")(merge_all)\n",
    "#     merge_all = Dropout(0.2, name = \"Dropout_layer3\")(merge_all)\n",
    "    output = Dense(1, activation='sigmoid', name = \"Output_layer\")(merge_all)\n",
    "    model = Model(inputs=[input_q1,input_q2,magic_input], outputs=output)\n",
    "    model.compile(loss='binary_crossentropy', optimizer=\"adam\", metrics=['acc'])\n",
    "    return model"
   ]
  },
  {
   "cell_type": "code",
   "execution_count": 393,
   "metadata": {
    "ExecuteTime": {
     "end_time": "2020-07-20T22:52:21.700231Z",
     "start_time": "2020-07-20T22:52:21.294598Z"
    }
   },
   "outputs": [],
   "source": [
    "cnn_model = build_cnn_arch(glove_matrix)"
   ]
  },
  {
   "cell_type": "code",
   "execution_count": 149,
   "metadata": {
    "ExecuteTime": {
     "end_time": "2020-07-19T16:15:31.895833Z",
     "start_time": "2020-07-19T16:12:31.668721Z"
    }
   },
   "outputs": [
    {
     "name": "stdout",
     "output_type": "stream",
     "text": [
      "Train on 384075 samples, validate on 20215 samples\n",
      "Epoch 1/30\n",
      "384075/384075 [==============================] - 80s 208us/step - loss: 0.5423 - acc: 0.7074 - val_loss: 0.4802 - val_acc: 0.7465\n",
      "Epoch 2/30\n",
      "384075/384075 [==============================] - 80s 208us/step - loss: 0.4643 - acc: 0.7602 - val_loss: 0.4540 - val_acc: 0.7666\n",
      "Epoch 3/30\n",
      " 91136/384075 [======>.......................] - ETA: 59s - loss: 0.4477 - acc: 0.7713"
     ]
    },
    {
     "ename": "KeyboardInterrupt",
     "evalue": "",
     "output_type": "error",
     "traceback": [
      "\u001b[1;31m---------------------------------------------------------------------------\u001b[0m",
      "\u001b[1;31mKeyboardInterrupt\u001b[0m                         Traceback (most recent call last)",
      "\u001b[1;32m<ipython-input-149-7f9031df1e4d>\u001b[0m in \u001b[0;36m<module>\u001b[1;34m\u001b[0m\n\u001b[1;32m----> 1\u001b[1;33m \u001b[0mcnn_model\u001b[0m\u001b[1;33m.\u001b[0m\u001b[0mfit\u001b[0m\u001b[1;33m(\u001b[0m\u001b[1;33m[\u001b[0m\u001b[0mpad_q1\u001b[0m\u001b[1;33m,\u001b[0m\u001b[0mpad_q2\u001b[0m\u001b[1;33m,\u001b[0m\u001b[0mFeatures_train_n\u001b[0m\u001b[1;33m]\u001b[0m\u001b[1;33m,\u001b[0m \u001b[0my_train\u001b[0m\u001b[1;33m,\u001b[0m \u001b[0mvalidation_data\u001b[0m \u001b[1;33m=\u001b[0m \u001b[1;33m(\u001b[0m\u001b[1;33m[\u001b[0m\u001b[0mpad_test_q1\u001b[0m\u001b[1;33m,\u001b[0m\u001b[0mpad_test_q2\u001b[0m\u001b[1;33m,\u001b[0m \u001b[0mFeatures_test_n\u001b[0m\u001b[1;33m]\u001b[0m\u001b[1;33m,\u001b[0m\u001b[0my_test\u001b[0m\u001b[1;33m)\u001b[0m \u001b[1;33m,\u001b[0m  \u001b[0mepochs\u001b[0m\u001b[1;33m=\u001b[0m\u001b[1;36m30\u001b[0m\u001b[1;33m,\u001b[0m \u001b[0mbatch_size\u001b[0m\u001b[1;33m=\u001b[0m\u001b[1;36m1024\u001b[0m\u001b[1;33m,\u001b[0m \u001b[0mshuffle\u001b[0m\u001b[1;33m=\u001b[0m\u001b[1;32mTrue\u001b[0m\u001b[1;33m,\u001b[0m \u001b[0mcallbacks\u001b[0m \u001b[1;33m=\u001b[0m \u001b[1;33m[\u001b[0m\u001b[0mearly_stopping\u001b[0m\u001b[1;33m]\u001b[0m\u001b[1;33m)\u001b[0m\u001b[1;33m\u001b[0m\u001b[1;33m\u001b[0m\u001b[0m\n\u001b[0m",
      "\u001b[1;32m~\\AppData\\Local\\Continuum\\anaconda3\\lib\\site-packages\\keras\\engine\\training.py\u001b[0m in \u001b[0;36mfit\u001b[1;34m(self, x, y, batch_size, epochs, verbose, callbacks, validation_split, validation_data, shuffle, class_weight, sample_weight, initial_epoch, steps_per_epoch, validation_steps, validation_freq, max_queue_size, workers, use_multiprocessing, **kwargs)\u001b[0m\n\u001b[0;32m   1237\u001b[0m                                         \u001b[0msteps_per_epoch\u001b[0m\u001b[1;33m=\u001b[0m\u001b[0msteps_per_epoch\u001b[0m\u001b[1;33m,\u001b[0m\u001b[1;33m\u001b[0m\u001b[1;33m\u001b[0m\u001b[0m\n\u001b[0;32m   1238\u001b[0m                                         \u001b[0mvalidation_steps\u001b[0m\u001b[1;33m=\u001b[0m\u001b[0mvalidation_steps\u001b[0m\u001b[1;33m,\u001b[0m\u001b[1;33m\u001b[0m\u001b[1;33m\u001b[0m\u001b[0m\n\u001b[1;32m-> 1239\u001b[1;33m                                         validation_freq=validation_freq)\n\u001b[0m\u001b[0;32m   1240\u001b[0m \u001b[1;33m\u001b[0m\u001b[0m\n\u001b[0;32m   1241\u001b[0m     def evaluate(self,\n",
      "\u001b[1;32m~\\AppData\\Local\\Continuum\\anaconda3\\lib\\site-packages\\keras\\engine\\training_arrays.py\u001b[0m in \u001b[0;36mfit_loop\u001b[1;34m(model, fit_function, fit_inputs, out_labels, batch_size, epochs, verbose, callbacks, val_function, val_inputs, shuffle, initial_epoch, steps_per_epoch, validation_steps, validation_freq)\u001b[0m\n\u001b[0;32m    194\u001b[0m                     \u001b[0mins_batch\u001b[0m\u001b[1;33m[\u001b[0m\u001b[0mi\u001b[0m\u001b[1;33m]\u001b[0m \u001b[1;33m=\u001b[0m \u001b[0mins_batch\u001b[0m\u001b[1;33m[\u001b[0m\u001b[0mi\u001b[0m\u001b[1;33m]\u001b[0m\u001b[1;33m.\u001b[0m\u001b[0mtoarray\u001b[0m\u001b[1;33m(\u001b[0m\u001b[1;33m)\u001b[0m\u001b[1;33m\u001b[0m\u001b[1;33m\u001b[0m\u001b[0m\n\u001b[0;32m    195\u001b[0m \u001b[1;33m\u001b[0m\u001b[0m\n\u001b[1;32m--> 196\u001b[1;33m                 \u001b[0mouts\u001b[0m \u001b[1;33m=\u001b[0m \u001b[0mfit_function\u001b[0m\u001b[1;33m(\u001b[0m\u001b[0mins_batch\u001b[0m\u001b[1;33m)\u001b[0m\u001b[1;33m\u001b[0m\u001b[1;33m\u001b[0m\u001b[0m\n\u001b[0m\u001b[0;32m    197\u001b[0m                 \u001b[0mouts\u001b[0m \u001b[1;33m=\u001b[0m \u001b[0mto_list\u001b[0m\u001b[1;33m(\u001b[0m\u001b[0mouts\u001b[0m\u001b[1;33m)\u001b[0m\u001b[1;33m\u001b[0m\u001b[1;33m\u001b[0m\u001b[0m\n\u001b[0;32m    198\u001b[0m                 \u001b[1;32mfor\u001b[0m \u001b[0ml\u001b[0m\u001b[1;33m,\u001b[0m \u001b[0mo\u001b[0m \u001b[1;32min\u001b[0m \u001b[0mzip\u001b[0m\u001b[1;33m(\u001b[0m\u001b[0mout_labels\u001b[0m\u001b[1;33m,\u001b[0m \u001b[0mouts\u001b[0m\u001b[1;33m)\u001b[0m\u001b[1;33m:\u001b[0m\u001b[1;33m\u001b[0m\u001b[1;33m\u001b[0m\u001b[0m\n",
      "\u001b[1;32m~\\AppData\\Local\\Continuum\\anaconda3\\lib\\site-packages\\tensorflow_core\\python\\keras\\backend.py\u001b[0m in \u001b[0;36m__call__\u001b[1;34m(self, inputs)\u001b[0m\n\u001b[0;32m   3725\u001b[0m         \u001b[0mvalue\u001b[0m \u001b[1;33m=\u001b[0m \u001b[0mmath_ops\u001b[0m\u001b[1;33m.\u001b[0m\u001b[0mcast\u001b[0m\u001b[1;33m(\u001b[0m\u001b[0mvalue\u001b[0m\u001b[1;33m,\u001b[0m \u001b[0mtensor\u001b[0m\u001b[1;33m.\u001b[0m\u001b[0mdtype\u001b[0m\u001b[1;33m)\u001b[0m\u001b[1;33m\u001b[0m\u001b[1;33m\u001b[0m\u001b[0m\n\u001b[0;32m   3726\u001b[0m       \u001b[0mconverted_inputs\u001b[0m\u001b[1;33m.\u001b[0m\u001b[0mappend\u001b[0m\u001b[1;33m(\u001b[0m\u001b[0mvalue\u001b[0m\u001b[1;33m)\u001b[0m\u001b[1;33m\u001b[0m\u001b[1;33m\u001b[0m\u001b[0m\n\u001b[1;32m-> 3727\u001b[1;33m     \u001b[0moutputs\u001b[0m \u001b[1;33m=\u001b[0m \u001b[0mself\u001b[0m\u001b[1;33m.\u001b[0m\u001b[0m_graph_fn\u001b[0m\u001b[1;33m(\u001b[0m\u001b[1;33m*\u001b[0m\u001b[0mconverted_inputs\u001b[0m\u001b[1;33m)\u001b[0m\u001b[1;33m\u001b[0m\u001b[1;33m\u001b[0m\u001b[0m\n\u001b[0m\u001b[0;32m   3728\u001b[0m \u001b[1;33m\u001b[0m\u001b[0m\n\u001b[0;32m   3729\u001b[0m     \u001b[1;31m# EagerTensor.numpy() will often make a copy to ensure memory safety.\u001b[0m\u001b[1;33m\u001b[0m\u001b[1;33m\u001b[0m\u001b[1;33m\u001b[0m\u001b[0m\n",
      "\u001b[1;32m~\\AppData\\Local\\Continuum\\anaconda3\\lib\\site-packages\\tensorflow_core\\python\\eager\\function.py\u001b[0m in \u001b[0;36m__call__\u001b[1;34m(self, *args, **kwargs)\u001b[0m\n\u001b[0;32m   1549\u001b[0m       \u001b[0mTypeError\u001b[0m\u001b[1;33m:\u001b[0m \u001b[0mFor\u001b[0m \u001b[0minvalid\u001b[0m \u001b[0mpositional\u001b[0m\u001b[1;33m/\u001b[0m\u001b[0mkeyword\u001b[0m \u001b[0margument\u001b[0m \u001b[0mcombinations\u001b[0m\u001b[1;33m.\u001b[0m\u001b[1;33m\u001b[0m\u001b[1;33m\u001b[0m\u001b[0m\n\u001b[0;32m   1550\u001b[0m     \"\"\"\n\u001b[1;32m-> 1551\u001b[1;33m     \u001b[1;32mreturn\u001b[0m \u001b[0mself\u001b[0m\u001b[1;33m.\u001b[0m\u001b[0m_call_impl\u001b[0m\u001b[1;33m(\u001b[0m\u001b[0margs\u001b[0m\u001b[1;33m,\u001b[0m \u001b[0mkwargs\u001b[0m\u001b[1;33m)\u001b[0m\u001b[1;33m\u001b[0m\u001b[1;33m\u001b[0m\u001b[0m\n\u001b[0m\u001b[0;32m   1552\u001b[0m \u001b[1;33m\u001b[0m\u001b[0m\n\u001b[0;32m   1553\u001b[0m   \u001b[1;32mdef\u001b[0m \u001b[0m_call_impl\u001b[0m\u001b[1;33m(\u001b[0m\u001b[0mself\u001b[0m\u001b[1;33m,\u001b[0m \u001b[0margs\u001b[0m\u001b[1;33m,\u001b[0m \u001b[0mkwargs\u001b[0m\u001b[1;33m,\u001b[0m \u001b[0mcancellation_manager\u001b[0m\u001b[1;33m=\u001b[0m\u001b[1;32mNone\u001b[0m\u001b[1;33m)\u001b[0m\u001b[1;33m:\u001b[0m\u001b[1;33m\u001b[0m\u001b[1;33m\u001b[0m\u001b[0m\n",
      "\u001b[1;32m~\\AppData\\Local\\Continuum\\anaconda3\\lib\\site-packages\\tensorflow_core\\python\\eager\\function.py\u001b[0m in \u001b[0;36m_call_impl\u001b[1;34m(self, args, kwargs, cancellation_manager)\u001b[0m\n\u001b[0;32m   1589\u001b[0m       raise TypeError(\"Keyword arguments {} unknown. Expected {}.\".format(\n\u001b[0;32m   1590\u001b[0m           list(kwargs.keys()), list(self._arg_keywords)))\n\u001b[1;32m-> 1591\u001b[1;33m     \u001b[1;32mreturn\u001b[0m \u001b[0mself\u001b[0m\u001b[1;33m.\u001b[0m\u001b[0m_call_flat\u001b[0m\u001b[1;33m(\u001b[0m\u001b[0margs\u001b[0m\u001b[1;33m,\u001b[0m \u001b[0mself\u001b[0m\u001b[1;33m.\u001b[0m\u001b[0mcaptured_inputs\u001b[0m\u001b[1;33m,\u001b[0m \u001b[0mcancellation_manager\u001b[0m\u001b[1;33m)\u001b[0m\u001b[1;33m\u001b[0m\u001b[1;33m\u001b[0m\u001b[0m\n\u001b[0m\u001b[0;32m   1592\u001b[0m \u001b[1;33m\u001b[0m\u001b[0m\n\u001b[0;32m   1593\u001b[0m   \u001b[1;32mdef\u001b[0m \u001b[0m_filtered_call\u001b[0m\u001b[1;33m(\u001b[0m\u001b[0mself\u001b[0m\u001b[1;33m,\u001b[0m \u001b[0margs\u001b[0m\u001b[1;33m,\u001b[0m \u001b[0mkwargs\u001b[0m\u001b[1;33m)\u001b[0m\u001b[1;33m:\u001b[0m\u001b[1;33m\u001b[0m\u001b[1;33m\u001b[0m\u001b[0m\n",
      "\u001b[1;32m~\\AppData\\Local\\Continuum\\anaconda3\\lib\\site-packages\\tensorflow_core\\python\\eager\\function.py\u001b[0m in \u001b[0;36m_call_flat\u001b[1;34m(self, args, captured_inputs, cancellation_manager)\u001b[0m\n\u001b[0;32m   1690\u001b[0m       \u001b[1;31m# No tape is watching; skip to running the function.\u001b[0m\u001b[1;33m\u001b[0m\u001b[1;33m\u001b[0m\u001b[1;33m\u001b[0m\u001b[0m\n\u001b[0;32m   1691\u001b[0m       return self._build_call_outputs(self._inference_function.call(\n\u001b[1;32m-> 1692\u001b[1;33m           ctx, args, cancellation_manager=cancellation_manager))\n\u001b[0m\u001b[0;32m   1693\u001b[0m     forward_backward = self._select_forward_and_backward_functions(\n\u001b[0;32m   1694\u001b[0m         \u001b[0margs\u001b[0m\u001b[1;33m,\u001b[0m\u001b[1;33m\u001b[0m\u001b[1;33m\u001b[0m\u001b[0m\n",
      "\u001b[1;32m~\\AppData\\Local\\Continuum\\anaconda3\\lib\\site-packages\\tensorflow_core\\python\\eager\\function.py\u001b[0m in \u001b[0;36mcall\u001b[1;34m(self, ctx, args, cancellation_manager)\u001b[0m\n\u001b[0;32m    543\u001b[0m               \u001b[0minputs\u001b[0m\u001b[1;33m=\u001b[0m\u001b[0margs\u001b[0m\u001b[1;33m,\u001b[0m\u001b[1;33m\u001b[0m\u001b[1;33m\u001b[0m\u001b[0m\n\u001b[0;32m    544\u001b[0m               \u001b[0mattrs\u001b[0m\u001b[1;33m=\u001b[0m\u001b[1;33m(\u001b[0m\u001b[1;34m\"executor_type\"\u001b[0m\u001b[1;33m,\u001b[0m \u001b[0mexecutor_type\u001b[0m\u001b[1;33m,\u001b[0m \u001b[1;34m\"config_proto\"\u001b[0m\u001b[1;33m,\u001b[0m \u001b[0mconfig\u001b[0m\u001b[1;33m)\u001b[0m\u001b[1;33m,\u001b[0m\u001b[1;33m\u001b[0m\u001b[1;33m\u001b[0m\u001b[0m\n\u001b[1;32m--> 545\u001b[1;33m               ctx=ctx)\n\u001b[0m\u001b[0;32m    546\u001b[0m         \u001b[1;32melse\u001b[0m\u001b[1;33m:\u001b[0m\u001b[1;33m\u001b[0m\u001b[1;33m\u001b[0m\u001b[0m\n\u001b[0;32m    547\u001b[0m           outputs = execute.execute_with_cancellation(\n",
      "\u001b[1;32m~\\AppData\\Local\\Continuum\\anaconda3\\lib\\site-packages\\tensorflow_core\\python\\eager\\execute.py\u001b[0m in \u001b[0;36mquick_execute\u001b[1;34m(op_name, num_outputs, inputs, attrs, ctx, name)\u001b[0m\n\u001b[0;32m     59\u001b[0m     tensors = pywrap_tensorflow.TFE_Py_Execute(ctx._handle, device_name,\n\u001b[0;32m     60\u001b[0m                                                \u001b[0mop_name\u001b[0m\u001b[1;33m,\u001b[0m \u001b[0minputs\u001b[0m\u001b[1;33m,\u001b[0m \u001b[0mattrs\u001b[0m\u001b[1;33m,\u001b[0m\u001b[1;33m\u001b[0m\u001b[1;33m\u001b[0m\u001b[0m\n\u001b[1;32m---> 61\u001b[1;33m                                                num_outputs)\n\u001b[0m\u001b[0;32m     62\u001b[0m   \u001b[1;32mexcept\u001b[0m \u001b[0mcore\u001b[0m\u001b[1;33m.\u001b[0m\u001b[0m_NotOkStatusException\u001b[0m \u001b[1;32mas\u001b[0m \u001b[0me\u001b[0m\u001b[1;33m:\u001b[0m\u001b[1;33m\u001b[0m\u001b[1;33m\u001b[0m\u001b[0m\n\u001b[0;32m     63\u001b[0m     \u001b[1;32mif\u001b[0m \u001b[0mname\u001b[0m \u001b[1;32mis\u001b[0m \u001b[1;32mnot\u001b[0m \u001b[1;32mNone\u001b[0m\u001b[1;33m:\u001b[0m\u001b[1;33m\u001b[0m\u001b[1;33m\u001b[0m\u001b[0m\n",
      "\u001b[1;31mKeyboardInterrupt\u001b[0m: "
     ]
    }
   ],
   "source": [
    "cnn_model.fit([pad_q1,pad_q2,Features_train_n], y_train, validation_data = ([pad_test_q1,pad_test_q2, Features_test_n],y_test) ,  epochs=30, batch_size=1024, shuffle=True, callbacks = [early_stopping])"
   ]
  },
  {
   "cell_type": "code",
   "execution_count": 405,
   "metadata": {
    "scrolled": true
   },
   "outputs": [
    {
     "name": "stdout",
     "output_type": "stream",
     "text": [
      "Model: \"model_6\"\n",
      "__________________________________________________________________________________________________\n",
      "Layer (type)                    Output Shape         Param #     Connected to                     \n",
      "==================================================================================================\n",
      "input_16 (InputLayer)           (None, 60)           0                                            \n",
      "__________________________________________________________________________________________________\n",
      "input_17 (InputLayer)           (None, 60)           0                                            \n",
      "__________________________________________________________________________________________________\n",
      "embedding_q1 (Embedding)        (None, 60, 50)       2500050     input_16[0][0]                   \n",
      "__________________________________________________________________________________________________\n",
      "embedding_q2 (Embedding)        (None, 60, 50)       2500050     input_17[0][0]                   \n",
      "__________________________________________________________________________________________________\n",
      "input_18 (InputLayer)           (None, 2)            0                                            \n",
      "__________________________________________________________________________________________________\n",
      "Siamese_CNN_layers (Sequential) (None, 128)          86784       embedding_q1[0][0]               \n",
      "                                                                 embedding_q2[0][0]               \n",
      "__________________________________________________________________________________________________\n",
      "Dense_magic_layer (Dense)       (None, 128)          384         input_18[0][0]                   \n",
      "__________________________________________________________________________________________________\n",
      "concatenate_1 (Concatenate)     (None, 384)          0           Siamese_CNN_layers[1][0]         \n",
      "                                                                 Siamese_CNN_layers[2][0]         \n",
      "                                                                 Dense_magic_layer[0][0]          \n",
      "__________________________________________________________________________________________________\n",
      "Common_Dense_layer1 (Dense)     (None, 128)          49280       concatenate_1[0][0]              \n",
      "__________________________________________________________________________________________________\n",
      "Batch_Normalization_layer1 (Bat (None, 128)          512         Common_Dense_layer1[0][0]        \n",
      "__________________________________________________________________________________________________\n",
      "Dropout_layer1 (Dropout)        (None, 128)          0           Batch_Normalization_layer1[0][0] \n",
      "__________________________________________________________________________________________________\n",
      "Common_Dense_layer2 (Dense)     (None, 64)           8256        Dropout_layer1[0][0]             \n",
      "__________________________________________________________________________________________________\n",
      "Batch_Normalization_layer2 (Bat (None, 64)           256         Common_Dense_layer2[0][0]        \n",
      "__________________________________________________________________________________________________\n",
      "Dropout_layer2 (Dropout)        (None, 64)           0           Batch_Normalization_layer2[0][0] \n",
      "__________________________________________________________________________________________________\n",
      "Output_layer (Dense)            (None, 1)            65          Dropout_layer2[0][0]             \n",
      "==================================================================================================\n",
      "Total params: 5,145,637\n",
      "Trainable params: 144,385\n",
      "Non-trainable params: 5,001,252\n",
      "__________________________________________________________________________________________________\n"
     ]
    }
   ],
   "source": [
    "cnn_model.summary()"
   ]
  },
  {
   "cell_type": "code",
   "execution_count": 406,
   "metadata": {},
   "outputs": [],
   "source": [
    "preds_train = cnn_model.predict([pad_q1,pad_q2,Features_train_n])[:,0];"
   ]
  },
  {
   "cell_type": "code",
   "execution_count": 407,
   "metadata": {},
   "outputs": [
    {
     "data": {
      "image/png": "[encoded data removed]",
      "text/plain": [
       "<Figure size 1008x288 with 2 Axes>"
      ]
     },
     "metadata": {
      "needs_background": "light"
     },
     "output_type": "display_data"
    }
   ],
   "source": [
    "fig, ax = plt.subplots(1,2, figsize = (14,4))\n",
    "ax[0].hist(preds_train[y_train==0], bins = 100, alpha = 0.7)\n",
    "ax[0].hist(preds_train[y_train==1], bins = 100, alpha = 0.7)\n",
    "ax[0].set_title(\"Distribution of Probablities by Class\")\n",
    "ax[0].legend([\"0\",\"1\"])\n",
    "\n",
    "preds_labels = pd.DataFrame({\"LR_preds\":preds_train, \"y\":y_train})\n",
    "sns.boxplot(x=\"y\", y=\"LR_preds\", data = preds_labels, ax = ax[1])\n",
    "ax[1].set_ylabel(\"Predicted Probablities\")\n",
    "ax[1].set_xlabel(\"Duplicate\")\n",
    "ax[1].set_title(\"Probablities by Class\");"
   ]
  },
  {
   "cell_type": "code",
   "execution_count": 408,
   "metadata": {},
   "outputs": [],
   "source": [
    "preds_test = cnn_model.predict([pad_test_q1,pad_test_q2,Features_test_n])[:,0]\n",
    "accuracy = accuracy_score(y_test, [1 if p > 0.5 else 0 for p in preds_test]);"
   ]
  },
  {
   "cell_type": "code",
   "execution_count": 409,
   "metadata": {},
   "outputs": [],
   "source": [
    "log_loss_score = log_loss(y_test, preds_test)"
   ]
  },
  {
   "cell_type": "code",
   "execution_count": 410,
   "metadata": {},
   "outputs": [
    {
     "data": {
      "image/png": "[encoded data removed]",
      "text/plain": [
       "<Figure size 1008x288 with 2 Axes>"
      ]
     },
     "metadata": {
      "needs_background": "light"
     },
     "output_type": "display_data"
    }
   ],
   "source": [
    "fig, ax = plt.subplots(1,2, figsize = (14,4))\n",
    "ax[0].hist(preds_test[y_test==0], bins = 100, alpha = 0.7)\n",
    "ax[0].hist(preds_test[y_test==1], bins = 100, alpha = 0.7)\n",
    "ax[0].set_title(\"Distribution of Probablities by Class (Test Set)\")\n",
    "ax[0].legend([\"0\",\"1\"])\n",
    "\n",
    "preds_labels = pd.DataFrame({\"LR_preds\":preds_test, \"y\":y_test})\n",
    "sns.boxplot(x=\"y\", y=\"LR_preds\", data = preds_labels, ax = ax[1])\n",
    "ax[1].set_ylabel(\"Predicted Probablities\")\n",
    "ax[1].set_xlabel(\"Duplicate\")\n",
    "ax[1].set_title(\"Probablities by Class (Test Set)\");"
   ]
  },
  {
   "cell_type": "code",
   "execution_count": 411,
   "metadata": {},
   "outputs": [],
   "source": [
    "Summary_CS  = Summary_CS.append({\"Model\":\"CNN Architecture\", \"Log Loss\":np.round(log_loss_score,2), \"Accuracy\":np.round(accuracy,2)}, ignore_index = True)"
   ]
  },
  {
   "cell_type": "code",
   "execution_count": 412,
   "metadata": {},
   "outputs": [
    {
     "data": {
      "text/html": [
       "<div>\n",
       "<style scoped>\n",
       "    .dataframe tbody tr th:only-of-type {\n",
       "        vertical-align: middle;\n",
       "    }\n",
       "\n",
       "    .dataframe tbody tr th {\n",
       "        vertical-align: top;\n",
       "    }\n",
       "\n",
       "    .dataframe thead th {\n",
       "        text-align: right;\n",
       "    }\n",
       "</style>\n",
       "<table border=\"1\" class=\"dataframe\">\n",
       "  <thead>\n",
       "    <tr style=\"text-align: right;\">\n",
       "      <th></th>\n",
       "      <th>Model</th>\n",
       "      <th>Log Loss</th>\n",
       "      <th>Accuracy</th>\n",
       "    </tr>\n",
       "  </thead>\n",
       "  <tbody>\n",
       "    <tr>\n",
       "      <th>0</th>\n",
       "      <td>Diff_len &amp; Char_counts with Logistic Regression</td>\n",
       "      <td>0.58</td>\n",
       "      <td>0.65</td>\n",
       "    </tr>\n",
       "    <tr>\n",
       "      <th>1</th>\n",
       "      <td>Diff_len &amp; Char_counts with Random Forest</td>\n",
       "      <td>0.55</td>\n",
       "      <td>0.68</td>\n",
       "    </tr>\n",
       "    <tr>\n",
       "      <th>2</th>\n",
       "      <td>Diff_len &amp; Char_counts with XGBoost</td>\n",
       "      <td>0.55</td>\n",
       "      <td>0.68</td>\n",
       "    </tr>\n",
       "    <tr>\n",
       "      <th>3</th>\n",
       "      <td>Diff_len &amp; Tf-idf with Logistic Regression</td>\n",
       "      <td>0.58</td>\n",
       "      <td>0.65</td>\n",
       "    </tr>\n",
       "    <tr>\n",
       "      <th>4</th>\n",
       "      <td>Diff_len &amp; Tf-idf with Random Forest</td>\n",
       "      <td>0.56</td>\n",
       "      <td>0.67</td>\n",
       "    </tr>\n",
       "    <tr>\n",
       "      <th>5</th>\n",
       "      <td>Diff_len &amp; Tf-idf with XGBoost</td>\n",
       "      <td>0.55</td>\n",
       "      <td>0.67</td>\n",
       "    </tr>\n",
       "    <tr>\n",
       "      <th>6</th>\n",
       "      <td>Avg. Word Embeddings &amp; Neural Network</td>\n",
       "      <td>0.47</td>\n",
       "      <td>0.77</td>\n",
       "    </tr>\n",
       "    <tr>\n",
       "      <th>7</th>\n",
       "      <td>LSTM Architecture</td>\n",
       "      <td>0.45</td>\n",
       "      <td>0.77</td>\n",
       "    </tr>\n",
       "    <tr>\n",
       "      <th>8</th>\n",
       "      <td>CNN Architecture</td>\n",
       "      <td>0.43</td>\n",
       "      <td>0.79</td>\n",
       "    </tr>\n",
       "  </tbody>\n",
       "</table>\n",
       "</div>"
      ],
      "text/plain": [
       "                                             Model  Log Loss  Accuracy\n",
       "0  Diff_len & Char_counts with Logistic Regression      0.58      0.65\n",
       "1        Diff_len & Char_counts with Random Forest      0.55      0.68\n",
       "2              Diff_len & Char_counts with XGBoost      0.55      0.68\n",
       "3       Diff_len & Tf-idf with Logistic Regression      0.58      0.65\n",
       "4             Diff_len & Tf-idf with Random Forest      0.56      0.67\n",
       "5                   Diff_len & Tf-idf with XGBoost      0.55      0.67\n",
       "6            Avg. Word Embeddings & Neural Network      0.47      0.77\n",
       "7                                LSTM Architecture      0.45      0.77\n",
       "8                                 CNN Architecture      0.43      0.79"
      ]
     },
     "execution_count": 412,
     "metadata": {},
     "output_type": "execute_result"
    }
   ],
   "source": [
    "Summary_CS"
   ]
  },
  {
   "cell_type": "markdown",
   "metadata": {},
   "source": [
    "# Testing on Kaggle Test Set "
   ]
  },
  {
   "cell_type": "code",
   "execution_count": 44,
   "metadata": {
    "ExecuteTime": {
     "end_time": "2020-07-19T06:24:12.391502Z",
     "start_time": "2020-07-19T06:24:11.787978Z"
    }
   },
   "outputs": [],
   "source": [
    "test_df[\"question1\"] = test_df[\"question1\"].astype(str)\n",
    "test_df[\"question2\"] = test_df[\"question2\"].astype(str)"
   ]
  },
  {
   "cell_type": "code",
   "execution_count": 45,
   "metadata": {
    "ExecuteTime": {
     "end_time": "2020-07-19T06:29:09.578523Z",
     "start_time": "2020-07-19T06:24:14.292844Z"
    }
   },
   "outputs": [],
   "source": [
    "q1_test = test_df[\"question1\"].apply(clean_data)"
   ]
  },
  {
   "cell_type": "code",
   "execution_count": 46,
   "metadata": {
    "ExecuteTime": {
     "end_time": "2020-07-19T06:34:45.477522Z",
     "start_time": "2020-07-19T06:29:09.581515Z"
    }
   },
   "outputs": [],
   "source": [
    "q2_test = test_df[\"question2\"].apply(clean_data)"
   ]
  },
  {
   "cell_type": "code",
   "execution_count": 47,
   "metadata": {
    "ExecuteTime": {
     "end_time": "2020-07-19T06:38:41.031213Z",
     "start_time": "2020-07-19T06:34:45.479465Z"
    }
   },
   "outputs": [],
   "source": [
    "q1_stem_test = q1_test.apply(stem_words)\n",
    "#q2_stem_test = q2_test.apply(stem_words) "
   ]
  },
  {
   "cell_type": "code",
   "execution_count": 48,
   "metadata": {
    "ExecuteTime": {
     "end_time": "2020-07-19T06:42:34.348182Z",
     "start_time": "2020-07-19T06:38:41.033118Z"
    }
   },
   "outputs": [],
   "source": [
    "q2_stem_test = q2_test.apply(stem_words) "
   ]
  },
  {
   "cell_type": "code",
   "execution_count": 49,
   "metadata": {
    "ExecuteTime": {
     "end_time": "2020-07-19T06:42:34.415757Z",
     "start_time": "2020-07-19T06:42:34.349775Z"
    }
   },
   "outputs": [],
   "source": [
    "X_clean_test = pd.DataFrame({\"q1\":q1_stem_test, \"q2\":q2_stem_test})"
   ]
  },
  {
   "cell_type": "markdown",
   "metadata": {},
   "source": [
    "## Training on the complete data"
   ]
  },
  {
   "cell_type": "code",
   "execution_count": 50,
   "metadata": {
    "ExecuteTime": {
     "end_time": "2020-07-19T06:42:34.435693Z",
     "start_time": "2020-07-19T06:42:34.417319Z"
    }
   },
   "outputs": [],
   "source": [
    "Questions_train_all = pd.concat([X_clean[\"q1\"], X_clean[\"q2\"]], axis = 0)"
   ]
  },
  {
   "cell_type": "markdown",
   "metadata": {},
   "source": [
    "### Cosine Similarity "
   ]
  },
  {
   "cell_type": "code",
   "execution_count": 51,
   "metadata": {
    "ExecuteTime": {
     "end_time": "2020-07-19T06:43:52.361206Z",
     "start_time": "2020-07-19T06:42:34.437265Z"
    }
   },
   "outputs": [
    {
     "data": {
      "text/plain": [
       "CountVectorizer(analyzer='char', ngram_range=(2, 6))"
      ]
     },
     "execution_count": 51,
     "metadata": {},
     "output_type": "execute_result"
    }
   ],
   "source": [
    "count_vect_final = CountVectorizer(analyzer = \"char\", ngram_range = (2,6))\n",
    "count_vect_final.fit(Questions_train_all)"
   ]
  },
  {
   "cell_type": "code",
   "execution_count": 52,
   "metadata": {
    "ExecuteTime": {
     "end_time": "2020-07-19T06:52:48.766272Z",
     "start_time": "2020-07-19T06:43:52.364199Z"
    }
   },
   "outputs": [],
   "source": [
    "charc_q1_train_all = count_vect_final.transform(X_clean[\"q1\"])\n",
    "charc_q2_train_all = count_vect_final.transform(X_clean[\"q2\"])\n",
    "charc_q1_test_all = count_vect_final.transform(X_clean_test[\"q1\"])\n",
    "charc_q2_test_all = count_vect_final.transform(X_clean_test[\"q2\"])"
   ]
  },
  {
   "cell_type": "code",
   "execution_count": 56,
   "metadata": {
    "ExecuteTime": {
     "end_time": "2020-07-19T07:44:37.344595Z",
     "start_time": "2020-07-19T07:18:56.312303Z"
    }
   },
   "outputs": [],
   "source": [
    "cos_sim_train_final = cosine_sim(charc_q1_train_all, charc_q2_train_all)"
   ]
  },
  {
   "cell_type": "code",
   "execution_count": 57,
   "metadata": {
    "ExecuteTime": {
     "end_time": "2020-07-19T10:14:23.101619Z",
     "start_time": "2020-07-19T07:44:37.354601Z"
    }
   },
   "outputs": [],
   "source": [
    "cos_sim_test_final = cosine_sim(charc_q1_test_all, charc_q2_test_all)"
   ]
  },
  {
   "cell_type": "markdown",
   "metadata": {},
   "source": [
    "### Diff lengths "
   ]
  },
  {
   "cell_type": "code",
   "execution_count": 117,
   "metadata": {
    "ExecuteTime": {
     "end_time": "2020-07-19T15:56:10.813886Z",
     "start_time": "2020-07-19T15:56:10.257895Z"
    }
   },
   "outputs": [],
   "source": [
    "len1 = train_df[\"question1\"].apply(len)\n",
    "len2 = train_df[\"question2\"].apply(len)\n",
    "diff_len = np.abs(len1 - len2) "
   ]
  },
  {
   "cell_type": "code",
   "execution_count": 118,
   "metadata": {
    "ExecuteTime": {
     "end_time": "2020-07-19T15:56:12.844792Z",
     "start_time": "2020-07-19T15:56:12.769934Z"
    }
   },
   "outputs": [],
   "source": [
    "Features_train_all = pd.DataFrame({\"diff_len\": diff_len, \"cos_sim\": list(cos_sim_train_final)})"
   ]
  },
  {
   "cell_type": "code",
   "execution_count": 119,
   "metadata": {
    "ExecuteTime": {
     "end_time": "2020-07-19T15:56:22.793704Z",
     "start_time": "2020-07-19T15:56:19.347922Z"
    }
   },
   "outputs": [],
   "source": [
    "len1_test = test_df[\"question1\"].apply(len)\n",
    "len2_test = test_df[\"question2\"].apply(len)\n",
    "diff_len_test = np.abs(len1_test - len2_test) "
   ]
  },
  {
   "cell_type": "markdown",
   "metadata": {},
   "source": [
    "### Number of common words"
   ]
  },
  {
   "cell_type": "code",
   "execution_count": 214,
   "metadata": {
    "ExecuteTime": {
     "end_time": "2020-07-19T23:22:42.653269Z",
     "start_time": "2020-07-19T23:22:42.648282Z"
    }
   },
   "outputs": [],
   "source": [
    "def no_common_words(df):\n",
    "    ws1 = df[\"q1\"].split(\" \")\n",
    "    ws2 = df[\"q2\"].split(\" \")\n",
    "    intersects = set(ws1).intersection( set(ws2) )\n",
    "    unions = set(ws1).union( set(ws2) )\n",
    "    if unions == 0:\n",
    "        return 1\n",
    "    common_ratio = len(intersects)/len(unions)\n",
    "    return common_ratio"
   ]
  },
  {
   "cell_type": "code",
   "execution_count": 218,
   "metadata": {
    "ExecuteTime": {
     "end_time": "2020-07-19T23:24:46.354328Z",
     "start_time": "2020-07-19T23:24:37.432716Z"
    }
   },
   "outputs": [],
   "source": [
    "common_words = X_clean.apply(no_common_words, axis = 1)"
   ]
  },
  {
   "cell_type": "code",
   "execution_count": 219,
   "metadata": {
    "ExecuteTime": {
     "end_time": "2020-07-19T23:28:36.638757Z",
     "start_time": "2020-07-19T23:27:44.439668Z"
    }
   },
   "outputs": [],
   "source": [
    "common_words_test = X_clean_test.apply(no_common_words, axis = 1)"
   ]
  },
  {
   "cell_type": "markdown",
   "metadata": {
    "ExecuteTime": {
     "end_time": "2020-07-19T23:01:34.865800Z",
     "start_time": "2020-07-19T23:01:34.862540Z"
    }
   },
   "source": [
    "### Combining all the features"
   ]
  },
  {
   "cell_type": "code",
   "execution_count": 222,
   "metadata": {
    "ExecuteTime": {
     "end_time": "2020-07-19T23:32:37.675794Z",
     "start_time": "2020-07-19T23:32:37.662788Z"
    }
   },
   "outputs": [],
   "source": [
    "Features_train_all[\"common_words\"] = common_words"
   ]
  },
  {
   "cell_type": "code",
   "execution_count": null,
   "metadata": {},
   "outputs": [],
   "source": [
    "Features_test_all = pd.DataFrame({\"diff_len\": diff_len_test, \"cos_sim\": list(cos_sim_test_final)})"
   ]
  },
  {
   "cell_type": "code",
   "execution_count": 223,
   "metadata": {
    "ExecuteTime": {
     "end_time": "2020-07-19T23:33:02.369337Z",
     "start_time": "2020-07-19T23:33:02.358351Z"
    }
   },
   "outputs": [],
   "source": [
    "Features_test_all[\"common_words\"] = common_words_test"
   ]
  },
  {
   "cell_type": "code",
   "execution_count": 70,
   "metadata": {
    "ExecuteTime": {
     "end_time": "2020-07-19T14:51:30.767147Z",
     "start_time": "2020-07-19T14:49:33.863650Z"
    }
   },
   "outputs": [],
   "source": [
    "Features_test_all.to_csv(\"features_test_all.csv\", index  = False)"
   ]
  },
  {
   "cell_type": "code",
   "execution_count": 265,
   "metadata": {
    "ExecuteTime": {
     "end_time": "2020-07-20T04:17:43.251911Z",
     "start_time": "2020-07-20T04:17:41.207446Z"
    }
   },
   "outputs": [],
   "source": [
    "#Features_test_all = pd.read_csv(\"features_test_all.csv\")"
   ]
  },
  {
   "cell_type": "code",
   "execution_count": 278,
   "metadata": {
    "ExecuteTime": {
     "end_time": "2020-07-20T04:21:41.592328Z",
     "start_time": "2020-07-20T04:21:40.555590Z"
    }
   },
   "outputs": [],
   "source": [
    "#Features_test_all[\"cos_sim\"] = Features_test_all[\"cos_sim\"].apply(lambda x:float(x[1:-1]))"
   ]
  },
  {
   "cell_type": "markdown",
   "metadata": {},
   "source": [
    "## Data Preperation for the NN architecture"
   ]
  },
  {
   "cell_type": "code",
   "execution_count": 288,
   "metadata": {
    "ExecuteTime": {
     "end_time": "2020-07-20T05:29:10.683764Z",
     "start_time": "2020-07-20T05:29:10.679809Z"
    }
   },
   "outputs": [],
   "source": [
    "VOCAB_DIM = 60000\n",
    "SENTENCE_LEN = 90"
   ]
  },
  {
   "cell_type": "code",
   "execution_count": 289,
   "metadata": {
    "ExecuteTime": {
     "end_time": "2020-07-20T05:29:28.504467Z",
     "start_time": "2020-07-20T05:29:19.922753Z"
    }
   },
   "outputs": [
    {
     "name": "stdout",
     "output_type": "stream",
     "text": [
      "Vocabulary size: 61022\n"
     ]
    }
   ],
   "source": [
    "tokenizer_final = Tokenizer(num_words = VOCAB_DIM)\n",
    "tokenizer_final.fit_on_texts((Questions_train_all))\n",
    "word_index = tokenizer_final.word_index\n",
    "print('Vocabulary size:', len(word_index))"
   ]
  },
  {
   "cell_type": "code",
   "execution_count": 296,
   "metadata": {
    "ExecuteTime": {
     "end_time": "2020-07-20T05:34:27.070892Z",
     "start_time": "2020-07-20T05:34:27.065906Z"
    }
   },
   "outputs": [],
   "source": [
    "def filter_glove(vocab_dict, dim = 300, num_words = VOCAB_DIM):\n",
    "    embedding_matrix = np.zeros((num_words+1, dim))\n",
    "    for word, i in vocab_dict.items():\n",
    "        embedding_vector = get_glove_vec(word)\n",
    "        if i == VOCAB_DIM:\n",
    "            break;\n",
    "        embedding_matrix[i] = embedding_vector\n",
    "    return embedding_matrix"
   ]
  },
  {
   "cell_type": "code",
   "execution_count": 388,
   "metadata": {
    "ExecuteTime": {
     "end_time": "2020-07-20T22:50:07.645896Z",
     "start_time": "2020-07-20T22:49:58.678069Z"
    }
   },
   "outputs": [],
   "source": [
    "glove_matrix = filter_glove(tokenizer_final.word_index)"
   ]
  },
  {
   "cell_type": "code",
   "execution_count": 298,
   "metadata": {
    "ExecuteTime": {
     "end_time": "2020-07-20T05:35:26.109115Z",
     "start_time": "2020-07-20T05:34:51.286127Z"
    }
   },
   "outputs": [],
   "source": [
    "sequences_q1 = tokenizer_final.texts_to_sequences(X_clean[\"q1\"])\n",
    "sequences_q2 = tokenizer_final.texts_to_sequences(X_clean[\"q2\"])"
   ]
  },
  {
   "cell_type": "code",
   "execution_count": 299,
   "metadata": {
    "ExecuteTime": {
     "end_time": "2020-07-20T05:36:14.164218Z",
     "start_time": "2020-07-20T05:35:26.111064Z"
    }
   },
   "outputs": [],
   "source": [
    "sequences_test_q1 = tokenizer_final.texts_to_sequences(X_clean_test[\"q1\"])\n",
    "sequences_test_q2 = tokenizer_final.texts_to_sequences(X_clean_test[\"q2\"])"
   ]
  },
  {
   "cell_type": "code",
   "execution_count": 300,
   "metadata": {
    "ExecuteTime": {
     "end_time": "2020-07-20T05:36:16.484076Z",
     "start_time": "2020-07-20T05:36:14.165209Z"
    }
   },
   "outputs": [],
   "source": [
    "pad_q1 = pad_sequences(sequences_q1, maxlen = SENTENCE_LEN, padding = \"post\", value = 0)\n",
    "pad_q2 = pad_sequences(sequences_q2, maxlen = SENTENCE_LEN, padding = \"post\", value = 0)"
   ]
  },
  {
   "cell_type": "code",
   "execution_count": 301,
   "metadata": {
    "ExecuteTime": {
     "end_time": "2020-07-20T05:36:32.287100Z",
     "start_time": "2020-07-20T05:36:16.485658Z"
    }
   },
   "outputs": [],
   "source": [
    "pad_test_q1 = pad_sequences(sequences_test_q1, maxlen = SENTENCE_LEN, padding = \"post\", value = 0)\n",
    "pad_test_q2 = pad_sequences(sequences_test_q2, maxlen = SENTENCE_LEN, padding = \"post\", value = 0)"
   ]
  },
  {
   "cell_type": "code",
   "execution_count": 279,
   "metadata": {
    "ExecuteTime": {
     "end_time": "2020-07-20T04:21:52.361688Z",
     "start_time": "2020-07-20T04:21:52.197471Z"
    }
   },
   "outputs": [],
   "source": [
    "scaler = StandardScaler()\n",
    "scaler.fit(Features_train_all)\n",
    "Features_train_n = scaler.transform(Features_train_all)\n",
    "Features_test_n = scaler.transform(Features_test_all)"
   ]
  },
  {
   "cell_type": "code",
   "execution_count": 302,
   "metadata": {
    "ExecuteTime": {
     "end_time": "2020-07-20T05:37:10.567817Z",
     "start_time": "2020-07-20T05:37:10.561373Z"
    }
   },
   "outputs": [],
   "source": [
    "y_train = train_df[\"is_duplicate\"]"
   ]
  },
  {
   "cell_type": "markdown",
   "metadata": {},
   "source": [
    "### Testing the model "
   ]
  },
  {
   "cell_type": "code",
   "execution_count": 322,
   "metadata": {
    "ExecuteTime": {
     "end_time": "2020-07-20T21:28:52.564074Z",
     "start_time": "2020-07-20T21:28:52.556067Z"
    }
   },
   "outputs": [],
   "source": [
    "from sklearn.utils.class_weight import compute_class_weight"
   ]
  },
  {
   "cell_type": "code",
   "execution_count": 400,
   "metadata": {
    "ExecuteTime": {
     "end_time": "2020-07-21T03:15:11.195545Z",
     "start_time": "2020-07-21T02:23:50.666085Z"
    },
    "scrolled": true
   },
   "outputs": [
    {
     "name": "stdout",
     "output_type": "stream",
     "text": [
      "Train on 384075 samples, validate on 20215 samples\n",
      "Epoch 1/50\n",
      "384075/384075 [==============================] - 491s 1ms/step - loss: 0.2700 - acc: 0.8743 - val_loss: 0.4311 - val_acc: 0.8069\n",
      "Epoch 2/50\n",
      "384075/384075 [==============================] - 519s 1ms/step - loss: 0.2570 - acc: 0.8807 - val_loss: 0.4415 - val_acc: 0.8119\n",
      "Epoch 3/50\n",
      "384075/384075 [==============================] - 520s 1ms/step - loss: 0.2452 - acc: 0.8865 - val_loss: 0.4583 - val_acc: 0.8080\n",
      "Epoch 4/50\n",
      "384075/384075 [==============================] - 519s 1ms/step - loss: 0.2389 - acc: 0.8892 - val_loss: 0.4486 - val_acc: 0.8182\n",
      "Epoch 5/50\n",
      "384075/384075 [==============================] - 516s 1ms/step - loss: 0.2315 - acc: 0.8928 - val_loss: 0.4572 - val_acc: 0.8201\n",
      "Epoch 6/50\n",
      "384075/384075 [==============================] - 516s 1ms/step - loss: 0.2237 - acc: 0.8965 - val_loss: 0.4763 - val_acc: 0.8215\n"
     ]
    },
    {
     "data": {
      "text/plain": [
       "<keras.callbacks.callbacks.History at 0x253f9f9ac08>"
      ]
     },
     "execution_count": 400,
     "metadata": {},
     "output_type": "execute_result"
    }
   ],
   "source": [
    "cnn_model.fit([pad_q1,pad_q2,Features_train_n], y_train, validation_split = 0.05 ,  epochs=50, batch_size=1024, shuffle=True , callbacks = [early_stopping])"
   ]
  },
  {
   "cell_type": "code",
   "execution_count": 396,
   "metadata": {
    "ExecuteTime": {
     "end_time": "2020-07-21T01:26:53.544793Z",
     "start_time": "2020-07-21T01:26:53.510868Z"
    }
   },
   "outputs": [],
   "source": [
    "preds_test[preds_test > 0.99] = 0.99\n",
    "preds_test[preds_test < 0.01] = 0.01"
   ]
  },
  {
   "cell_type": "code",
   "execution_count": 395,
   "metadata": {
    "ExecuteTime": {
     "end_time": "2020-07-21T01:26:53.508873Z",
     "start_time": "2020-07-21T01:04:15.291906Z"
    }
   },
   "outputs": [],
   "source": [
    "preds_test = cnn_model.predict([pad_test_q1,pad_test_q2,Features_test_n])[:,0];"
   ]
  },
  {
   "cell_type": "code",
   "execution_count": 397,
   "metadata": {
    "ExecuteTime": {
     "end_time": "2020-07-21T01:27:01.847346Z",
     "start_time": "2020-07-21T01:26:53.546788Z"
    }
   },
   "outputs": [],
   "source": [
    "submission = pd.DataFrame({\"test_id\":test_df[\"test_id\"], \"is_duplicate\":preds_test})"
   ]
  },
  {
   "cell_type": "code",
   "execution_count": 398,
   "metadata": {
    "ExecuteTime": {
     "end_time": "2020-07-21T01:27:05.769775Z",
     "start_time": "2020-07-21T01:27:01.848337Z"
    }
   },
   "outputs": [],
   "source": [
    "submission.to_csv(\"cnn_submission5.csv\",index = False)"
   ]
  },
  {
   "cell_type": "code",
   "execution_count": 399,
   "metadata": {
    "ExecuteTime": {
     "end_time": "2020-07-21T02:21:03.193108Z",
     "start_time": "2020-07-21T02:21:03.187125Z"
    }
   },
   "outputs": [],
   "source": [
    "import xgboost as xgb"
   ]
  },
  {
   "cell_type": "code",
   "execution_count": null,
   "metadata": {},
   "outputs": [],
   "source": [
    "params = {}\n",
    "params['objective'] = 'binary:logistic'\n",
    "params['eval_metric'] = 'logloss'\n",
    "params['eta'] = 0.02\n",
    "params['max_depth'] = 4\n",
    "\n",
    "d_train = xgb.DMatrix(x_train, label=y_train)\n",
    "d_valid = xgb.DMatrix(x_valid, label=y_valid)\n",
    "\n",
    "watchlist = [(d_train, 'train'), (d_valid, 'valid')]\n",
    "\n",
    "bst = xgb.train(params, d_train, 400, watchlist, early_stopping_rounds=50, verbose_eval=10)"
   ]
  }
 ],
 "metadata": {
  "kernelspec": {
   "display_name": "Python 3",
   "language": "python",
   "name": "python3"
  },
  "language_info": {
   "codemirror_mode": {
    "name": "ipython",
    "version": 3
   },
   "file_extension": ".py",
   "mimetype": "text/x-python",
   "name": "python",
   "nbconvert_exporter": "python",
   "pygments_lexer": "ipython3",
   "version": "3.7.6"
  },
  "toc": {
   "base_numbering": 1,
   "nav_menu": {},
   "number_sections": true,
   "sideBar": true,
   "skip_h1_title": false,
   "title_cell": "Table of Contents",
   "title_sidebar": "Contents",
   "toc_cell": false,
   "toc_position": {
    "height": "calc(100% - 180px)",
    "left": "10px",
    "top": "150px",
    "width": "218.021px"
   },
   "toc_section_display": true,
   "toc_window_display": true
  }
 },
 "nbformat": 4,
 "nbformat_minor": 4
}
